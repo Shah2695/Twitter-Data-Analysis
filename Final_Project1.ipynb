{
 "cells": [
  {
   "cell_type": "code",
   "execution_count": 1,
   "metadata": {
    "collapsed": true
   },
   "outputs": [],
   "source": [
    "import pandas as pd\n",
    "data = pd.read_table('clinton_trump_tweets.txt', encoding = 'ISO-8859-1', header=None)\n",
    "data.columns = [\"Name\", \"ScreenName\", \"UserID\", \"FollowersCount\", \"FriendsCount\", \"Location\", \"Description\", \"CreatedAt\", \"StatusID\", \"Language\", \"Place\", \"RetweetCount\", \"FavoriteCount\", \"Text\"]\n"
   ]
  },
  {
   "cell_type": "code",
   "execution_count": 2,
   "metadata": {
    "collapsed": true
   },
   "outputs": [],
   "source": [
    "cleaned_data = data[~data.Text.str.startswith('RT')]"
   ]
  },
  {
   "cell_type": "code",
   "execution_count": 3,
   "metadata": {},
   "outputs": [
    {
     "data": {
      "text/plain": [
       "164797"
      ]
     },
     "execution_count": 3,
     "metadata": {},
     "output_type": "execute_result"
    }
   ],
   "source": [
    "len(cleaned_data.UserID.unique())"
   ]
  },
  {
   "cell_type": "code",
   "execution_count": 4,
   "metadata": {
    "collapsed": true
   },
   "outputs": [],
   "source": [
    "df = cleaned_data.iloc[:,[2,13]]"
   ]
  },
  {
   "cell_type": "code",
   "execution_count": 5,
   "metadata": {},
   "outputs": [
    {
     "name": "stdout",
     "output_type": "stream",
     "text": [
      "2416530\n"
     ]
    }
   ],
   "source": [
    "print(len(df))"
   ]
  },
  {
   "cell_type": "code",
   "execution_count": 6,
   "metadata": {},
   "outputs": [
    {
     "name": "stdout",
     "output_type": "stream",
     "text": [
      "2416530\n"
     ]
    }
   ],
   "source": [
    "print(len(cleaned_data))"
   ]
  },
  {
   "cell_type": "code",
   "execution_count": 7,
   "metadata": {
    "collapsed": true
   },
   "outputs": [],
   "source": [
    "groupeddf = df.groupby('UserID').agg(sum).reset_index()"
   ]
  },
  {
   "cell_type": "code",
   "execution_count": 8,
   "metadata": {
    "collapsed": true
   },
   "outputs": [],
   "source": [
    "def split_tweets(tweet):\n",
    "    listOfSplitedTweets = []\n",
    "    listOfSplitedTweets=[t for t in tweet.split() if t.startswith('#') or t.startswith('@')]\n",
    "    return listOfSplitedTweets\n"
   ]
  },
  {
   "cell_type": "code",
   "execution_count": 9,
   "metadata": {
    "collapsed": true
   },
   "outputs": [],
   "source": [
    "groupeddf['HashtagHandles'] = groupeddf.Text.apply(split_tweets)"
   ]
  },
  {
   "cell_type": "code",
   "execution_count": 10,
   "metadata": {},
   "outputs": [
    {
     "data": {
      "text/plain": [
       "(164797, 3)"
      ]
     },
     "execution_count": 10,
     "metadata": {},
     "output_type": "execute_result"
    }
   ],
   "source": [
    "groupeddf.shape"
   ]
  },
  {
   "cell_type": "code",
   "execution_count": 11,
   "metadata": {
    "collapsed": true
   },
   "outputs": [],
   "source": [
    "groupeddf_1 = groupeddf[groupeddf.HashtagHandles.str.len()!=0]"
   ]
  },
  {
   "cell_type": "code",
   "execution_count": 12,
   "metadata": {
    "collapsed": true
   },
   "outputs": [],
   "source": [
    "def distinct_tweets(hashtaghandles):\n",
    "    return list(set(hashtaghandles))"
   ]
  },
  {
   "cell_type": "code",
   "execution_count": 13,
   "metadata": {},
   "outputs": [
    {
     "name": "stderr",
     "output_type": "stream",
     "text": [
      "C:\\Users\\jinali\\Anaconda3\\lib\\site-packages\\ipykernel_launcher.py:1: SettingWithCopyWarning: \n",
      "A value is trying to be set on a copy of a slice from a DataFrame.\n",
      "Try using .loc[row_indexer,col_indexer] = value instead\n",
      "\n",
      "See the caveats in the documentation: http://pandas.pydata.org/pandas-docs/stable/indexing.html#indexing-view-versus-copy\n",
      "  \"\"\"Entry point for launching an IPython kernel.\n"
     ]
    }
   ],
   "source": [
    "groupeddf_1['DistinctHashtagHandles'] = groupeddf_1.HashtagHandles.apply(distinct_tweets)"
   ]
  },
  {
   "cell_type": "code",
   "execution_count": 14,
   "metadata": {
    "collapsed": true
   },
   "outputs": [],
   "source": [
    "groupeddf_2 = groupeddf_1[groupeddf_1.DistinctHashtagHandles.str.len()>=20]"
   ]
  },
  {
   "cell_type": "code",
   "execution_count": 15,
   "metadata": {},
   "outputs": [
    {
     "data": {
      "text/plain": [
       "(13811, 4)"
      ]
     },
     "execution_count": 15,
     "metadata": {},
     "output_type": "execute_result"
    }
   ],
   "source": [
    "groupeddf_2.shape"
   ]
  },
  {
   "cell_type": "code",
   "execution_count": 16,
   "metadata": {
    "collapsed": true
   },
   "outputs": [],
   "source": [
    "AllHashtagHandles = []\n",
    "for list1 in groupeddf_2.DistinctHashtagHandles:\n",
    "    for i in list1:\n",
    "        AllHashtagHandles.append(i)"
   ]
  },
  {
   "cell_type": "code",
   "execution_count": 17,
   "metadata": {},
   "outputs": [
    {
     "name": "stdout",
     "output_type": "stream",
     "text": [
      "738474\n"
     ]
    }
   ],
   "source": [
    "print(len(AllHashtagHandles))"
   ]
  },
  {
   "cell_type": "code",
   "execution_count": 18,
   "metadata": {
    "collapsed": true
   },
   "outputs": [],
   "source": [
    "import numpy as np\n",
    "CountHashtagHandles = {}\n",
    "arrayAllHashtagHandles = np.array(AllHashtagHandles)\n",
    "CountHashtagHandles = np.unique(arrayAllHashtagHandles, return_counts=True)"
   ]
  },
  {
   "cell_type": "code",
   "execution_count": 19,
   "metadata": {},
   "outputs": [
    {
     "data": {
      "text/plain": [
       "array([611,   2,   1, ...,   1,   1,   1], dtype=int64)"
      ]
     },
     "execution_count": 19,
     "metadata": {},
     "output_type": "execute_result"
    }
   ],
   "source": [
    "CountHashtagHandles[1]"
   ]
  },
  {
   "cell_type": "code",
   "execution_count": 20,
   "metadata": {
    "collapsed": true
   },
   "outputs": [],
   "source": [
    "popularHashtagHandles = []\n",
    "for i in range(0,len(CountHashtagHandles[1])):\n",
    "        if (CountHashtagHandles[1][i] >= 20):\n",
    "            popularHashtagHandles.append(CountHashtagHandles[0][i])"
   ]
  },
  {
   "cell_type": "code",
   "execution_count": 21,
   "metadata": {},
   "outputs": [
    {
     "data": {
      "text/plain": [
       "436038"
      ]
     },
     "execution_count": 21,
     "metadata": {},
     "output_type": "execute_result"
    }
   ],
   "source": [
    "len(CountHashtagHandles[1])"
   ]
  },
  {
   "cell_type": "code",
   "execution_count": 22,
   "metadata": {},
   "outputs": [
    {
     "data": {
      "text/plain": [
       "2338"
      ]
     },
     "execution_count": 22,
     "metadata": {},
     "output_type": "execute_result"
    }
   ],
   "source": [
    "len(popularHashtagHandles)"
   ]
  },
  {
   "cell_type": "code",
   "execution_count": 23,
   "metadata": {
    "collapsed": true
   },
   "outputs": [],
   "source": [
    "def get_popular_hashtaghandles(DistinctHashtagHandles):\n",
    "    ListFinalHashtagHandles = []\n",
    "    for i in DistinctHashtagHandles:\n",
    "        if (i in popularHashtagHandles):\n",
    "            ListFinalHashtagHandles.append(i)\n",
    "    return ListFinalHashtagHandles"
   ]
  },
  {
   "cell_type": "code",
   "execution_count": 24,
   "metadata": {},
   "outputs": [
    {
     "name": "stderr",
     "output_type": "stream",
     "text": [
      "C:\\Users\\jinali\\Anaconda3\\lib\\site-packages\\ipykernel_launcher.py:1: SettingWithCopyWarning: \n",
      "A value is trying to be set on a copy of a slice from a DataFrame.\n",
      "Try using .loc[row_indexer,col_indexer] = value instead\n",
      "\n",
      "See the caveats in the documentation: http://pandas.pydata.org/pandas-docs/stable/indexing.html#indexing-view-versus-copy\n",
      "  \"\"\"Entry point for launching an IPython kernel.\n"
     ]
    }
   ],
   "source": [
    "groupeddf_2['PopularHashtagHandles'] = groupeddf_2.DistinctHashtagHandles.apply(get_popular_hashtaghandles)"
   ]
  },
  {
   "cell_type": "code",
   "execution_count": 25,
   "metadata": {},
   "outputs": [
    {
     "data": {
      "text/plain": [
       "(13811, 5)"
      ]
     },
     "execution_count": 25,
     "metadata": {},
     "output_type": "execute_result"
    }
   ],
   "source": [
    "groupeddf_2.shape"
   ]
  },
  {
   "cell_type": "code",
   "execution_count": 26,
   "metadata": {
    "collapsed": true
   },
   "outputs": [],
   "source": [
    "groupeddf_3 = groupeddf_2[groupeddf_2.PopularHashtagHandles.str.len()>=20]"
   ]
  },
  {
   "cell_type": "code",
   "execution_count": 27,
   "metadata": {},
   "outputs": [
    {
     "data": {
      "text/plain": [
       "(2278, 5)"
      ]
     },
     "execution_count": 27,
     "metadata": {},
     "output_type": "execute_result"
    }
   ],
   "source": [
    "groupeddf_3.shape"
   ]
  },
  {
   "cell_type": "code",
   "execution_count": 28,
   "metadata": {
    "collapsed": true
   },
   "outputs": [],
   "source": [
    "ListofHashtagHandles = []\n",
    "for i in groupeddf_3.PopularHashtagHandles:\n",
    "    str1 = ' '.join(i)\n",
    "    ListofHashtagHandles.append(str1)\n",
    "    "
   ]
  },
  {
   "cell_type": "code",
   "execution_count": 29,
   "metadata": {},
   "outputs": [
    {
     "name": "stdout",
     "output_type": "stream",
     "text": [
      "<class 'scipy.sparse.csr.csr_matrix'>\n",
      "[[1 0 0 ..., 0 0 0]\n",
      " [0 0 0 ..., 0 0 0]\n",
      " [0 0 0 ..., 0 0 0]\n",
      " ..., \n",
      " [0 0 0 ..., 0 0 0]\n",
      " [0 0 0 ..., 0 0 0]\n",
      " [0 0 0 ..., 0 0 0]]\n",
      "['0hour1__', '10', '100percfedup', '12', '1a', '2016', '20committee', '2a', '2alaw', '_makada_', 'abc', 'abcnetwork', 'abcnews', 'abcpolitics', 'abortion', 'ac360', 'aca', 'aclu', 'acosta', 'actualflatticus', 'ad', 'adamparkhomenko', 'adamsflafan', 'adele', 'adoptdontshop', 'aduanebrown', 'advertising', 'afghanistan', 'aflcio', 'afneil', 'africa', 'agentsofshield', 'ahsfx', 'ahsroanoke', 'ai', 'airbnb', 'ajdelgado13', 'ajenews', 'ajenglish', 'alasscan_', 'alecbaldwin', 'aleppo', 'algiordano', 'aliciakeys', 'alivitali', 'allahpundit', 'allanbrauer', 'allenwest', 'allinwithchris', 'alllibertynews', 'alllivesmatter', 'alternet', 'altright', 'always_trump', 'amandacarpenter', 'amas', 'amazon', 'amazongiveaway', 'america', 'americafirst', 'american', 'americanair', 'americanmex067', 'americans', 'amjoy', 'amjoyshow', 'amlookout', 'amreading', 'amwriting', 'amymek', 'amyschumer', 'analytics', 'anamariecox', 'ananavarro', 'andersoncooper', 'andieiamwhoiam', 'android', 'andy', 'angela_rye', 'animals', 'anncoulter', 'anomaly1', 'anonymous', 'anthonyweiner', 'anushkasharma', 'ap', 'ap_politics', 'app', 'apple', 'appleevent', 'applemusic', 'appsame', 'ar', 'aravosis', 'architecture', 'ariberman', 'arimelber', 'arizona', 'armandodkos', 'army', 'art', 'artist', 'arvindkejriwal', 'asamjulian', 'aseitzwald', 'assad', 'assange', 'atensnut', 'aterkel', 'atlanta', 'atlasobscura', 'atrupar', 'att', 'auspol', 'austan_goolsbee', 'australia', 'australian', 'author', 'autism', 'autumn', 'avaetc', 'awesome', 'ayaan', 'az', 'azcentral', 'b2b', 'bakari_sellers', 'bakedalaska', 'balsamhill', 'bannerite', 'barackobama', 'barbmuenchen', 'barstoolbigcat', 'barstoolsports', 'baseball', 'baseballbands', 'basketball', 'basketofdeplorables', 'baueroutage', 'bbc', 'bbcbreaking', 'bbcnews', 'bbcqt', 'bbcworld', 'bbhuttozardari', 'bbott', 'bdutt', 'beach', 'beautiful', 'beauty', 'beer', 'beforetheflood', 'beladonnarogers', 'bencjacobs', 'bengals', 'benghazi', 'benhowe', 'benshapiro', 'bernie', 'berniesanders', 'betsy_mccaughey', 'beyonce', 'bfraser747', 'bfriedmandc', 'bi_politics', 'biden', 'bigboater88', 'bigdata', 'bikers4trump', 'billboard', 'billclinton', 'billhemmer', 'billkristol', 'billmaher', 'billmoyershq', 'billmurray', 'billpostmus', 'bills', 'bipartisan', 'birthday', 'bitcoin', 'biz', 'bizpacreview', 'bjp4india', 'black', 'blackcatday', 'blacklivesmatter', 'blackmirror', 'blacks4trump', 'blacksfortrump', 'blakehounshell', 'bleacherreport', 'blessed', 'blm', 'blockchain', 'blog', 'blogging', 'bluelivesmatter', 'bluewave', 'bluewave2016', 'book', 'books', 'borisep', 'borisjohnson', 'borowitzreport', 'boston', 'bostonglobe', 'boycotkochbros', 'boycottkellyfile', 'bpolitics', 'braddjaffy', 'brand', 'branding', 'bravotv', 'breakfast', 'breaking', 'breastcancer', 'breitbartnews', 'bretbaier', 'brexit', 'brianbeutler', 'brianefallon', 'brianstelter', 'brithume', 'broncos', 'browns', 'brunelldonald', 'buck', 'buffalobills', 'buildthewall', 'business', 'businessinsider', 'businessthe', 'buzzfeed', 'buzzfeedben', 'buzzfeednews', 'bv', 'bw', 'byronyork', 'c0nvey', 'c0nveyi', 'c0nveythe', 'ca', 'cafreeland', 'cajunkangaroo', 'calais', 'california', 'callisto1947', 'canada', 'cancer', 'candacesmith_', 'capehartj', 'career', 'carlbernstein', 'carlosdanger', 'carminezozzora', 'carolde', 'carpoolkaraoke', 'cassandrarules', 'cat', 'catholic', 'cats', 'catsofinstagram', 'caturday', 'cavs', 'cbcnews', 'cbs', 'cbsboston', 'cbslocal', 'cbsnews', 'cbspolitics', 'cbssports', 'cbsthismorning', 'ccot', 'cdnpoli', 'ceo', 'cernovich', 'ceta', 'chaffetz', 'change', 'charleshurt', 'charlesmblow', 'charliekirk11', 'chelseaclinton', 'chelseahandler', 'cher', 'cherokeesher2', 'chicago', 'chicagocubs', 'chicagotribune', 'children', 'china', 'chinese', 'chocolate', 'chrischristie', 'chriscuomo', 'chrislhayes', 'chrisstirewalt', 'christian', 'christians', 'christichat', 'christiec733', 'christinawilkie', 'christmas', 'chucknellis', 'chucktodd', 'chuckwoolery', 'cia', 'ckluber', 'cle', 'clemson', 'cleveland', 'clevelandagainsttheworld', 'clewandowski_', 'climate', 'climatechange', 'clinton', 'clintoncash', 'clintoncorruption', 'clintoncrimefamily', 'clintonemails', 'clintonemailscandal', 'clintonfdn', 'clintonfoundation', 'clintonkaine', 'clintonkaine2016', 'clintons', 'clintonscandals', 'cloud', 'cnbc', 'cnn', 'cnnbrk', 'cnni', 'cnnmoney', 'cnnpolitics', 'cnnsitroom', 'cnntonight', 'co_rapunzel4', 'coffee', 'col_nj', 'college', 'colorado', 'colvinj', 'comedy', 'comey', 'comeyresign', 'community', 'competition', 'congress', 'conservative', 'constitution', 'content', 'contentmarketing', 'contest', 'cooking', 'correctrecord', 'corrupt', 'corruptclintons', 'corrupthillary', 'corruption', 'corruptmedia', 'cortessteve', 'cosproject', 'costareports', 'costume', 'cowboys', 'cowboysnation', 'crampell', 'creative', 'credomobile', 'criminal', 'cristinalaila1', 'crooked', 'crookedhillary', 'crookedmedia', 'crooksandliars', 'cspanwj', 'ctl', 'cubbies', 'cubs', 'cubsvsindians', 'culture', 'curtishouck', 'cvpayne', 'cx', 'cybersecurity', 'dailycaller', 'dailykos', 'dailymail', 'dailymirror', 'dailynewsbin', 'dailysignal', 'dak', 'dakotaaccesspipeline', 'dallas', 'dallascowboys', 'danabashcnn', 'danaperino', 'danmericacnn', 'danney_williams', 'danpfeiffer', 'danscavino', 'dapl', 'darhuddleston', 'darrellissa', 'darren32895836', 'darrenrovell', 'darth', 'data', 'datrumpnation1', 'daveweigel', 'davidafrench', 'davidaxelrod', 'davidcorndc', 'davidfrum', 'davidjo52951945', 'davidplouffe', 'davidpsdem', 'dc', 'dcexaminer', 'ddale8', 'deadline', 'deadspin', 'dealmein', 'debate', 'debates', 'debbiemacomber', 'deborahrossnc', 'debramessing', 'deckyourhalls', 'deejay90192', 'defendtheland', 'delta', 'democracy', 'democracynow', 'democrat', 'democrat_4trump', 'democratic', 'democrats', 'dems', 'deplorable', 'deplorablecbtp', 'deplorables', 'deray', 'design', 'detroit', 'devlinbarrett', 'dhecei', 'dhsgov', 'diamondandsilk', 'digital', 'dineshdsouza', 'disney', 'dissentingj', 'diversity', 'diwali', 'diy', 'dklaidman', 'dmartosko', 'dmregister', 'dnc', 'docrocktex26', 'doctorstrange', 'dog', 'dogs', 'doj', 'donaldjtrumpjr', 'donaldtrump', 'donlemon', 'donnabrazile', 'donthecon', 'doubledrizz', 'douglaseschoen', 'douthatnyt', 'doyourjob', 'draftourdaughters', 'draintheswamp', 'drake', 'drjillstein', 'drmartyfox', 'drudge', 'drudge_report', 'dumptrump', 'dwstweets', 'dwyanewade', 'dylanbyers', 'eagles', 'earlyvoting', 'earthquake', 'ebay', 'ebaycheck', 'eclecticbrotha', 'ecommerce', 'economy', 'ecowatch', 'edballs', 'edchat', 'edhenry', 'edtech', 'education', 'eileendefreest', 'ejdionne', 'ejlandwehr', 'election', 'election2016', 'electionday', 'electionfraud', 'elections2016', 'elizabethforma', 'ellemagazine', 'elonmusk', 'email', 'emails', 'emailscandal', 'energy', 'entheosshines', 'entrepreneur', 'entrepreneurs', 'environment', 'equality', 'ericboehlert', 'ericbolling', 'erictrump', 'erikwemple', 'es_snipes', 'esotericcd', 'espn', 'espnnfl', 'esqpolitics', 'esquire', 'etsy', 'eu', 'europe', 'evan_mcmullin', 'evanmcmullin', 'evanperez', 'ew', 'ewerickson', 'exercise', 'eyes_of_justice', 'ezraklein', 'ezralevant', 'f1', 'facebook', 'facethenation', 'fahrenthold', 'fail', 'fall', 'family', 'fashion', 'fastcompany', 'fawfulfan', 'fbi', 'fbireopenscase', 'fdrlst', 'fec', 'feelthebern', 'femalesfortrump', 'feminism', 'ff', 'fightowensfight', 'film', 'fintech', 'firecomey', 'fitness', 'fivethirtyeight', 'fl', 'fladems', 'flashbackfriday', 'flgovscott', 'flipitdem', 'florida', 'flotus', 'flsen', 'flsendebate', 'flyeaglesfly', 'flythew', 'food', 'foodie', 'football', 'forbes', 'forecasterenten', 'fortunemagazine', 'foxandfriends', 'foxbusiness', 'foxnews', 'foxnewsinsider', 'foxnewspolitics', 'foxnewspoll', 'foxnewssunday', 'foxsports', 'foxtv', 'fracking', 'france', 'franklin_graham', 'frankluntz', 'frankrichny', 'frankthorp', 'fraud', 'free', 'freebeacon', 'freedom', 'friday', 'fridayfeeling', 'friends', 'fs1', 'fsu', 'ft', 'fullfrontalsamb', 'fun', 'funder', 'funny', 'fusion', 'future', 'ga', 'gabrielsherman', 'gaetasusan', 'gaming', 'garylineker', 'gatewaypundit', 'gbbo', 'gbbofinal', 'gdebenedetti', 'gehrig38', 'gender', 'genflynn', 'georgesoros', 'georgetakei', 'georgia', 'geraldorivera', 'germany', 'ggreenwald', 'gh', 'giants', 'gift', 'gilmoregirls', 'girlsreallyrule', 'giveaway', 'glennbeck', 'glennkesslerwp', 'glennthrush', 'globalnews', 'globeandmail', 'gloriaborger', 'gma', 'goals', 'goblue', 'gocubs', 'gocubsgo', 'god', 'godawgs', 'gofundme', 'gohillary', 'gold', 'goldengateblond', 'google', 'gop', 'gotribe', 'gotv', 'government', 'govgaryjohnson', 'govhowarddean', 'govmikehuckabee', 'govpencein', 'gqmagazine', 'grabyourwallet', 'gratitude', 'greatdismal', 'greeneyes0084', 'gregabbott_tx', 'greggutfeld', 'greta', 'gstephanopoulos', 'guardian', 'guypbenson', 'hadas_gold', 'hagoodmanauthor', 'haiti', 'halliejackson', 'hallmarkchannel', 'halloweekend', 'halloween', 'halloween2016', 'halloweencostume', 'halloweenthe', 'hamilton', 'hamiltonmusical', 'handmade', 'hannity', 'happiness', 'happyhalloween', 'hardball', 'hardballchris', 'harlan', 'harrisfaulkner', 'harrypotter', 'hatchact', 'hbo', 'health', 'healthcare', 'healthy', 'heathrow', 'hectormorenco', 'heerjeet', 'heismanhouse', 'hereiamwithher', 'heytammybruce', 'hfa', 'hiac', 'hiaci', 'highered', 'hillary', 'hillary2016', 'hillary4prison', 'hillaryclinton', 'hillaryemail', 'hillaryemails', 'hillaryemailscandal', 'hillaryforprison', 'hillaryforprison2016', 'hillarys', 'hillarysamerica', 'hillarysarmy', 'hillarysbullies', 'hillarysemail', 'hillarysemails', 'hillaryshealth', 'hillbullies', 'hillyes', 'hiphop', 'history', 'hiv', 'hocuspocus', 'holiday', 'hollywood', 'home', 'hope', 'horror', 'hotlinejosh', 'housecracka', 'housegop', 'howardkurtz', 'howardstern', 'hr', 'hrc', 'hrtablaze', 'hrw', 'htgawm', 'httr', 'httweets', 'huffingtonpost', 'huffpostblog', 'huffpostpol', 'huffpostpolthe', 'huffpostpoltrump', 'hughhewitt', 'huma', 'humaabedin', 'humanrights', 'hypocrisy', 'iamsambee', 'ibmwatson', 'ibmwow', 'iceland', 'iheartradio', 'imillhiser', 'immigrant4trump', 'immigration', 'imrankhanpti', 'imwither', 'imwithher', 'imwithher2016', 'inc', 'incindia', 'independent', 'india', 'indians', 'infowars', 'ingrahamangle', 'inners', 'innovation', 'inspiration', 'instagram', 'insurance', 'intelligencer', 'iot', 'iowa', 'iran', 'iraq', 'ireland', 'irs', 'isikoff', 'isis', 'islam', 'israel', 'it', 'italians4trump', 'italy', 'italyearthquake', 'itunes', 'itvnews', 'ivankatrump', 'jack', 'jackposobiec', 'jaguars', 'jaketapper', 'jamescomey', 'jamescomeyfbi', 'jameshohmann', 'jamesokeefeiii', 'jamesrosenfnc', 'janemayernyer', 'jaredwyand', 'jasoninthehouse', 'jasonmillerindc', 'jbaker31826004', 'jbarro', 'jbouie', 'jdelreal', 'jdmorgan', 'jebbush', 'jeffersonobama', 'jeffflake', 'jeffpearlman', 'jeffpeguescbs', 'jeffreytoobin', 'jeffzeleny', 'jeisrael', 'jeneps', 'jengranholm', 'jengriffinfnc', 'jenniferjjacobs', 'jeremycorbyn', 'jerseyj0e', 'jesserodriguez', 'jesus', 'jewelry', 'jheil', 'jillnothill', 'jillstein', 'jimmiejohnson', 'jimmykimmel', 'jimsciutto', 'jjauthor', 'jk_rowling', 'jkcorden', 'jlo', 'jmartnyt', 'jmpalmieri', 'joanwalsh', 'job', 'jobs', 'joebiden', 'joeconason', 'joenbc', 'johnfugelsang', 'johnjharwood', 'johnkasich', 'johnkerry', 'johnkingcnn', 'johnkstahlusa', 'johnpodesta', 'jokerslive', 'jonahnro', 'jonathanchait', 'jonfavs', 'jordanchariton', 'joshrogin', 'joshtpm', 'joshuagreen', 'journalism', 'joyannreid', 'jpodhoretz', 'jrubinblogger', 'jtimberlake', 'juddapatow', 'juddlegum', 'judgejeanine', 'judgenap', 'judicialwatch', 'julianassange_', 'julieroginsky', 'just_a_texan', 'justice', 'justinjm1', 'justintrudeau', 'justsaying', 'kaepernick7', 'kanyewest', 'karanjohar', 'karlrove', 'karma', 'karoli', 'kasie', 'katherinemiller', 'kathleen_wynne', 'katiecouric', 'katiemcgintypa', 'katiepavlich', 'katrinapierson', 'katyperry', 'katyturnbc', 'kayleighmcenany', 'kazmierskir', 'kdtrey5', 'kedronbardwell', 'keepamergr8', 'keitholbermann', 'keithrowland', 'kellyannepolls', 'kellyayotte', 'kellyfile', 'kenloachsixteen', 'kennedynation', 'kerpen', 'kevindarryl', 'kfile', 'khanoisseur', 'kharyp', 'kids', 'killoughcnn', 'kimdotcom', 'kimguilfoyle', 'kimstrassel', 'kingjames', 'kira_lerner', 'knicks', 'knp2bp', 'kotcha301', 'krauthammer', 'kris_sacrebleu', 'kschwarb12', 'kthopkins', 'ktumulty', 'kurteichenwald', 'kurtschlichter', 'kwelkernbc', 'kylegriffin1', 'la', 'ladygaga', 'lakers', 'laraleatrump', 'larryelder', 'larrysabato', 'lasvegas', 'latimes', 'latinaafortrump', 'latinos', 'lauren_southern', 'law', 'law_newz', 'lawrence', 'lbc', 'leadership', 'leahr77', 'leahrboss', 'lechatnoire4', 'lee_in_iowa', 'leodicaprio', 'lesdoggg', 'lesliemarshall', 'leslieodomjr', 'letsgo', 'lfc', 'lgbt', 'lgbtq', 'liar', 'libdems', 'liberal', 'liberals', 'lies', 'life', 'lifezette', 'lilyallen', 'lin_manuel', 'lindasuhler', 'lindseygrahamsc', 'linkedin', 'lisamarieboothe', 'live', 'liz_wheeler', 'lizwfb', 'lockherup', 'lodisilverado', 'lol', 'lolgop', 'london', 'lorettalynch', 'loser', 'loudobbs', 'louisemensch', 'love', 'loveghirardelli', 'lovetrumpshate', 'lrihendry', 'ludacristiano', 'luxury', 'maajidnawaz', 'macbookpro', 'madampresident', 'maddow', 'maddowblog', 'madonna', 'maga', 'maga3x', 'maggie_hassan', 'maggienyt', 'maggyw519', 'magnifier661', 'mailonline', 'makeamericagreatagain', 'makeup', 'malcolmnance', 'management', 'manmet80', 'manoharparrikar', 'manutd', 'marcorubio', 'marcylauren', 'mariabartiromo', 'markdice', 'marketing', 'markhalperin', 'markkirk', 'marklevinshow', 'markos', 'markruffalo', 'martinomalley', 'martinsvilleswy', 'marvel', 'maryannemarsh', 'mashable', 'mathiasian', 'mattgertz', 'matthewamiller', 'matthewjdowd', 'mattmackowiak', 'mattmfm', 'mattmurph24', 'mattyglesias', 'mbhokie97', 'mcdonalds', 'mcfaul', 'mckaycoppins', 'mcuban', 'media', 'mediabias', 'mediabuzzfnc', 'mediaite', 'medium', 'meetthepress', 'megankelly', 'meghanmccain', 'megynkelly', 'mehdirhasan', 'melaniatrump', 'melissaafrancis', 'mentalhealth', 'mexico', 'mexicogp', 'miami', 'miami4trump', 'miamiherald', 'mic', 'michaelcohen212', 'michaeldweiss', 'michaelkeyes', 'michaelmoore', 'michellemalkin', 'michelleobama', 'michigan', 'microsoft', 'microsoftevent', 'midgespeaks', 'midnight', 'mike_pence', 'mikepencevp', 'milesjreed', 'mileycyrus', 'military', 'millennials', 'mindyfinn', 'misslizzynj', 'mitchellreports', 'mitchellvii', 'mittromney', 'mkraju', 'mlb', 'mlbonfox', 'mmfa', 'mmflint', 'mmpadellan', 'mmurraypolitics', 'mobile', 'money', 'monicacrowley', 'montel_williams', 'morgfair', 'mormonmafia', 'morning_joe', 'morningjoe', 'morningmika', 'morningmoneyben', 'morningsmaria', 'mosul', 'motherjones', 'motivation', 'moveon', 'movies', 'mplusplaces', 'mplusrewards', 'mrdane1982', 'mredtrain', 'mrjamesonneat', 'mscharlottewwe', 'msm', 'msnbc', 'mtnmd', 'mtracey', 'mufc', 'music', 'muslim', 'muslims', 'naacp', 'nancypelosi', 'nanowrimo', 'narendramodi', 'nasa', 'nascar', 'nastywoman', 'nastywomen', 'nate_cohn', 'natesilver538', 'natgeo', 'natgeochannel', 'nationalcatday', 'nationalchocolateday', 'nationalpost', 'nationalpumpkinday', 'nato', 'nature', 'nba', 'nbaontnt', 'nbatipoff', 'nbc', 'nbcnews', 'nbcnightlynews', 'nbcpolitics', 'nbcsnl', 'nbcthisisus', 'nbcwashington', 'nc', 'ndgovdalrymple', 'ndtv', 'neeratanden', 'neilturner_', 'netflix', 'networking', 'networksmanager', 'nevada', 'neverhillary', 'nevertrump', 'newday', 'newrepublic', 'news', 'newsbusters', 'newshour', 'newsmax', 'newsthe', 'newsweek', 'newt', 'newtgingrich', 'newttrump', 'newyork', 'newyorker', 'nfl', 'nflcommish', 'nflnetwork', 'nflonfox', 'nh', 'nhl', 'nia4_trump', 'niallofficial', 'nicerrap', 'nickconfessore', 'nickkristof', 'nicolasturgeon', 'nicolledwallace', 'nigel_farage', 'nissan', 'nissanusa', 'nj', 'noahcrothman', 'noahgraycnn', 'nodapl', 'noltenc', 'nordstrom', 'normornstein', 'northcarolina', 'now', 'nowplaying', 'np', 'npr', 'nprpolitics', 'nra', 'nro', 'number10gov', 'nutrition', 'ny', 'nyc', 'nycsouthpaw', 'nydailynews', 'nyjets', 'nyknicks', 'nymag', 'nypmetro', 'nypost', 'nytimes', 'nytnickc', 'nytopinion', 'oann', 'obama', 'obamacare', 'obamacarefail', 'obamacareinthreewords', 'obamamalik', 'observer', 'octobersurprise', 'officeofrg', 'ohio', 'oil', 'okcthunder', 'oliverdarcy', 'omfg_america', 'online', 'onlxn', 'only4rm', 'onmessageforher', 'oprah', 'oregon', 'oregonian', 'oregonstandoff', 'oreillyfactor', 'outfrontcnn', 'outnumberedfnc', 'owillis', 'owntv', 'p0tustrump', 'p2', 'pa', 'packers', 'painting', 'pakistan', 'pamela_moore13', 'panthers', 'parenting', 'paris', 'party', 'pastormarkburns', 'pathetic', 'patmccrorync', 'patrickmurphyfl', 'patriot', 'patriotbygod', 'patriotic_folks', 'patriots', 'pattonoswalt', 'paulbegala', 'paulinehansonoz', 'paulkrugman', 'paytoplay', 'pbs', 'pbump', 'peace', 'peddoc63', 'pence', 'pennsylvania', 'people', 'perduechicken', 'perduecrew', 'periscope', 'periscopeco', 'peterdaou', 'petewilliamsnbc', 'pets', 'pharris830', 'phil_mattingly', 'philcollinsfeed', 'philly', 'phivsdal', 'photo', 'photography', 'piersmorgan', 'pitch', 'pizzapartyben', 'pjnet', 'plantflowes', 'pmoindia', 'pnehlen', 'podcast', 'podesta', 'podestaemails', 'podestaemails18', 'podestaemails19', 'podestaemails20', 'podestaemails21', 'podestaemails22', 'podestaemails23', 'podestaleaks', 'poetry', 'police', 'politico', 'politicomag', 'politics', 'politics_pr', 'politicussarah', 'politicususa', 'politifact', 'poll', 'polls', 'pontifex', 'poppyharlowcnn', 'postroz', 'potus', 'poverty', 'ppact', 'ppollingnumbers', 'pr', 'president', 'presidentialelection', 'presidenttrump', 'prisonplanet', 'privacy', 'project_veritas', 'projectveritas', 'prolife', 'promotion', 'pryan', 'ps4share', 'pti', 'pumpkin', 'pumpkins', 'puppymnkey', 'putin', 'pveritas_action', 'queensugar', 'queensugarown', 'quote', 'quotea', 'quotebe', 'quotedon', 'quotehow', 'quotei', 'quoteif', 'quoteit', 'quotelife', 'quotes', 'quotethanks', 'quotethe', 'quoteto', 'quotewhat', 'quoteyou', 'quoteyour', 'qz', 'racism', 'racist', 'radiofreetom', 'raheemkassam', 'raidernation', 'raiders', 'rallytogether', 'rallytogetheri', 'ralstonreports', 'rambobiggs', 'ranaayyub', 'randpaul', 'randyprine', 'rape', 'raw', 'rawstory', 'rbcreamer', 'rcpvideo', 'reading', 'reaganbattalion', 'realalexjones', 'realbencarson', 'realclearnews', 'realdenaldtrump', 'realdennislynch', 'realdonaldtrump', 'realestate', 'realjameswoods', 'realmuckmaker', 'realskipbayless', 'realstrategyfan', 'realtimers', 'recipe', 'reddit', 'redskins', 'redstate', 'refugees', 'regated', 'reince', 'reinindc', 'reliablesources', 'repcummings', 'republican', 'republicans', 'rescuetracker81', 'research', 'respect', 'retail', 'reuters', 'rhonj', 'richardbranson', 'richardgrenell', 'richardtburnett', 'rickygervais', 'rigged', 'riggedelection', 'riggedsystem', 'ringer', 'riotwomennn', 'rip', 'ripcity', 'ripvine', 'ritapanahi', 'rnc', 'robbymook', 'rockprincess818', 'rogerjstonejr', 'rolandsmartin', 'rollingstone', 'rolltribe', 'ron_fournier', 'rosie', 'roycoopernc', 'rsbnetwork', 'rt', 'rt_com', 'rtraister', 'rubycramer', 'rudygiulianigop', 'run', 'running', 'rupertmurdoch', 'rushlimbaugh', 'russia', 'russian', 'russians', 'russwest44', 'ryanlizza', 's_c_', 'sad', 'sahilkapur', 'sales', 'sallykohn', 'salon', 'samharrisorg', 'samsteinhp', 'sandrasmithfox', 'sandratxas', 'sarabareilles', 'sarahkendzior', 'sarihorwitz', 'sashabankswwe', 'saudi', 'saudiarabia', 'sbnation', 'scarystoriesin5words', 'school', 'schreckreports', 'schultz44', 'science', 'scifi', 'scotland', 'scottadamssays', 'scottbaio', 'scottienhughes', 'scottpresler', 'scotus', 'scrowder', 'sdgs', 'sdlive', 'seahawks', 'seanhannity', 'seanspicer', 'seattle', 'seavsno', 'sebgorka', 'secretservice', 'secupp', 'security', 'selfie', 'senate', 'senategop', 'senatemajldr', 'senatorkirk', 'senatorreid', 'senatorsessions', 'senfeinstein', 'senjohnmccain', 'senronjohnson', 'sensanders', 'sentedcruz', 'senwarren', 'seo', 'sevyn', 'shannoncoulter', 'shareblue', 'sharethis', 'sharonmccutchan', 'sharylattkisson', 'shaunking', 'shepnewsteam', 'sheriffclarke', 'sherylcrow', 'sheswithus', 'shewhovotes', 'shkhrasheed', 'sickhillary', 'signsatthegatesofhell', 'sissenberg', 'sixers', 'skincare', 'skynews', 'slate', 'slh', 'slone', 'smallbiz', 'smallbusiness', 'smerconish', 'smh', 'smm', 'smshow', 'snapchat', 'snf', 'snfonnbc', 'snl', 'snoopdogg', 'snopes', 'snowden', 'socal4trump', 'socent', 'social', 'socialmedia', 'socialmediathe', 'solar', 'soledadobrien', 'sopandeb', 'soros', 'sorrynotsorry', 'souljaboy', 'soundcloud', 'space', 'speakerryan', 'specialkmb1969', 'specialreport', 'speechboy71', 'splcenter', 'sponsored', 'spooky', 'sports', 'sportscenter', 'spotify', 'spurs', 'sputnikint', 'sruhle', 'standingrock', 'standwithstandingrock', 'starbucks', 'startrek', 'startup', 'startups', 'starwars', 'statedept', 'stefanmolyneux', 'stem', 'steph93065', 'stephenathome', 'stephenfhayes', 'stephenking', 'stephenswsj', 'stevekornacki', 'stevenwhirsch99', 'steveyeun', 'stonewall_77', 'stopcorpabuse', 'stopnuclearwar', 'stopstophillary', 'strangerthings', 'strategy', 'stress', 'strictly', 'strongertogether', 'style', 'subway', 'success', 'sunday', 'sundaymorning', 'sunrise', 'sunset', 'supernatural', 'support', 'surfermom77', 'survivor', 'sustainability', 'swamy39', 'sweden', 'sweepstakes', 'sykescharlie', 'syria', 'tacobell', 'tallahfortrump', 'tamaraleighllc', 'tammyforil', 'tamronhall', 'tarekfatah', 'target', 'taylorswift13', 'tbt', 'tcot', 'team', 'teamcavuto', 'teammcmullin', 'teamtrump', 'teamtrumpaz', 'teapainusa', 'teaparty', 'tech', 'techcrunch', 'technology', 'tedcruz', 'teddyschleifer', 'telegraph', 'telegraphnews', 'ten_gop', 'termlimits', 'terrorism', 'teslamotors', 'texas', 'texastribune', 'tgif', 'tgowdysc', 'thanksgiving', 'thankyou', 'the', 'the_intercept', 'theatlantic', 'thebaxterbean', 'theblaze', 'thecut', 'thedailybeast', 'thedemocrats', 'theeconomist', 'theellenshow', 'thefall', 'thefive', 'thefix', 'theflash', 'thegarance', 'thehill', 'theijr', 'thejk_kid', 'thejuanwilliams', 'thejusticedept', 'thelastrefuge2', 'thelastword', 'theleadcnn', 'themrc', 'thenation', 'theonlyadult', 'thepatriot143', 'theplumlinegs', 'therealroseanne', 'theresa_may', 'therickwilson', 'therickyvaughn', 'therightscoop', 'thesun', 'theview', 'thewalkingdead', 'theyoungturks', 'thinkprogress', 'thisisus', 'thisweekabc', 'thr', 'throwbackthursday', 'thunderclapit', 'thursdaythoughts', 'tiffanyatrump', 'time', 'timesnow', 'timesofindia', 'timkaine', 'timtebow', 'tips', 'titans', 'tkdmike', 'tmobile', 'tmz', 'tnf', 'todayshow', 'toddstarnes', 'tom_winter', 'tomcottonar', 'tomhanks', 'tomilahren', 'tommyshida', 'toronto', 'torontostar', 'townhallcom', 'tpm', 'tponews', 'tpp', 'travel', 'travelthe', 'trickortreat', 'trobinsonnewera', 'trump', 'trump2016', 'trumpahorrormovie', 'trumpdc', 'trumpland', 'trumplandslide', 'trumppence', 'trumppence16', 'trumppence2016', 'trumppencelandslide', 'trumppenceusa1', 'trumprally', 'trumps', 'trumpstrong', 'trumpsuperpac', 'trumptheestablishment', 'trumptrain', 'trumptv', 'trumpwomenstour', 'truth', 'truthfeednews', 'trutvjokers', 'ttt16', 'tuckercarlson', 'tuesdaymotivation', 'tumblr', 'turkey', 'turnbullmalcolm', 'tv', 'tvietor08', 'twd', 'twitchyteam', 'twitter', 'uber', 'uk', 'uklabour', 'ukraine', 'ultraviolet', 'umichfootball', 'un', 'uniteblue', 'unityactivist', 'untappd', 'upshotnyt', 'us', 'usa', 'usafortrump2016', 'usaneedstrump', 'usatoday', 'uselection', 'utah', 'uwbadgers', 'va', 'va4hillary1', 'vanjones68', 'variety', 'varneyco', 'vegan', 'veganvecoh', 'vegas', 'venezuela', 'verge', 'veritas', 'verizon', 'vetapologist', 'veteran', 'veteran4trump', 'veterans', 'vets', 'vice', 'vickybrush', 'video', 'vimeo', 'vine', 'violence', 'virginia', 'vivalaames', 'vivelafra', 'vote', 'voteblue', 'votebluedownballot', 'voteearly', 'voterfraud', 'votersuppression', 'votetrump', 'votetrump2016', 'votetrumppence16', 'voting', 'voxdotcom', 'vp', 'vr', 'wakeupamerica', 'walkingdead', 'walkingdead_amc', 'wallstreet', 'walmart', 'walshfreedom', 'waposean', 'war', 'warriors', 'washington', 'washingtonpost', 'washtimes', 'wasvscin', 'water', 'watergate', 'waterislife', 'watson', 'waynedupreeshow', 'wdfx2eu7', 'weaselzippers', 'weather', 'wedding', 'wednesdaywisdom', 'weekend', 'wef', 'weiner', 'weinergate', 'wendyvoss', 'weneedtrump', 'westwingreport', 'westworld', 'westworldhbo', 'wethepeople', 'whitehouse', 'wikileak', 'wikileaks', 'wildlife', 'williegeist', 'win', 'windians', 'wine', 'wired', 'wisconsin', 'wltaskforce', 'woahohkatie', 'wolfblitzer', 'woman', 'women', 'womenfortrump', 'woodhouseb', 'wordpressdotcom', 'work', 'world', 'worldnetdaily', 'worlds', 'worldseries', 'worldseriesi', 'worldseriesif', 'worldseriesthat', 'worldseriesthe', 'worldseriesthis', 'worldserieswhat', 'wpjenna', 'wrigleyfield', 'writing', 'wsj', 'wsjpolitics', 'wtf', 'wwe', 'xfactor', 'yahoonews', 'yankees', 'yashar', 'yelp', 'yemen', 'yoga', 'youngdems4trump', 'youranonnews', 'youtube', 'youtubea', 'youtubebreaking', 'youtubeclinton', 'youtubedonald', 'youtubefbi', 'youtubehillary', 'youtubehow', 'youtubei', 'youtubeif', 'youtubenew', 'youtubeobama', 'youtubethe', 'youtubethis', 'youtubetrump', 'youtubewe', 'youtubewhat', 'youtubewhy', 'youtubewikileaks', 'youtubeyou', 'yuengling_beer', 'zacgoldsmith', 'zekejmiller', 'zerohedge', 'zika', 'zimmermanrob']\n"
     ]
    }
   ],
   "source": [
    "import sklearn.feature_extraction.text as sk_text\n",
    "\n",
    "vectorizer_1 = sk_text.CountVectorizer(min_df=1)\n",
    "#vectorizer = sk_text.CountVectorizer(min_df=1, stop_words = 'english')\n",
    "\n",
    "#min_df: ignore terms that have a document frequency < min_df.\n",
    "\n",
    "matrix = vectorizer_1.fit_transform(ListofHashtagHandles)\n",
    "\n",
    "print(type(matrix))          # Compressed Sparse Row matrix\n",
    "#temp = matrix.toarray()\n",
    "print(matrix.toarray())        #  convert it to numpy array\n",
    "\n",
    "print(vectorizer_1.get_feature_names())"
   ]
  },
  {
   "cell_type": "code",
   "execution_count": 30,
   "metadata": {},
   "outputs": [
    {
     "data": {
      "text/plain": [
       "(2278, 1914)"
      ]
     },
     "execution_count": 30,
     "metadata": {},
     "output_type": "execute_result"
    }
   ],
   "source": [
    "matrix.shape"
   ]
  },
  {
   "cell_type": "code",
   "execution_count": 31,
   "metadata": {},
   "outputs": [
    {
     "data": {
      "text/plain": [
       "476"
      ]
     },
     "execution_count": 31,
     "metadata": {},
     "output_type": "execute_result"
    }
   ],
   "source": [
    "len(ListofHashtagHandles[0])"
   ]
  },
  {
   "cell_type": "code",
   "execution_count": 32,
   "metadata": {
    "scrolled": true
   },
   "outputs": [
    {
     "data": {
      "text/plain": [
       "Text(0,0.5,'SSE')"
      ]
     },
     "execution_count": 32,
     "metadata": {},
     "output_type": "execute_result"
    },
    {
     "data": {
      "image/png": "[encoded data removed]",
      "text/plain": [
       "<matplotlib.figure.Figure at 0x1674ae129e8>"
      ]
     },
     "metadata": {},
     "output_type": "display_data"
    }
   ],
   "source": [
    "import sklearn.cluster as sk_cluster\n",
    "import matplotlib.pyplot as plt\n",
    "\n",
    "%matplotlib inline\n",
    "\n",
    "error = np.zeros(20)\n",
    "for k in range(1,20):\n",
    "    kmeans_1 = sk_cluster.KMeans(init='k-means++', n_clusters=k, n_init=10)\n",
    "    kmeans_1.fit_predict(matrix.T)\n",
    "    error[k] = kmeans_1.inertia_\n",
    "\n",
    "plt.plot(range(1, 20),error[1:])\n",
    "plt.xlabel('Number of clusters')\n",
    "plt.ylabel('SSE')"
   ]
  },
  {
   "cell_type": "code",
   "execution_count": 33,
   "metadata": {},
   "outputs": [
    {
     "name": "stdout",
     "output_type": "stream",
     "text": [
      "\n",
      " Cluster Centroids\n",
      "[[ 0.14851485  0.13861386  0.03960396 ...,  0.04950495  0.18811881\n",
      "   0.11881188]\n",
      " [ 0.5         1.          0.5        ...,  0.5         4.5         2.        ]\n",
      " [ 0.01221544  0.01610217  0.01110494 ...,  0.00888395  0.0294281\n",
      "   0.00777346]\n",
      " [ 0.          0.5         0.         ...,  0.          1.5         0.5       ]\n",
      " [ 0.25        0.375       0.125      ...,  0.25        1.125       0.125     ]]\n",
      "\n",
      "Cluster labels\n",
      "[2 2 2 ..., 2 2 2]\n",
      "\n",
      "\n",
      "The total error of the clustering is:  76242.06859225626\n"
     ]
    }
   ],
   "source": [
    "kmeans_1 = sk_cluster.KMeans(init='k-means++', n_clusters=5, n_init=10, max_iter=300)  \n",
    "\n",
    "# n_init: Number of time the k-means algorithm will be run \n",
    "# max_iter : int, default: 300\n",
    "\n",
    "kmeans_1.fit_predict(matrix.T)\n",
    "\n",
    "print ('\\n Cluster Centroids')\n",
    "centroids = kmeans_1.cluster_centers_\n",
    "print (centroids)\n",
    "\n",
    "print ('\\nCluster labels')\n",
    "kmeans_labels_1 = kmeans_1.labels_\n",
    "print(kmeans_labels_1)\n",
    "\n",
    "\n",
    "print('\\n')\n",
    "error = kmeans_1.inertia_       #SSE; Sum of squared distances of samples to their closest cluster center.\n",
    "print (\"The total error of the clustering is: \", error)\n"
   ]
  },
  {
   "cell_type": "code",
   "execution_count": 34,
   "metadata": {},
   "outputs": [
    {
     "name": "stdout",
     "output_type": "stream",
     "text": [
      "Counter({2: 1801, 0: 101, 4: 8, 3: 2, 1: 2})\n"
     ]
    }
   ],
   "source": [
    "import collections\n",
    "print(collections.Counter(kmeans_labels_1))"
   ]
  },
  {
   "cell_type": "code",
   "execution_count": 35,
   "metadata": {},
   "outputs": [
    {
     "data": {
      "text/plain": [
       "(1914,)"
      ]
     },
     "execution_count": 35,
     "metadata": {},
     "output_type": "execute_result"
    }
   ],
   "source": [
    "kmeans_labels_1.shape"
   ]
  },
  {
   "cell_type": "code",
   "execution_count": 36,
   "metadata": {},
   "outputs": [
    {
     "name": "stdout",
     "output_type": "stream",
     "text": [
      "Cluster 0\n",
      "['abc', 'ap', 'barackobama', 'berniesanders', 'billclinton', 'breitbartnews', 'bretbaier', 'brithume', 'cbsnews', 'cernovich', 'clinton', 'cnnpolitics', 'comey', 'crookedhillary', 'cubs', 'dailycaller', 'danscavino', 'dcexaminer', 'donaldjtrumpjr', 'donnabrazile', 'draintheswamp', 'drudge_report', 'election2016', 'erictrump', 'evan_mcmullin', 'fahrenthold', 'flotus', 'gohillary', 'gop', 'hillaryemails', 'hillarysemail', 'hillarysemails', 'huffpostpol', 'humaabedin', 'imwithher', 'ingrahamangle', 'jaketapper', 'jamesokeefeiii', 'jaredwyand', 'jasoninthehouse', 'johnpodesta', 'joyannreid', 'judgejeanine', 'kellyannepolls', 'kurteichenwald', 'lindasuhler', 'lockherup', 'lorettalynch', 'loudobbs', 'maddow', 'maga', 'maga3x', 'makeamericagreatagain', 'marcorubio', 'mediaite', 'michaelcohen212', 'mike_pence', 'mitchellvii', 'mmflint', 'msm', 'nbc', 'nbcnews', 'neverhillary', 'nevertrump', 'nypost', 'nytimes', 'obama', 'obamacare', 'oreillyfactor', 'podestaemails', 'politico', 'politicususa', 'prisonplanet', 'realjameswoods', 'reince', 'robbymook', 'seanhannity', 'speakerryan', 'strongertogether', 'teamtrump', 'tgowdysc', 'thedailybeast', 'thedemocrats', 'thehill', 'timkaine', 'trump2016', 'trumppence16', 'trumptrain', 'twitter', 'usatoday', 'vote', 'voterfraud', 'votetrump', 'walshfreedom', 'washingtonpost', 'wdfx2eu7', 'weiner', 'wolfblitzer', 'worldseries', 'wsj', 'youtube']\n",
      "Cluster 1\n",
      "['hillaryclinton', 'realdonaldtrump']\n",
      "Cluster 2\n",
      "['0hour1__', '10', '100percfedup', '12', '1a', '2016', '20committee', '2a', '2alaw', '_makada_', 'abcnetwork', 'abcnews', 'abcpolitics', 'abortion', 'ac360', 'aca', 'aclu', 'acosta', 'actualflatticus', 'ad', 'adamparkhomenko', 'adamsflafan', 'adele', 'adoptdontshop', 'aduanebrown', 'advertising', 'afghanistan', 'aflcio', 'afneil', 'africa', 'agentsofshield', 'ahsfx', 'ahsroanoke', 'ai', 'airbnb', 'ajdelgado13', 'ajenews', 'ajenglish', 'alasscan_', 'alecbaldwin', 'aleppo', 'algiordano', 'aliciakeys', 'alivitali', 'allahpundit', 'allanbrauer', 'allenwest', 'allinwithchris', 'alllibertynews', 'alllivesmatter', 'alternet', 'altright', 'always_trump', 'amandacarpenter', 'amas', 'amazon', 'amazongiveaway', 'america', 'americafirst', 'american', 'americanair', 'americanmex067', 'americans', 'amjoy', 'amjoyshow', 'amlookout', 'amreading', 'amwriting', 'amymek', 'amyschumer', 'analytics', 'anamariecox', 'ananavarro', 'andersoncooper', 'andieiamwhoiam', 'android', 'andy', 'angela_rye', 'animals', 'anncoulter', 'anomaly1', 'anonymous', 'anthonyweiner', 'anushkasharma', 'ap_politics', 'app', 'apple', 'appleevent', 'applemusic', 'appsame', 'ar', 'aravosis', 'architecture', 'ariberman', 'arimelber', 'arizona', 'armandodkos', 'army', 'art', 'artist', 'arvindkejriwal', 'asamjulian', 'aseitzwald', 'assad', 'assange', 'atensnut', 'aterkel', 'atlanta', 'atlasobscura', 'atrupar', 'att', 'auspol', 'austan_goolsbee', 'australia', 'australian', 'author', 'autism', 'autumn', 'avaetc', 'awesome', 'ayaan', 'az', 'azcentral', 'b2b', 'bakari_sellers', 'bakedalaska', 'balsamhill', 'bannerite', 'barbmuenchen', 'barstoolbigcat', 'barstoolsports', 'baseball', 'baseballbands', 'basketball', 'basketofdeplorables', 'baueroutage', 'bbc', 'bbcbreaking', 'bbcnews', 'bbcqt', 'bbcworld', 'bbhuttozardari', 'bbott', 'bdutt', 'beach', 'beautiful', 'beauty', 'beer', 'beforetheflood', 'beladonnarogers', 'bencjacobs', 'bengals', 'benghazi', 'benhowe', 'benshapiro', 'bernie', 'betsy_mccaughey', 'beyonce', 'bfraser747', 'bfriedmandc', 'bi_politics', 'biden', 'bigboater88', 'bigdata', 'bikers4trump', 'billboard', 'billhemmer', 'billkristol', 'billmaher', 'billmoyershq', 'billmurray', 'billpostmus', 'bills', 'bipartisan', 'birthday', 'bitcoin', 'biz', 'bizpacreview', 'bjp4india', 'black', 'blackcatday', 'blacklivesmatter', 'blackmirror', 'blacks4trump', 'blacksfortrump', 'blakehounshell', 'bleacherreport', 'blessed', 'blm', 'blockchain', 'blog', 'blogging', 'bluelivesmatter', 'bluewave', 'bluewave2016', 'book', 'books', 'borisep', 'borisjohnson', 'borowitzreport', 'boston', 'bostonglobe', 'boycotkochbros', 'boycottkellyfile', 'bpolitics', 'braddjaffy', 'brand', 'branding', 'bravotv', 'breakfast', 'breaking', 'breastcancer', 'brexit', 'brianbeutler', 'brianefallon', 'brianstelter', 'broncos', 'browns', 'brunelldonald', 'buck', 'buffalobills', 'buildthewall', 'business', 'businessinsider', 'businessthe', 'buzzfeed', 'buzzfeedben', 'buzzfeednews', 'bv', 'bw', 'byronyork', 'c0nvey', 'c0nveyi', 'c0nveythe', 'ca', 'cafreeland', 'cajunkangaroo', 'calais', 'california', 'callisto1947', 'canada', 'cancer', 'candacesmith_', 'capehartj', 'career', 'carlbernstein', 'carlosdanger', 'carminezozzora', 'carolde', 'carpoolkaraoke', 'cassandrarules', 'cat', 'catholic', 'cats', 'catsofinstagram', 'caturday', 'cavs', 'cbcnews', 'cbs', 'cbsboston', 'cbslocal', 'cbspolitics', 'cbssports', 'cbsthismorning', 'ccot', 'cdnpoli', 'ceo', 'ceta', 'chaffetz', 'change', 'charleshurt', 'charlesmblow', 'charliekirk11', 'chelseaclinton', 'chelseahandler', 'cher', 'cherokeesher2', 'chicago', 'chicagocubs', 'chicagotribune', 'children', 'china', 'chinese', 'chocolate', 'chrischristie', 'chriscuomo', 'chrislhayes', 'chrisstirewalt', 'christian', 'christians', 'christichat', 'christiec733', 'christinawilkie', 'christmas', 'chucknellis', 'chucktodd', 'chuckwoolery', 'cia', 'ckluber', 'cle', 'clemson', 'cleveland', 'clevelandagainsttheworld', 'clewandowski_', 'climate', 'climatechange', 'clintoncash', 'clintoncorruption', 'clintoncrimefamily', 'clintonemails', 'clintonemailscandal', 'clintonfdn', 'clintonfoundation', 'clintonkaine', 'clintonkaine2016', 'clintons', 'clintonscandals', 'cloud', 'cnbc', 'cnnbrk', 'cnni', 'cnnmoney', 'cnnsitroom', 'cnntonight', 'co_rapunzel4', 'coffee', 'col_nj', 'college', 'colorado', 'colvinj', 'comedy', 'comeyresign', 'community', 'competition', 'congress', 'conservative', 'constitution', 'content', 'contentmarketing', 'contest', 'cooking', 'correctrecord', 'corrupt', 'corruptclintons', 'corrupthillary', 'corruption', 'corruptmedia', 'cortessteve', 'cosproject', 'costareports', 'costume', 'cowboys', 'cowboysnation', 'crampell', 'creative', 'credomobile', 'criminal', 'cristinalaila1', 'crooked', 'crookedmedia', 'crooksandliars', 'cspanwj', 'ctl', 'cubbies', 'cubsvsindians', 'culture', 'curtishouck', 'cvpayne', 'cx', 'cybersecurity', 'dailykos', 'dailymail', 'dailymirror', 'dailynewsbin', 'dailysignal', 'dak', 'dakotaaccesspipeline', 'dallas', 'dallascowboys', 'danabashcnn', 'danaperino', 'danmericacnn', 'danney_williams', 'danpfeiffer', 'dapl', 'darhuddleston', 'darrellissa', 'darren32895836', 'darrenrovell', 'darth', 'data', 'datrumpnation1', 'daveweigel', 'davidafrench', 'davidaxelrod', 'davidcorndc', 'davidfrum', 'davidjo52951945', 'davidplouffe', 'davidpsdem', 'dc', 'ddale8', 'deadline', 'deadspin', 'dealmein', 'debate', 'debates', 'debbiemacomber', 'deborahrossnc', 'debramessing', 'deckyourhalls', 'deejay90192', 'defendtheland', 'delta', 'democracy', 'democracynow', 'democrat', 'democrat_4trump', 'democratic', 'democrats', 'dems', 'deplorable', 'deplorablecbtp', 'deplorables', 'deray', 'design', 'detroit', 'devlinbarrett', 'dhecei', 'dhsgov', 'diamondandsilk', 'digital', 'dineshdsouza', 'disney', 'dissentingj', 'diversity', 'diwali', 'diy', 'dklaidman', 'dmartosko', 'dmregister', 'dnc', 'docrocktex26', 'doctorstrange', 'dog', 'dogs', 'doj', 'donaldtrump', 'donlemon', 'donthecon', 'doubledrizz', 'douglaseschoen', 'douthatnyt', 'doyourjob', 'draftourdaughters', 'drake', 'drjillstein', 'drmartyfox', 'drudge', 'dumptrump', 'dwstweets', 'dwyanewade', 'dylanbyers', 'eagles', 'earlyvoting', 'earthquake', 'ebay', 'ebaycheck', 'eclecticbrotha', 'ecommerce', 'economy', 'ecowatch', 'edballs', 'edchat', 'edhenry', 'edtech', 'education', 'eileendefreest', 'ejdionne', 'ejlandwehr', 'election', 'electionday', 'electionfraud', 'elections2016', 'elizabethforma', 'ellemagazine', 'elonmusk', 'email', 'emails', 'emailscandal', 'energy', 'entheosshines', 'entrepreneur', 'entrepreneurs', 'environment', 'equality', 'ericboehlert', 'ericbolling', 'erikwemple', 'es_snipes', 'esotericcd', 'espn', 'espnnfl', 'esqpolitics', 'esquire', 'etsy', 'eu', 'europe', 'evanmcmullin', 'evanperez', 'ew', 'ewerickson', 'exercise', 'eyes_of_justice', 'ezraklein', 'ezralevant', 'f1', 'facebook', 'facethenation', 'fail', 'fall', 'family', 'fashion', 'fastcompany', 'fawfulfan', 'fbireopenscase', 'fdrlst', 'fec', 'feelthebern', 'femalesfortrump', 'feminism', 'ff', 'fightowensfight', 'film', 'fintech', 'firecomey', 'fitness', 'fivethirtyeight', 'fl', 'fladems', 'flashbackfriday', 'flgovscott', 'flipitdem', 'florida', 'flsen', 'flsendebate', 'flyeaglesfly', 'flythew', 'food', 'foodie', 'football', 'forbes', 'forecasterenten', 'fortunemagazine', 'foxandfriends', 'foxbusiness', 'foxnewsinsider', 'foxnewspolitics', 'foxnewspoll', 'foxnewssunday', 'foxsports', 'foxtv', 'fracking', 'france', 'franklin_graham', 'frankluntz', 'frankrichny', 'frankthorp', 'fraud', 'free', 'freebeacon', 'freedom', 'friday', 'fridayfeeling', 'friends', 'fs1', 'fsu', 'ft', 'fullfrontalsamb', 'fun', 'funder', 'funny', 'fusion', 'future', 'ga', 'gabrielsherman', 'gaetasusan', 'gaming', 'garylineker', 'gatewaypundit', 'gbbo', 'gbbofinal', 'gdebenedetti', 'gehrig38', 'gender', 'genflynn', 'georgesoros', 'georgetakei', 'georgia', 'geraldorivera', 'germany', 'ggreenwald', 'gh', 'giants', 'gift', 'gilmoregirls', 'girlsreallyrule', 'giveaway', 'glennbeck', 'glennkesslerwp', 'glennthrush', 'globalnews', 'globeandmail', 'gloriaborger', 'gma', 'goals', 'goblue', 'gocubs', 'gocubsgo', 'god', 'godawgs', 'gofundme', 'gold', 'goldengateblond', 'google', 'gotribe', 'gotv', 'government', 'govgaryjohnson', 'govhowarddean', 'govmikehuckabee', 'govpencein', 'gqmagazine', 'grabyourwallet', 'gratitude', 'greatdismal', 'greeneyes0084', 'gregabbott_tx', 'greggutfeld', 'greta', 'gstephanopoulos', 'guardian', 'guypbenson', 'hadas_gold', 'hagoodmanauthor', 'haiti', 'halliejackson', 'hallmarkchannel', 'halloweekend', 'halloween', 'halloween2016', 'halloweencostume', 'halloweenthe', 'hamilton', 'hamiltonmusical', 'handmade', 'hannity', 'happiness', 'happyhalloween', 'hardball', 'hardballchris', 'harlan', 'harrisfaulkner', 'harrypotter', 'hatchact', 'hbo', 'health', 'healthcare', 'healthy', 'heathrow', 'hectormorenco', 'heerjeet', 'heismanhouse', 'hereiamwithher', 'heytammybruce', 'hfa', 'hiac', 'hiaci', 'highered', 'hillary2016', 'hillary4prison', 'hillaryemail', 'hillaryemailscandal', 'hillaryforprison', 'hillaryforprison2016', 'hillarys', 'hillarysamerica', 'hillarysarmy', 'hillarysbullies', 'hillaryshealth', 'hillbullies', 'hillyes', 'hiphop', 'history', 'hiv', 'hocuspocus', 'holiday', 'hollywood', 'home', 'hope', 'horror', 'hotlinejosh', 'housecracka', 'housegop', 'howardkurtz', 'howardstern', 'hr', 'hrc', 'hrtablaze', 'hrw', 'htgawm', 'httr', 'httweets', 'huffingtonpost', 'huffpostblog', 'huffpostpolthe', 'huffpostpoltrump', 'hughhewitt', 'huma', 'humanrights', 'hypocrisy', 'iamsambee', 'ibmwatson', 'ibmwow', 'iceland', 'iheartradio', 'imillhiser', 'immigrant4trump', 'immigration', 'imrankhanpti', 'imwither', 'imwithher2016', 'inc', 'incindia', 'independent', 'india', 'indians', 'infowars', 'inners', 'innovation', 'inspiration', 'instagram', 'insurance', 'intelligencer', 'iot', 'iowa', 'iran', 'iraq', 'ireland', 'irs', 'isikoff', 'isis', 'islam', 'israel', 'it', 'italians4trump', 'italy', 'italyearthquake', 'itunes', 'itvnews', 'ivankatrump', 'jack', 'jackposobiec', 'jaguars', 'jamescomey', 'jamescomeyfbi', 'jameshohmann', 'jamesrosenfnc', 'janemayernyer', 'jasonmillerindc', 'jbaker31826004', 'jbarro', 'jbouie', 'jdelreal', 'jdmorgan', 'jebbush', 'jeffersonobama', 'jeffflake', 'jeffpearlman', 'jeffpeguescbs', 'jeffreytoobin', 'jeffzeleny', 'jeisrael', 'jeneps', 'jengranholm', 'jengriffinfnc', 'jenniferjjacobs', 'jeremycorbyn', 'jerseyj0e', 'jesserodriguez', 'jesus', 'jewelry', 'jheil', 'jillnothill', 'jillstein', 'jimmiejohnson', 'jimmykimmel', 'jimsciutto', 'jjauthor', 'jk_rowling', 'jkcorden', 'jlo', 'jmartnyt', 'jmpalmieri', 'joanwalsh', 'job', 'jobs', 'joebiden', 'joeconason', 'joenbc', 'johnfugelsang', 'johnjharwood', 'johnkasich', 'johnkerry', 'johnkingcnn', 'johnkstahlusa', 'jokerslive', 'jonahnro', 'jonathanchait', 'jonfavs', 'jordanchariton', 'joshrogin', 'joshtpm', 'joshuagreen', 'journalism', 'jpodhoretz', 'jrubinblogger', 'jtimberlake', 'juddapatow', 'juddlegum', 'judgenap', 'judicialwatch', 'julianassange_', 'julieroginsky', 'just_a_texan', 'justice', 'justinjm1', 'justintrudeau', 'justsaying', 'kaepernick7', 'kanyewest', 'karanjohar', 'karlrove', 'karma', 'karoli', 'kasie', 'katherinemiller', 'kathleen_wynne', 'katiecouric', 'katiemcgintypa', 'katiepavlich', 'katrinapierson', 'katyperry', 'katyturnbc', 'kayleighmcenany', 'kazmierskir', 'kdtrey5', 'kedronbardwell', 'keepamergr8', 'keitholbermann', 'keithrowland', 'kellyayotte', 'kellyfile', 'kenloachsixteen', 'kennedynation', 'kerpen', 'kevindarryl', 'kfile', 'khanoisseur', 'kharyp', 'kids', 'killoughcnn', 'kimdotcom', 'kimguilfoyle', 'kimstrassel', 'kingjames', 'kira_lerner', 'knicks', 'knp2bp', 'kotcha301', 'krauthammer', 'kris_sacrebleu', 'kschwarb12', 'kthopkins', 'ktumulty', 'kurtschlichter', 'kwelkernbc', 'kylegriffin1', 'la', 'ladygaga', 'lakers', 'laraleatrump', 'larryelder', 'larrysabato', 'lasvegas', 'latimes', 'latinaafortrump', 'latinos', 'lauren_southern', 'law', 'law_newz', 'lawrence', 'lbc', 'leadership', 'leahr77', 'leahrboss', 'lechatnoire4', 'lee_in_iowa', 'leodicaprio', 'lesdoggg', 'lesliemarshall', 'leslieodomjr', 'letsgo', 'lfc', 'lgbt', 'lgbtq', 'liar', 'libdems', 'liberal', 'liberals', 'lies', 'life', 'lifezette', 'lilyallen', 'lin_manuel', 'lindseygrahamsc', 'linkedin', 'lisamarieboothe', 'live', 'liz_wheeler', 'lizwfb', 'lodisilverado', 'lol', 'lolgop', 'london', 'loser', 'louisemensch', 'love', 'loveghirardelli', 'lovetrumpshate', 'lrihendry', 'ludacristiano', 'luxury', 'maajidnawaz', 'macbookpro', 'madampresident', 'maddowblog', 'madonna', 'maggie_hassan', 'maggienyt', 'maggyw519', 'magnifier661', 'mailonline', 'makeup', 'malcolmnance', 'management', 'manmet80', 'manoharparrikar', 'manutd', 'marcylauren', 'mariabartiromo', 'markdice', 'marketing', 'markhalperin', 'markkirk', 'marklevinshow', 'markos', 'markruffalo', 'martinomalley', 'martinsvilleswy', 'marvel', 'maryannemarsh', 'mashable', 'mathiasian', 'mattgertz', 'matthewamiller', 'matthewjdowd', 'mattmackowiak', 'mattmfm', 'mattmurph24', 'mattyglesias', 'mbhokie97', 'mcdonalds', 'mcfaul', 'mckaycoppins', 'mcuban', 'media', 'mediabias', 'mediabuzzfnc', 'medium', 'meetthepress', 'megankelly', 'meghanmccain', 'mehdirhasan', 'melaniatrump', 'melissaafrancis', 'mentalhealth', 'mexico', 'mexicogp', 'miami', 'miami4trump', 'miamiherald', 'mic', 'michaeldweiss', 'michaelkeyes', 'michaelmoore', 'michellemalkin', 'michelleobama', 'michigan', 'microsoft', 'microsoftevent', 'midgespeaks', 'midnight', 'mikepencevp', 'milesjreed', 'mileycyrus', 'military', 'millennials', 'mindyfinn', 'misslizzynj', 'mitchellreports', 'mittromney', 'mkraju', 'mlb', 'mlbonfox', 'mmfa', 'mmpadellan', 'mmurraypolitics', 'mobile', 'money', 'monicacrowley', 'montel_williams', 'morgfair', 'mormonmafia', 'morning_joe', 'morningjoe', 'morningmika', 'morningmoneyben', 'morningsmaria', 'mosul', 'motherjones', 'motivation', 'moveon', 'movies', 'mplusplaces', 'mplusrewards', 'mrdane1982', 'mredtrain', 'mrjamesonneat', 'mscharlottewwe', 'mtnmd', 'mtracey', 'mufc', 'music', 'muslim', 'muslims', 'naacp', 'nancypelosi', 'nanowrimo', 'narendramodi', 'nasa', 'nascar', 'nastywoman', 'nastywomen', 'nate_cohn', 'natesilver538', 'natgeo', 'natgeochannel', 'nationalcatday', 'nationalchocolateday', 'nationalpost', 'nationalpumpkinday', 'nato', 'nature', 'nba', 'nbaontnt', 'nbatipoff', 'nbcnightlynews', 'nbcpolitics', 'nbcsnl', 'nbcthisisus', 'nbcwashington', 'nc', 'ndgovdalrymple', 'ndtv', 'neeratanden', 'neilturner_', 'netflix', 'networking', 'networksmanager', 'nevada', 'newday', 'newrepublic', 'news', 'newsbusters', 'newshour', 'newsmax', 'newsthe', 'newsweek', 'newt', 'newttrump', 'newyork', 'newyorker', 'nfl', 'nflcommish', 'nflnetwork', 'nflonfox', 'nh', 'nhl', 'nia4_trump', 'niallofficial', 'nicerrap', 'nickconfessore', 'nickkristof', 'nicolasturgeon', 'nicolledwallace', 'nigel_farage', 'nissan', 'nissanusa', 'nj', 'noahcrothman', 'noahgraycnn', 'nodapl', 'noltenc', 'nordstrom', 'normornstein', 'northcarolina', 'now', 'nowplaying', 'np', 'npr', 'nprpolitics', 'nra', 'nro', 'number10gov', 'nutrition', 'ny', 'nyc', 'nycsouthpaw', 'nydailynews', 'nyjets', 'nyknicks', 'nymag', 'nypmetro', 'nytnickc', 'nytopinion', 'oann', 'obamacarefail', 'obamacareinthreewords', 'obamamalik', 'observer', 'octobersurprise', 'officeofrg', 'ohio', 'oil', 'okcthunder', 'oliverdarcy', 'omfg_america', 'online', 'onlxn', 'only4rm', 'onmessageforher', 'oprah', 'oregon', 'oregonian', 'oregonstandoff', 'outfrontcnn', 'outnumberedfnc', 'owillis', 'owntv', 'p0tustrump', 'p2', 'pa', 'packers', 'painting', 'pakistan', 'pamela_moore13', 'panthers', 'parenting', 'paris', 'party', 'pastormarkburns', 'pathetic', 'patmccrorync', 'patrickmurphyfl', 'patriot', 'patriotbygod', 'patriotic_folks', 'patriots', 'pattonoswalt', 'paulbegala', 'paulinehansonoz', 'paulkrugman', 'paytoplay', 'pbs', 'pbump', 'peace', 'peddoc63', 'pence', 'pennsylvania', 'people', 'perduechicken', 'perduecrew', 'periscope', 'periscopeco', 'peterdaou', 'petewilliamsnbc', 'pets', 'pharris830', 'phil_mattingly', 'philcollinsfeed', 'philly', 'phivsdal', 'photo', 'photography', 'piersmorgan', 'pitch', 'pizzapartyben', 'pjnet', 'plantflowes', 'pmoindia', 'pnehlen', 'podcast', 'podesta', 'podestaemails18', 'podestaemails19', 'podestaemails20', 'podestaemails21', 'podestaemails22', 'podestaemails23', 'podestaleaks', 'poetry', 'police', 'politicomag', 'politics', 'politics_pr', 'politicussarah', 'politifact', 'poll', 'polls', 'pontifex', 'poppyharlowcnn', 'postroz', 'poverty', 'ppact', 'ppollingnumbers', 'pr', 'president', 'presidentialelection', 'presidenttrump', 'privacy', 'project_veritas', 'projectveritas', 'prolife', 'promotion', 'pryan', 'ps4share', 'pti', 'pumpkin', 'pumpkins', 'puppymnkey', 'putin', 'pveritas_action', 'queensugar', 'queensugarown', 'quote', 'quotea', 'quotebe', 'quotedon', 'quotehow', 'quotei', 'quoteif', 'quoteit', 'quotelife', 'quotes', 'quotethanks', 'quotethe', 'quoteto', 'quotewhat', 'quoteyou', 'quoteyour', 'qz', 'racism', 'racist', 'radiofreetom', 'raheemkassam', 'raidernation', 'raiders', 'rallytogether', 'rallytogetheri', 'ralstonreports', 'rambobiggs', 'ranaayyub', 'randpaul', 'randyprine', 'rape', 'raw', 'rawstory', 'rbcreamer', 'rcpvideo', 'reading', 'reaganbattalion', 'realalexjones', 'realbencarson', 'realclearnews', 'realdenaldtrump', 'realdennislynch', 'realestate', 'realmuckmaker', 'realskipbayless', 'realstrategyfan', 'realtimers', 'recipe', 'reddit', 'redskins', 'redstate', 'refugees', 'regated', 'reinindc', 'reliablesources', 'repcummings', 'republican', 'republicans', 'rescuetracker81', 'research', 'respect', 'retail', 'reuters', 'rhonj', 'richardbranson', 'richardgrenell', 'richardtburnett', 'rickygervais', 'rigged', 'riggedelection', 'riggedsystem', 'ringer', 'riotwomennn', 'rip', 'ripcity', 'ripvine', 'ritapanahi', 'rnc', 'rockprincess818', 'rogerjstonejr', 'rolandsmartin', 'rollingstone', 'rolltribe', 'ron_fournier', 'rosie', 'roycoopernc', 'rsbnetwork', 'rt', 'rt_com', 'rtraister', 'rubycramer', 'rudygiulianigop', 'run', 'running', 'rupertmurdoch', 'rushlimbaugh', 'russia', 'russian', 'russians', 'russwest44', 'ryanlizza', 's_c_', 'sad', 'sahilkapur', 'sales', 'sallykohn', 'salon', 'samharrisorg', 'samsteinhp', 'sandrasmithfox', 'sandratxas', 'sarabareilles', 'sarahkendzior', 'sarihorwitz', 'sashabankswwe', 'saudi', 'saudiarabia', 'sbnation', 'scarystoriesin5words', 'school', 'schreckreports', 'schultz44', 'science', 'scifi', 'scotland', 'scottadamssays', 'scottbaio', 'scottienhughes', 'scottpresler', 'scotus', 'scrowder', 'sdgs', 'sdlive', 'seahawks', 'seanspicer', 'seattle', 'seavsno', 'sebgorka', 'secretservice', 'secupp', 'security', 'selfie', 'senate', 'senategop', 'senatemajldr', 'senatorkirk', 'senatorreid', 'senatorsessions', 'senfeinstein', 'senjohnmccain', 'senronjohnson', 'sensanders', 'sentedcruz', 'senwarren', 'seo', 'sevyn', 'shannoncoulter', 'shareblue', 'sharethis', 'sharonmccutchan', 'sharylattkisson', 'shaunking', 'shepnewsteam', 'sheriffclarke', 'sherylcrow', 'sheswithus', 'shewhovotes', 'shkhrasheed', 'sickhillary', 'signsatthegatesofhell', 'sissenberg', 'sixers', 'skincare', 'skynews', 'slate', 'slh', 'slone', 'smallbiz', 'smallbusiness', 'smerconish', 'smh', 'smm', 'smshow', 'snapchat', 'snf', 'snfonnbc', 'snl', 'snoopdogg', 'snopes', 'snowden', 'socal4trump', 'socent', 'social', 'socialmedia', 'socialmediathe', 'solar', 'soledadobrien', 'sopandeb', 'soros', 'sorrynotsorry', 'souljaboy', 'soundcloud', 'space', 'specialkmb1969', 'specialreport', 'speechboy71', 'splcenter', 'sponsored', 'spooky', 'sports', 'sportscenter', 'spotify', 'spurs', 'sputnikint', 'sruhle', 'standingrock', 'standwithstandingrock', 'starbucks', 'startrek', 'startup', 'startups', 'starwars', 'statedept', 'stefanmolyneux', 'stem', 'steph93065', 'stephenathome', 'stephenfhayes', 'stephenking', 'stephenswsj', 'stevekornacki', 'stevenwhirsch99', 'steveyeun', 'stonewall_77', 'stopcorpabuse', 'stopnuclearwar', 'stopstophillary', 'strangerthings', 'strategy', 'stress', 'strictly', 'style', 'subway', 'success', 'sunday', 'sundaymorning', 'sunrise', 'sunset', 'supernatural', 'support', 'surfermom77', 'survivor', 'sustainability', 'swamy39', 'sweden', 'sweepstakes', 'sykescharlie', 'syria', 'tacobell', 'tallahfortrump', 'tamaraleighllc', 'tammyforil', 'tamronhall', 'tarekfatah', 'target', 'taylorswift13', 'tbt', 'tcot', 'team', 'teamcavuto', 'teammcmullin', 'teamtrumpaz', 'teapainusa', 'teaparty', 'tech', 'techcrunch', 'technology', 'tedcruz', 'teddyschleifer', 'telegraph', 'telegraphnews', 'ten_gop', 'termlimits', 'terrorism', 'teslamotors', 'texas', 'texastribune', 'tgif', 'thanksgiving', 'thankyou', 'the', 'the_intercept', 'theatlantic', 'thebaxterbean', 'theblaze', 'thecut', 'theeconomist', 'theellenshow', 'thefall', 'thefive', 'thefix', 'theflash', 'thegarance', 'theijr', 'thejk_kid', 'thejuanwilliams', 'thejusticedept', 'thelastrefuge2', 'thelastword', 'theleadcnn', 'themrc', 'thenation', 'theonlyadult', 'thepatriot143', 'theplumlinegs', 'therealroseanne', 'theresa_may', 'therickwilson', 'therickyvaughn', 'therightscoop', 'thesun', 'theview', 'thewalkingdead', 'theyoungturks', 'thinkprogress', 'thisisus', 'thisweekabc', 'thr', 'throwbackthursday', 'thunderclapit', 'thursdaythoughts', 'tiffanyatrump', 'time', 'timesnow', 'timesofindia', 'timtebow', 'tips', 'titans', 'tkdmike', 'tmobile', 'tmz', 'tnf', 'todayshow', 'toddstarnes', 'tom_winter', 'tomcottonar', 'tomhanks', 'tomilahren', 'tommyshida', 'toronto', 'torontostar', 'townhallcom', 'tpm', 'tponews', 'tpp', 'travel', 'travelthe', 'trickortreat', 'trobinsonnewera', 'trumpahorrormovie', 'trumpdc', 'trumpland', 'trumplandslide', 'trumppence', 'trumppence2016', 'trumppencelandslide', 'trumppenceusa1', 'trumprally', 'trumps', 'trumpstrong', 'trumpsuperpac', 'trumptheestablishment', 'trumptv', 'trumpwomenstour', 'truth', 'truthfeednews', 'trutvjokers', 'ttt16', 'tuckercarlson', 'tuesdaymotivation', 'tumblr', 'turkey', 'turnbullmalcolm', 'tv', 'tvietor08', 'twd', 'twitchyteam', 'uber', 'uk', 'uklabour', 'ukraine', 'ultraviolet', 'umichfootball', 'un', 'uniteblue', 'unityactivist', 'untappd', 'upshotnyt', 'us', 'usa', 'usafortrump2016', 'usaneedstrump', 'uselection', 'utah', 'uwbadgers', 'va', 'va4hillary1', 'vanjones68', 'variety', 'varneyco', 'vegan', 'veganvecoh', 'vegas', 'venezuela', 'verge', 'veritas', 'verizon', 'vetapologist', 'veteran', 'veteran4trump', 'veterans', 'vets', 'vice', 'vickybrush', 'video', 'vimeo', 'vine', 'violence', 'virginia', 'vivalaames', 'vivelafra', 'voteblue', 'votebluedownballot', 'voteearly', 'votersuppression', 'votetrump2016', 'votetrumppence16', 'voting', 'voxdotcom', 'vp', 'vr', 'wakeupamerica', 'walkingdead', 'walkingdead_amc', 'wallstreet', 'walmart', 'waposean', 'war', 'warriors', 'washington', 'washtimes', 'wasvscin', 'water', 'watergate', 'waterislife', 'watson', 'waynedupreeshow', 'weaselzippers', 'weather', 'wedding', 'wednesdaywisdom', 'weekend', 'wef', 'weinergate', 'wendyvoss', 'weneedtrump', 'westwingreport', 'westworld', 'westworldhbo', 'wethepeople', 'whitehouse', 'wikileak', 'wildlife', 'williegeist', 'win', 'windians', 'wine', 'wired', 'wisconsin', 'wltaskforce', 'woahohkatie', 'woman', 'women', 'womenfortrump', 'woodhouseb', 'wordpressdotcom', 'work', 'world', 'worldnetdaily', 'worlds', 'worldseriesi', 'worldseriesif', 'worldseriesthat', 'worldseriesthe', 'worldseriesthis', 'worldserieswhat', 'wpjenna', 'wrigleyfield', 'writing', 'wsjpolitics', 'wtf', 'wwe', 'xfactor', 'yahoonews', 'yankees', 'yashar', 'yelp', 'yemen', 'yoga', 'youngdems4trump', 'youranonnews', 'youtubea', 'youtubebreaking', 'youtubeclinton', 'youtubedonald', 'youtubefbi', 'youtubehillary', 'youtubehow', 'youtubei', 'youtubeif', 'youtubenew', 'youtubeobama', 'youtubethe', 'youtubethis', 'youtubetrump', 'youtubewe', 'youtubewhat', 'youtubewhy', 'youtubewikileaks', 'youtubeyou', 'yuengling_beer', 'zacgoldsmith', 'zekejmiller', 'zerohedge', 'zika', 'zimmermanrob']\n"
     ]
    }
   ],
   "source": [
    "cluster_0 = []\n",
    "cluster_1 = []\n",
    "cluster_2 = []\n",
    "\n",
    "elements = vectorizer_1.get_feature_names()\n",
    "#print(elements)\n",
    "for i in range(0,1914):\n",
    "    #print(kmeans_labels_1[i])\n",
    "    if(kmeans_labels_1[i]==0):\n",
    "        cluster_0.append(elements[i])\n",
    "    if(kmeans_labels_1[i]==1):  \n",
    "        cluster_1.append(elements[i])\n",
    "    if(kmeans_labels_1[i]==2):  \n",
    "        cluster_2.append(elements[i])\n",
    "        \n",
    "print(\"Cluster 0\")       \n",
    "print(cluster_0)\n",
    "\n",
    "print(\"Cluster 1\")\n",
    "print(cluster_1)\n",
    "\n",
    "print(\"Cluster 2\")\n",
    "print(cluster_2)\n",
    "\n",
    " "
   ]
  },
  {
   "cell_type": "code",
   "execution_count": 37,
   "metadata": {},
   "outputs": [
    {
     "data": {
      "text/plain": [
       "array([0, 2, 2, ..., 2, 2, 2], dtype=int64)"
      ]
     },
     "execution_count": 37,
     "metadata": {},
     "output_type": "execute_result"
    }
   ],
   "source": [
    "aglo_1 = sk_cluster.AgglomerativeClustering(linkage = 'ward', n_clusters = 5)   \n",
    "\n",
    "#complete: The maximum distances\n",
    "#n_clusters: The number of clusters to find.\n",
    "\n",
    "aglo_labels_1 = aglo_1.fit_predict(matrix.T.toarray())\n",
    "aglo_labels_1"
   ]
  },
  {
   "cell_type": "code",
   "execution_count": 38,
   "metadata": {},
   "outputs": [
    {
     "name": "stdout",
     "output_type": "stream",
     "text": [
      "Counter({2: 1807, 0: 97, 3: 7, 1: 2, 4: 1})\n"
     ]
    }
   ],
   "source": [
    "print(collections.Counter(aglo_labels_1))"
   ]
  },
  {
   "cell_type": "code",
   "execution_count": 39,
   "metadata": {},
   "outputs": [
    {
     "data": {
      "text/plain": [
       "(1914,)"
      ]
     },
     "execution_count": 39,
     "metadata": {},
     "output_type": "execute_result"
    }
   ],
   "source": [
    "aglo_labels_1.shape"
   ]
  },
  {
   "cell_type": "code",
   "execution_count": 40,
   "metadata": {},
   "outputs": [
    {
     "name": "stdout",
     "output_type": "stream",
     "text": [
      "Cluster 0\n",
      "['0hour1__', 'abc', 'anncoulter', 'barackobama', 'berniesanders', 'bfraser747', 'billclinton', 'breitbartnews', 'bretbaier', 'brithume', 'carminezozzora', 'cbs', 'cbsnews', 'cernovich', 'cnnpolitics', 'crookedhillary', 'dailycaller', 'danscavino', 'dcexaminer', 'diamondandsilk', 'donaldjtrumpjr', 'donnabrazile', 'draintheswamp', 'drudge_report', 'erictrump', 'evan_mcmullin', 'flotus', 'foxandfriends', 'foxbusiness', 'frankluntz', 'gatewaypundit', 'gop', 'hillary', 'huffpostpol', 'humaabedin', 'imwithher', 'infowars', 'ingrahamangle', 'jackposobiec', 'jaketapper', 'jamesokeefeiii', 'jaredwyand', 'jasoninthehouse', 'johnpodesta', 'joyannreid', 'judgejeanine', 'kellyannepolls', 'kurteichenwald', 'leahr77', 'lindasuhler', 'lorettalynch', 'loudobbs', 'lrihendry', 'maddow', 'maga', 'maga3x', 'magnifier661', 'michaelcohen212', 'mike_pence', 'mitchellvii', 'mmflint', 'msnbc', 'nbc', 'nbcnews', 'neverhillary', 'nevertrump', 'nypost', 'nytimes', 'obamamalik', 'oreillyfactor', 'paulkrugman', 'politico', 'politicususa', 'prisonplanet', 'realalexjones', 'realjameswoods', 'robbymook', 'scottadamssays', 'seanhannity', 'speakerryan', 'steph93065', 'teamtrump', 'tgowdysc', 'thedailybeast', 'thedemocrats', 'thehill', 'therickwilson', 'timkaine', 'trump2016', 'trumppence16', 'trumptrain', 'truthfeednews', 'usatoday', 'washingtonpost', 'wdfx2eu7', 'wsj', 'youtube']\n",
      "Cluster 2\n",
      "['10', '100percfedup', '12', '1a', '2016', '20committee', '2a', '2alaw', '_makada_', 'abcnetwork', 'abcnews', 'abcpolitics', 'abortion', 'ac360', 'aca', 'aclu', 'acosta', 'actualflatticus', 'ad', 'adamparkhomenko', 'adamsflafan', 'adele', 'adoptdontshop', 'aduanebrown', 'advertising', 'afghanistan', 'aflcio', 'afneil', 'africa', 'agentsofshield', 'ahsfx', 'ahsroanoke', 'ai', 'airbnb', 'ajdelgado13', 'ajenews', 'ajenglish', 'alasscan_', 'alecbaldwin', 'aleppo', 'algiordano', 'aliciakeys', 'alivitali', 'allahpundit', 'allanbrauer', 'allenwest', 'allinwithchris', 'alllibertynews', 'alllivesmatter', 'alternet', 'altright', 'always_trump', 'amandacarpenter', 'amas', 'amazon', 'amazongiveaway', 'america', 'americafirst', 'american', 'americanair', 'americanmex067', 'americans', 'amjoy', 'amjoyshow', 'amlookout', 'amreading', 'amwriting', 'amymek', 'amyschumer', 'analytics', 'anamariecox', 'ananavarro', 'andersoncooper', 'andieiamwhoiam', 'android', 'andy', 'angela_rye', 'animals', 'anomaly1', 'anonymous', 'anthonyweiner', 'anushkasharma', 'ap', 'ap_politics', 'app', 'apple', 'appleevent', 'applemusic', 'appsame', 'ar', 'aravosis', 'architecture', 'ariberman', 'arimelber', 'arizona', 'armandodkos', 'army', 'art', 'artist', 'arvindkejriwal', 'asamjulian', 'aseitzwald', 'assad', 'assange', 'atensnut', 'aterkel', 'atlanta', 'atlasobscura', 'atrupar', 'att', 'auspol', 'austan_goolsbee', 'australia', 'australian', 'author', 'autism', 'autumn', 'avaetc', 'awesome', 'ayaan', 'az', 'azcentral', 'b2b', 'bakari_sellers', 'bakedalaska', 'balsamhill', 'bannerite', 'barbmuenchen', 'barstoolbigcat', 'barstoolsports', 'baseball', 'baseballbands', 'basketball', 'basketofdeplorables', 'baueroutage', 'bbc', 'bbcbreaking', 'bbcnews', 'bbcqt', 'bbcworld', 'bbhuttozardari', 'bbott', 'bdutt', 'beach', 'beautiful', 'beauty', 'beer', 'beforetheflood', 'beladonnarogers', 'bencjacobs', 'bengals', 'benghazi', 'benhowe', 'benshapiro', 'bernie', 'betsy_mccaughey', 'beyonce', 'bfriedmandc', 'bi_politics', 'biden', 'bigboater88', 'bigdata', 'bikers4trump', 'billboard', 'billhemmer', 'billkristol', 'billmaher', 'billmoyershq', 'billmurray', 'billpostmus', 'bills', 'bipartisan', 'birthday', 'bitcoin', 'biz', 'bizpacreview', 'bjp4india', 'black', 'blackcatday', 'blacklivesmatter', 'blackmirror', 'blacks4trump', 'blacksfortrump', 'blakehounshell', 'bleacherreport', 'blessed', 'blm', 'blockchain', 'blog', 'blogging', 'bluelivesmatter', 'bluewave', 'bluewave2016', 'book', 'books', 'borisep', 'borisjohnson', 'borowitzreport', 'boston', 'bostonglobe', 'boycotkochbros', 'boycottkellyfile', 'bpolitics', 'braddjaffy', 'brand', 'branding', 'bravotv', 'breakfast', 'breaking', 'breastcancer', 'brexit', 'brianbeutler', 'brianefallon', 'brianstelter', 'broncos', 'browns', 'brunelldonald', 'buck', 'buffalobills', 'buildthewall', 'business', 'businessinsider', 'businessthe', 'buzzfeed', 'buzzfeedben', 'buzzfeednews', 'bv', 'bw', 'byronyork', 'c0nvey', 'c0nveyi', 'c0nveythe', 'ca', 'cafreeland', 'cajunkangaroo', 'calais', 'california', 'callisto1947', 'canada', 'cancer', 'candacesmith_', 'capehartj', 'career', 'carlbernstein', 'carlosdanger', 'carolde', 'carpoolkaraoke', 'cassandrarules', 'cat', 'catholic', 'cats', 'catsofinstagram', 'caturday', 'cavs', 'cbcnews', 'cbsboston', 'cbslocal', 'cbspolitics', 'cbssports', 'cbsthismorning', 'ccot', 'cdnpoli', 'ceo', 'ceta', 'chaffetz', 'change', 'charleshurt', 'charlesmblow', 'charliekirk11', 'chelseaclinton', 'chelseahandler', 'cher', 'cherokeesher2', 'chicago', 'chicagocubs', 'chicagotribune', 'children', 'china', 'chinese', 'chocolate', 'chrischristie', 'chriscuomo', 'chrislhayes', 'chrisstirewalt', 'christian', 'christians', 'christichat', 'christiec733', 'christinawilkie', 'christmas', 'chucknellis', 'chucktodd', 'chuckwoolery', 'cia', 'ckluber', 'cle', 'clemson', 'cleveland', 'clevelandagainsttheworld', 'clewandowski_', 'climate', 'climatechange', 'clinton', 'clintoncash', 'clintoncorruption', 'clintoncrimefamily', 'clintonemails', 'clintonemailscandal', 'clintonfdn', 'clintonfoundation', 'clintonkaine', 'clintonkaine2016', 'clintons', 'clintonscandals', 'cloud', 'cnbc', 'cnnbrk', 'cnni', 'cnnmoney', 'cnnsitroom', 'cnntonight', 'co_rapunzel4', 'coffee', 'col_nj', 'college', 'colorado', 'colvinj', 'comedy', 'comey', 'comeyresign', 'community', 'competition', 'congress', 'conservative', 'constitution', 'content', 'contentmarketing', 'contest', 'cooking', 'correctrecord', 'corrupt', 'corruptclintons', 'corrupthillary', 'corruption', 'corruptmedia', 'cortessteve', 'cosproject', 'costareports', 'costume', 'cowboys', 'cowboysnation', 'crampell', 'creative', 'credomobile', 'criminal', 'cristinalaila1', 'crooked', 'crookedmedia', 'crooksandliars', 'cspanwj', 'ctl', 'cubbies', 'cubs', 'cubsvsindians', 'culture', 'curtishouck', 'cvpayne', 'cx', 'cybersecurity', 'dailykos', 'dailymail', 'dailymirror', 'dailynewsbin', 'dailysignal', 'dak', 'dakotaaccesspipeline', 'dallas', 'dallascowboys', 'danabashcnn', 'danaperino', 'danmericacnn', 'danney_williams', 'danpfeiffer', 'dapl', 'darhuddleston', 'darrellissa', 'darren32895836', 'darrenrovell', 'darth', 'data', 'datrumpnation1', 'daveweigel', 'davidafrench', 'davidaxelrod', 'davidcorndc', 'davidfrum', 'davidjo52951945', 'davidplouffe', 'davidpsdem', 'dc', 'ddale8', 'deadline', 'deadspin', 'dealmein', 'debate', 'debates', 'debbiemacomber', 'deborahrossnc', 'debramessing', 'deckyourhalls', 'deejay90192', 'defendtheland', 'delta', 'democracy', 'democracynow', 'democrat', 'democrat_4trump', 'democratic', 'democrats', 'dems', 'deplorable', 'deplorablecbtp', 'deplorables', 'deray', 'design', 'detroit', 'devlinbarrett', 'dhecei', 'dhsgov', 'digital', 'dineshdsouza', 'disney', 'dissentingj', 'diversity', 'diwali', 'diy', 'dklaidman', 'dmartosko', 'dmregister', 'dnc', 'docrocktex26', 'doctorstrange', 'dog', 'dogs', 'doj', 'donaldtrump', 'donlemon', 'donthecon', 'doubledrizz', 'douglaseschoen', 'douthatnyt', 'doyourjob', 'draftourdaughters', 'drake', 'drjillstein', 'drmartyfox', 'drudge', 'dumptrump', 'dwstweets', 'dwyanewade', 'dylanbyers', 'eagles', 'earlyvoting', 'earthquake', 'ebay', 'ebaycheck', 'eclecticbrotha', 'ecommerce', 'economy', 'ecowatch', 'edballs', 'edchat', 'edhenry', 'edtech', 'education', 'eileendefreest', 'ejdionne', 'ejlandwehr', 'election', 'election2016', 'electionday', 'electionfraud', 'elections2016', 'elizabethforma', 'ellemagazine', 'elonmusk', 'email', 'emails', 'emailscandal', 'energy', 'entheosshines', 'entrepreneur', 'entrepreneurs', 'environment', 'equality', 'ericboehlert', 'ericbolling', 'erikwemple', 'es_snipes', 'esotericcd', 'espn', 'espnnfl', 'esqpolitics', 'esquire', 'etsy', 'eu', 'europe', 'evanmcmullin', 'evanperez', 'ew', 'ewerickson', 'exercise', 'eyes_of_justice', 'ezraklein', 'ezralevant', 'f1', 'facebook', 'facethenation', 'fahrenthold', 'fail', 'fall', 'family', 'fashion', 'fastcompany', 'fawfulfan', 'fbireopenscase', 'fdrlst', 'fec', 'feelthebern', 'femalesfortrump', 'feminism', 'ff', 'fightowensfight', 'film', 'fintech', 'firecomey', 'fitness', 'fivethirtyeight', 'fl', 'fladems', 'flashbackfriday', 'flgovscott', 'flipitdem', 'florida', 'flsen', 'flsendebate', 'flyeaglesfly', 'flythew', 'food', 'foodie', 'football', 'forbes', 'forecasterenten', 'fortunemagazine', 'foxnewsinsider', 'foxnewspolitics', 'foxnewspoll', 'foxnewssunday', 'foxsports', 'foxtv', 'fracking', 'france', 'franklin_graham', 'frankrichny', 'frankthorp', 'fraud', 'free', 'freebeacon', 'freedom', 'friday', 'fridayfeeling', 'friends', 'fs1', 'fsu', 'ft', 'fullfrontalsamb', 'fun', 'funder', 'funny', 'fusion', 'future', 'ga', 'gabrielsherman', 'gaetasusan', 'gaming', 'garylineker', 'gbbo', 'gbbofinal', 'gdebenedetti', 'gehrig38', 'gender', 'genflynn', 'georgesoros', 'georgetakei', 'georgia', 'geraldorivera', 'germany', 'ggreenwald', 'gh', 'giants', 'gift', 'gilmoregirls', 'girlsreallyrule', 'giveaway', 'glennbeck', 'glennkesslerwp', 'glennthrush', 'globalnews', 'globeandmail', 'gloriaborger', 'gma', 'goals', 'goblue', 'gocubs', 'gocubsgo', 'god', 'godawgs', 'gofundme', 'gohillary', 'gold', 'goldengateblond', 'google', 'gotribe', 'gotv', 'government', 'govgaryjohnson', 'govhowarddean', 'govmikehuckabee', 'govpencein', 'gqmagazine', 'grabyourwallet', 'gratitude', 'greatdismal', 'greeneyes0084', 'gregabbott_tx', 'greggutfeld', 'greta', 'gstephanopoulos', 'guardian', 'guypbenson', 'hadas_gold', 'hagoodmanauthor', 'haiti', 'halliejackson', 'hallmarkchannel', 'halloweekend', 'halloween', 'halloween2016', 'halloweencostume', 'halloweenthe', 'hamilton', 'hamiltonmusical', 'handmade', 'hannity', 'happiness', 'happyhalloween', 'hardball', 'hardballchris', 'harlan', 'harrisfaulkner', 'harrypotter', 'hatchact', 'hbo', 'health', 'healthcare', 'healthy', 'heathrow', 'hectormorenco', 'heerjeet', 'heismanhouse', 'hereiamwithher', 'heytammybruce', 'hfa', 'hiac', 'hiaci', 'highered', 'hillary2016', 'hillary4prison', 'hillaryemail', 'hillaryemails', 'hillaryemailscandal', 'hillaryforprison', 'hillaryforprison2016', 'hillarys', 'hillarysamerica', 'hillarysarmy', 'hillarysbullies', 'hillarysemail', 'hillarysemails', 'hillaryshealth', 'hillbullies', 'hillyes', 'hiphop', 'history', 'hiv', 'hocuspocus', 'holiday', 'hollywood', 'home', 'hope', 'horror', 'hotlinejosh', 'housecracka', 'housegop', 'howardkurtz', 'howardstern', 'hr', 'hrc', 'hrtablaze', 'hrw', 'htgawm', 'httr', 'httweets', 'huffingtonpost', 'huffpostblog', 'huffpostpolthe', 'huffpostpoltrump', 'hughhewitt', 'huma', 'humanrights', 'hypocrisy', 'iamsambee', 'ibmwatson', 'ibmwow', 'iceland', 'iheartradio', 'imillhiser', 'immigrant4trump', 'immigration', 'imrankhanpti', 'imwither', 'imwithher2016', 'inc', 'incindia', 'independent', 'india', 'indians', 'inners', 'innovation', 'inspiration', 'instagram', 'insurance', 'intelligencer', 'iot', 'iowa', 'iran', 'iraq', 'ireland', 'irs', 'isikoff', 'isis', 'islam', 'israel', 'it', 'italians4trump', 'italy', 'italyearthquake', 'itunes', 'itvnews', 'ivankatrump', 'jack', 'jaguars', 'jamescomey', 'jamescomeyfbi', 'jameshohmann', 'jamesrosenfnc', 'janemayernyer', 'jasonmillerindc', 'jbaker31826004', 'jbarro', 'jbouie', 'jdelreal', 'jdmorgan', 'jebbush', 'jeffersonobama', 'jeffflake', 'jeffpearlman', 'jeffpeguescbs', 'jeffreytoobin', 'jeffzeleny', 'jeisrael', 'jeneps', 'jengranholm', 'jengriffinfnc', 'jenniferjjacobs', 'jeremycorbyn', 'jerseyj0e', 'jesserodriguez', 'jesus', 'jewelry', 'jheil', 'jillnothill', 'jillstein', 'jimmiejohnson', 'jimmykimmel', 'jimsciutto', 'jjauthor', 'jk_rowling', 'jkcorden', 'jlo', 'jmartnyt', 'jmpalmieri', 'joanwalsh', 'job', 'jobs', 'joebiden', 'joeconason', 'joenbc', 'johnfugelsang', 'johnjharwood', 'johnkasich', 'johnkerry', 'johnkingcnn', 'johnkstahlusa', 'jokerslive', 'jonahnro', 'jonathanchait', 'jonfavs', 'jordanchariton', 'joshrogin', 'joshtpm', 'joshuagreen', 'journalism', 'jpodhoretz', 'jrubinblogger', 'jtimberlake', 'juddapatow', 'juddlegum', 'judgenap', 'judicialwatch', 'julianassange_', 'julieroginsky', 'just_a_texan', 'justice', 'justinjm1', 'justintrudeau', 'justsaying', 'kaepernick7', 'kanyewest', 'karanjohar', 'karlrove', 'karma', 'karoli', 'kasie', 'katherinemiller', 'kathleen_wynne', 'katiecouric', 'katiemcgintypa', 'katiepavlich', 'katrinapierson', 'katyperry', 'katyturnbc', 'kayleighmcenany', 'kazmierskir', 'kdtrey5', 'kedronbardwell', 'keepamergr8', 'keitholbermann', 'keithrowland', 'kellyayotte', 'kellyfile', 'kenloachsixteen', 'kennedynation', 'kerpen', 'kevindarryl', 'kfile', 'khanoisseur', 'kharyp', 'kids', 'killoughcnn', 'kimdotcom', 'kimguilfoyle', 'kimstrassel', 'kingjames', 'kira_lerner', 'knicks', 'knp2bp', 'kotcha301', 'krauthammer', 'kris_sacrebleu', 'kschwarb12', 'kthopkins', 'ktumulty', 'kurtschlichter', 'kwelkernbc', 'kylegriffin1', 'la', 'ladygaga', 'lakers', 'laraleatrump', 'larryelder', 'larrysabato', 'lasvegas', 'latimes', 'latinaafortrump', 'latinos', 'lauren_southern', 'law', 'law_newz', 'lawrence', 'lbc', 'leadership', 'leahrboss', 'lechatnoire4', 'lee_in_iowa', 'leodicaprio', 'lesdoggg', 'lesliemarshall', 'leslieodomjr', 'letsgo', 'lfc', 'lgbt', 'lgbtq', 'liar', 'libdems', 'liberal', 'liberals', 'lies', 'life', 'lifezette', 'lilyallen', 'lin_manuel', 'lindseygrahamsc', 'linkedin', 'lisamarieboothe', 'live', 'liz_wheeler', 'lizwfb', 'lockherup', 'lodisilverado', 'lol', 'lolgop', 'london', 'loser', 'louisemensch', 'love', 'loveghirardelli', 'lovetrumpshate', 'ludacristiano', 'luxury', 'maajidnawaz', 'macbookpro', 'madampresident', 'maddowblog', 'madonna', 'maggie_hassan', 'maggienyt', 'maggyw519', 'mailonline', 'makeamericagreatagain', 'makeup', 'malcolmnance', 'management', 'manmet80', 'manoharparrikar', 'manutd', 'marcorubio', 'marcylauren', 'mariabartiromo', 'markdice', 'marketing', 'markhalperin', 'markkirk', 'marklevinshow', 'markos', 'markruffalo', 'martinomalley', 'martinsvilleswy', 'marvel', 'maryannemarsh', 'mashable', 'mathiasian', 'mattgertz', 'matthewamiller', 'matthewjdowd', 'mattmackowiak', 'mattmfm', 'mattmurph24', 'mattyglesias', 'mbhokie97', 'mcdonalds', 'mcfaul', 'mckaycoppins', 'mcuban', 'media', 'mediabias', 'mediabuzzfnc', 'mediaite', 'medium', 'meetthepress', 'megankelly', 'meghanmccain', 'mehdirhasan', 'melaniatrump', 'melissaafrancis', 'mentalhealth', 'mexico', 'mexicogp', 'miami', 'miami4trump', 'miamiherald', 'mic', 'michaeldweiss', 'michaelkeyes', 'michaelmoore', 'michellemalkin', 'michelleobama', 'michigan', 'microsoft', 'microsoftevent', 'midgespeaks', 'midnight', 'mikepencevp', 'milesjreed', 'mileycyrus', 'military', 'millennials', 'mindyfinn', 'misslizzynj', 'mitchellreports', 'mittromney', 'mkraju', 'mlb', 'mlbonfox', 'mmfa', 'mmpadellan', 'mmurraypolitics', 'mobile', 'money', 'monicacrowley', 'montel_williams', 'morgfair', 'mormonmafia', 'morning_joe', 'morningjoe', 'morningmika', 'morningmoneyben', 'morningsmaria', 'mosul', 'motherjones', 'motivation', 'moveon', 'movies', 'mplusplaces', 'mplusrewards', 'mrdane1982', 'mredtrain', 'mrjamesonneat', 'mscharlottewwe', 'msm', 'mtnmd', 'mtracey', 'mufc', 'music', 'muslim', 'muslims', 'naacp', 'nancypelosi', 'nanowrimo', 'narendramodi', 'nasa', 'nascar', 'nastywoman', 'nastywomen', 'nate_cohn', 'natesilver538', 'natgeo', 'natgeochannel', 'nationalcatday', 'nationalchocolateday', 'nationalpost', 'nationalpumpkinday', 'nato', 'nature', 'nba', 'nbaontnt', 'nbatipoff', 'nbcnightlynews', 'nbcpolitics', 'nbcsnl', 'nbcthisisus', 'nbcwashington', 'nc', 'ndgovdalrymple', 'ndtv', 'neeratanden', 'neilturner_', 'netflix', 'networking', 'networksmanager', 'nevada', 'newday', 'newrepublic', 'news', 'newsbusters', 'newshour', 'newsmax', 'newsthe', 'newsweek', 'newt', 'newttrump', 'newyork', 'newyorker', 'nfl', 'nflcommish', 'nflnetwork', 'nflonfox', 'nh', 'nhl', 'nia4_trump', 'niallofficial', 'nicerrap', 'nickconfessore', 'nickkristof', 'nicolasturgeon', 'nicolledwallace', 'nigel_farage', 'nissan', 'nissanusa', 'nj', 'noahcrothman', 'noahgraycnn', 'nodapl', 'noltenc', 'nordstrom', 'normornstein', 'northcarolina', 'now', 'nowplaying', 'np', 'npr', 'nprpolitics', 'nra', 'nro', 'number10gov', 'nutrition', 'ny', 'nyc', 'nycsouthpaw', 'nydailynews', 'nyjets', 'nyknicks', 'nymag', 'nypmetro', 'nytnickc', 'nytopinion', 'oann', 'obama', 'obamacare', 'obamacarefail', 'obamacareinthreewords', 'observer', 'octobersurprise', 'officeofrg', 'ohio', 'oil', 'okcthunder', 'oliverdarcy', 'omfg_america', 'online', 'onlxn', 'only4rm', 'onmessageforher', 'oprah', 'oregon', 'oregonian', 'oregonstandoff', 'outfrontcnn', 'outnumberedfnc', 'owillis', 'owntv', 'p0tustrump', 'p2', 'pa', 'packers', 'painting', 'pakistan', 'pamela_moore13', 'panthers', 'parenting', 'paris', 'party', 'pastormarkburns', 'pathetic', 'patmccrorync', 'patrickmurphyfl', 'patriot', 'patriotbygod', 'patriotic_folks', 'patriots', 'pattonoswalt', 'paulbegala', 'paulinehansonoz', 'paytoplay', 'pbs', 'pbump', 'peace', 'peddoc63', 'pence', 'pennsylvania', 'people', 'perduechicken', 'perduecrew', 'periscope', 'periscopeco', 'peterdaou', 'petewilliamsnbc', 'pets', 'pharris830', 'phil_mattingly', 'philcollinsfeed', 'philly', 'phivsdal', 'photo', 'photography', 'piersmorgan', 'pitch', 'pizzapartyben', 'pjnet', 'plantflowes', 'pmoindia', 'pnehlen', 'podcast', 'podesta', 'podestaemails', 'podestaemails18', 'podestaemails19', 'podestaemails20', 'podestaemails21', 'podestaemails22', 'podestaemails23', 'podestaleaks', 'poetry', 'police', 'politicomag', 'politics', 'politics_pr', 'politicussarah', 'politifact', 'poll', 'polls', 'pontifex', 'poppyharlowcnn', 'postroz', 'poverty', 'ppact', 'ppollingnumbers', 'pr', 'president', 'presidentialelection', 'presidenttrump', 'privacy', 'project_veritas', 'projectveritas', 'prolife', 'promotion', 'pryan', 'ps4share', 'pti', 'pumpkin', 'pumpkins', 'puppymnkey', 'putin', 'pveritas_action', 'queensugar', 'queensugarown', 'quote', 'quotea', 'quotebe', 'quotedon', 'quotehow', 'quotei', 'quoteif', 'quoteit', 'quotelife', 'quotes', 'quotethanks', 'quotethe', 'quoteto', 'quotewhat', 'quoteyou', 'quoteyour', 'qz', 'racism', 'racist', 'radiofreetom', 'raheemkassam', 'raidernation', 'raiders', 'rallytogether', 'rallytogetheri', 'ralstonreports', 'rambobiggs', 'ranaayyub', 'randpaul', 'randyprine', 'rape', 'raw', 'rawstory', 'rbcreamer', 'rcpvideo', 'reading', 'reaganbattalion', 'realbencarson', 'realclearnews', 'realdenaldtrump', 'realdennislynch', 'realestate', 'realmuckmaker', 'realskipbayless', 'realstrategyfan', 'realtimers', 'recipe', 'reddit', 'redskins', 'redstate', 'refugees', 'regated', 'reince', 'reinindc', 'reliablesources', 'repcummings', 'republican', 'republicans', 'rescuetracker81', 'research', 'respect', 'retail', 'reuters', 'rhonj', 'richardbranson', 'richardgrenell', 'richardtburnett', 'rickygervais', 'rigged', 'riggedelection', 'riggedsystem', 'ringer', 'riotwomennn', 'rip', 'ripcity', 'ripvine', 'ritapanahi', 'rnc', 'rockprincess818', 'rogerjstonejr', 'rolandsmartin', 'rollingstone', 'rolltribe', 'ron_fournier', 'rosie', 'roycoopernc', 'rsbnetwork', 'rt', 'rt_com', 'rtraister', 'rubycramer', 'rudygiulianigop', 'run', 'running', 'rupertmurdoch', 'rushlimbaugh', 'russia', 'russian', 'russians', 'russwest44', 'ryanlizza', 's_c_', 'sad', 'sahilkapur', 'sales', 'sallykohn', 'salon', 'samharrisorg', 'samsteinhp', 'sandrasmithfox', 'sandratxas', 'sarabareilles', 'sarahkendzior', 'sarihorwitz', 'sashabankswwe', 'saudi', 'saudiarabia', 'sbnation', 'scarystoriesin5words', 'school', 'schreckreports', 'schultz44', 'science', 'scifi', 'scotland', 'scottbaio', 'scottienhughes', 'scottpresler', 'scotus', 'scrowder', 'sdgs', 'sdlive', 'seahawks', 'seanspicer', 'seattle', 'seavsno', 'sebgorka', 'secretservice', 'secupp', 'security', 'selfie', 'senate', 'senategop', 'senatemajldr', 'senatorkirk', 'senatorreid', 'senatorsessions', 'senfeinstein', 'senjohnmccain', 'senronjohnson', 'sensanders', 'sentedcruz', 'senwarren', 'seo', 'sevyn', 'shannoncoulter', 'shareblue', 'sharethis', 'sharonmccutchan', 'sharylattkisson', 'shaunking', 'shepnewsteam', 'sheriffclarke', 'sherylcrow', 'sheswithus', 'shewhovotes', 'shkhrasheed', 'sickhillary', 'signsatthegatesofhell', 'sissenberg', 'sixers', 'skincare', 'skynews', 'slate', 'slh', 'slone', 'smallbiz', 'smallbusiness', 'smerconish', 'smh', 'smm', 'smshow', 'snapchat', 'snf', 'snfonnbc', 'snl', 'snoopdogg', 'snopes', 'snowden', 'socal4trump', 'socent', 'social', 'socialmedia', 'socialmediathe', 'solar', 'soledadobrien', 'sopandeb', 'soros', 'sorrynotsorry', 'souljaboy', 'soundcloud', 'space', 'specialkmb1969', 'specialreport', 'speechboy71', 'splcenter', 'sponsored', 'spooky', 'sports', 'sportscenter', 'spotify', 'spurs', 'sputnikint', 'sruhle', 'standingrock', 'standwithstandingrock', 'starbucks', 'startrek', 'startup', 'startups', 'starwars', 'statedept', 'stefanmolyneux', 'stem', 'stephenathome', 'stephenfhayes', 'stephenking', 'stephenswsj', 'stevekornacki', 'stevenwhirsch99', 'steveyeun', 'stonewall_77', 'stopcorpabuse', 'stopnuclearwar', 'stopstophillary', 'strangerthings', 'strategy', 'stress', 'strictly', 'strongertogether', 'style', 'subway', 'success', 'sunday', 'sundaymorning', 'sunrise', 'sunset', 'supernatural', 'support', 'surfermom77', 'survivor', 'sustainability', 'swamy39', 'sweden', 'sweepstakes', 'sykescharlie', 'syria', 'tacobell', 'tallahfortrump', 'tamaraleighllc', 'tammyforil', 'tamronhall', 'tarekfatah', 'target', 'taylorswift13', 'tbt', 'tcot', 'team', 'teamcavuto', 'teammcmullin', 'teamtrumpaz', 'teapainusa', 'teaparty', 'tech', 'techcrunch', 'technology', 'tedcruz', 'teddyschleifer', 'telegraph', 'telegraphnews', 'ten_gop', 'termlimits', 'terrorism', 'teslamotors', 'texas', 'texastribune', 'tgif', 'thanksgiving', 'thankyou', 'the', 'the_intercept', 'theatlantic', 'thebaxterbean', 'theblaze', 'thecut', 'theeconomist', 'theellenshow', 'thefall', 'thefive', 'thefix', 'theflash', 'thegarance', 'theijr', 'thejk_kid', 'thejuanwilliams', 'thejusticedept', 'thelastrefuge2', 'thelastword', 'theleadcnn', 'themrc', 'thenation', 'theonlyadult', 'thepatriot143', 'theplumlinegs', 'therealroseanne', 'theresa_may', 'therickyvaughn', 'therightscoop', 'thesun', 'theview', 'thewalkingdead', 'theyoungturks', 'thinkprogress', 'thisisus', 'thisweekabc', 'thr', 'throwbackthursday', 'thunderclapit', 'thursdaythoughts', 'tiffanyatrump', 'time', 'timesnow', 'timesofindia', 'timtebow', 'tips', 'titans', 'tkdmike', 'tmobile', 'tmz', 'tnf', 'todayshow', 'toddstarnes', 'tom_winter', 'tomcottonar', 'tomhanks', 'tomilahren', 'tommyshida', 'toronto', 'torontostar', 'townhallcom', 'tpm', 'tponews', 'tpp', 'travel', 'travelthe', 'trickortreat', 'trobinsonnewera', 'trumpahorrormovie', 'trumpdc', 'trumpland', 'trumplandslide', 'trumppence', 'trumppence2016', 'trumppencelandslide', 'trumppenceusa1', 'trumprally', 'trumps', 'trumpstrong', 'trumpsuperpac', 'trumptheestablishment', 'trumptv', 'trumpwomenstour', 'truth', 'trutvjokers', 'ttt16', 'tuckercarlson', 'tuesdaymotivation', 'tumblr', 'turkey', 'turnbullmalcolm', 'tv', 'tvietor08', 'twd', 'twitchyteam', 'twitter', 'uber', 'uk', 'uklabour', 'ukraine', 'ultraviolet', 'umichfootball', 'un', 'uniteblue', 'unityactivist', 'untappd', 'upshotnyt', 'us', 'usa', 'usafortrump2016', 'usaneedstrump', 'uselection', 'utah', 'uwbadgers', 'va', 'va4hillary1', 'vanjones68', 'variety', 'varneyco', 'vegan', 'veganvecoh', 'vegas', 'venezuela', 'verge', 'veritas', 'verizon', 'vetapologist', 'veteran', 'veteran4trump', 'veterans', 'vets', 'vice', 'vickybrush', 'video', 'vimeo', 'vine', 'violence', 'virginia', 'vivalaames', 'vivelafra', 'vote', 'voteblue', 'votebluedownballot', 'voteearly', 'voterfraud', 'votersuppression', 'votetrump', 'votetrump2016', 'votetrumppence16', 'voting', 'voxdotcom', 'vp', 'vr', 'wakeupamerica', 'walkingdead', 'walkingdead_amc', 'wallstreet', 'walmart', 'walshfreedom', 'waposean', 'war', 'warriors', 'washington', 'washtimes', 'wasvscin', 'water', 'watergate', 'waterislife', 'watson', 'waynedupreeshow', 'weaselzippers', 'weather', 'wedding', 'wednesdaywisdom', 'weekend', 'wef', 'weiner', 'weinergate', 'wendyvoss', 'weneedtrump', 'westwingreport', 'westworld', 'westworldhbo', 'wethepeople', 'whitehouse', 'wikileak', 'wildlife', 'williegeist', 'win', 'windians', 'wine', 'wired', 'wisconsin', 'wltaskforce', 'woahohkatie', 'wolfblitzer', 'woman', 'women', 'womenfortrump', 'woodhouseb', 'wordpressdotcom', 'work', 'world', 'worldnetdaily', 'worlds', 'worldseries', 'worldseriesi', 'worldseriesif', 'worldseriesthat', 'worldseriesthe', 'worldseriesthis', 'worldserieswhat', 'wpjenna', 'wrigleyfield', 'writing', 'wsjpolitics', 'wtf', 'wwe', 'xfactor', 'yahoonews', 'yankees', 'yashar', 'yelp', 'yemen', 'yoga', 'youngdems4trump', 'youranonnews', 'youtubea', 'youtubebreaking', 'youtubeclinton', 'youtubedonald', 'youtubefbi', 'youtubehillary', 'youtubehow', 'youtubei', 'youtubeif', 'youtubenew', 'youtubeobama', 'youtubethe', 'youtubethis', 'youtubetrump', 'youtubewe', 'youtubewhat', 'youtubewhy', 'youtubewikileaks', 'youtubeyou', 'yuengling_beer', 'zacgoldsmith', 'zekejmiller', 'zerohedge', 'zika', 'zimmermanrob']\n",
      "Cluster 3\n",
      "['cnn', 'fbi', 'foxnews', 'megynkelly', 'newtgingrich', 'potus', 'wikileaks']\n"
     ]
    }
   ],
   "source": [
    "cluster_ag_0 = []\n",
    "cluster_ag_2 = []\n",
    "cluster_ag_3 = []\n",
    "\n",
    "elements_1 = vectorizer_1.get_feature_names()\n",
    "for i in range(0,1914):\n",
    "    if(aglo_labels_1[i] == 0):\n",
    "        cluster_ag_0.append(elements_1[i])\n",
    "    if(aglo_labels_1[i] == 2):\n",
    "        cluster_ag_2.append(elements_1[i])\n",
    "    if(aglo_labels_1[i] == 3):\n",
    "        cluster_ag_3.append(elements_1[i])\n",
    "    \n",
    "print(\"Cluster 0\")       \n",
    "print(cluster_ag_0)\n",
    "\n",
    "print(\"Cluster 2\")\n",
    "print(cluster_ag_2)\n",
    "\n",
    "print(\"Cluster 3\")\n",
    "print(cluster_ag_3)\n"
   ]
  },
  {
   "cell_type": "code",
   "execution_count": 41,
   "metadata": {},
   "outputs": [
    {
     "name": "stdout",
     "output_type": "stream",
     "text": [
      "<class 'scipy.sparse.csr.csr_matrix'>\n",
      "[[1 0 0 ..., 0 0 0]\n",
      " [0 0 0 ..., 0 0 0]\n",
      " [0 0 0 ..., 0 0 0]\n",
      " ..., \n",
      " [0 0 0 ..., 0 0 0]\n",
      " [0 0 0 ..., 0 0 0]\n",
      " [0 0 0 ..., 0 0 0]]\n",
      "['0hour1__', '10', '100percfedup', '12', '1a', '2016', '20committee', '2a', '2alaw', '_makada_', 'abc', 'abcnetwork', 'abcnews', 'abcpolitics', 'abortion', 'ac360', 'aca', 'aclu', 'acosta', 'actualflatticus', 'ad', 'adamparkhomenko', 'adamsflafan', 'adele', 'adoptdontshop', 'aduanebrown', 'advertising', 'afghanistan', 'aflcio', 'afneil', 'africa', 'agentsofshield', 'ahsfx', 'ahsroanoke', 'ai', 'airbnb', 'ajdelgado13', 'ajenews', 'ajenglish', 'alasscan_', 'alecbaldwin', 'aleppo', 'algiordano', 'aliciakeys', 'alivitali', 'allahpundit', 'allanbrauer', 'allenwest', 'allinwithchris', 'alllibertynews', 'alllivesmatter', 'alternet', 'altright', 'always_trump', 'amandacarpenter', 'amas', 'amazon', 'amazongiveaway', 'america', 'americafirst', 'american', 'americanair', 'americanmex067', 'americans', 'amjoy', 'amjoyshow', 'amlookout', 'amreading', 'amwriting', 'amymek', 'amyschumer', 'analytics', 'anamariecox', 'ananavarro', 'andersoncooper', 'andieiamwhoiam', 'android', 'andy', 'angela_rye', 'animals', 'anncoulter', 'anomaly1', 'anonymous', 'anthonyweiner', 'anushkasharma', 'ap', 'ap_politics', 'app', 'apple', 'appleevent', 'applemusic', 'appsame', 'ar', 'aravosis', 'architecture', 'ariberman', 'arimelber', 'arizona', 'armandodkos', 'army', 'art', 'artist', 'arvindkejriwal', 'asamjulian', 'aseitzwald', 'assad', 'assange', 'atensnut', 'aterkel', 'atlanta', 'atlasobscura', 'atrupar', 'att', 'auspol', 'austan_goolsbee', 'australia', 'australian', 'author', 'autism', 'autumn', 'avaetc', 'awesome', 'ayaan', 'az', 'azcentral', 'b2b', 'bakari_sellers', 'bakedalaska', 'balsamhill', 'bannerite', 'barackobama', 'barbmuenchen', 'barstoolbigcat', 'barstoolsports', 'baseball', 'baseballbands', 'basketball', 'basketofdeplorables', 'baueroutage', 'bbc', 'bbcbreaking', 'bbcnews', 'bbcqt', 'bbcworld', 'bbhuttozardari', 'bbott', 'bdutt', 'beach', 'beautiful', 'beauty', 'beer', 'beforetheflood', 'beladonnarogers', 'bencjacobs', 'bengals', 'benghazi', 'benhowe', 'benshapiro', 'bernie', 'berniesanders', 'betsy_mccaughey', 'beyonce', 'bfraser747', 'bfriedmandc', 'bi_politics', 'biden', 'bigboater88', 'bigdata', 'bikers4trump', 'billboard', 'billclinton', 'billhemmer', 'billkristol', 'billmaher', 'billmoyershq', 'billmurray', 'billpostmus', 'bills', 'bipartisan', 'birthday', 'bitcoin', 'biz', 'bizpacreview', 'bjp4india', 'black', 'blackcatday', 'blacklivesmatter', 'blackmirror', 'blacks4trump', 'blacksfortrump', 'blakehounshell', 'bleacherreport', 'blessed', 'blm', 'blockchain', 'blog', 'blogging', 'bluelivesmatter', 'bluewave', 'bluewave2016', 'book', 'books', 'borisep', 'borisjohnson', 'borowitzreport', 'boston', 'bostonglobe', 'boycotkochbros', 'boycottkellyfile', 'bpolitics', 'braddjaffy', 'brand', 'branding', 'bravotv', 'breakfast', 'breaking', 'breastcancer', 'breitbartnews', 'bretbaier', 'brexit', 'brianbeutler', 'brianefallon', 'brianstelter', 'brithume', 'broncos', 'browns', 'brunelldonald', 'buck', 'buffalobills', 'buildthewall', 'business', 'businessinsider', 'businessthe', 'buzzfeed', 'buzzfeedben', 'buzzfeednews', 'bv', 'bw', 'byronyork', 'c0nvey', 'c0nveyi', 'c0nveythe', 'ca', 'cafreeland', 'cajunkangaroo', 'calais', 'california', 'callisto1947', 'canada', 'cancer', 'candacesmith_', 'capehartj', 'career', 'carlbernstein', 'carlosdanger', 'carminezozzora', 'carolde', 'carpoolkaraoke', 'cassandrarules', 'cat', 'catholic', 'cats', 'catsofinstagram', 'caturday', 'cavs', 'cbcnews', 'cbs', 'cbsboston', 'cbslocal', 'cbsnews', 'cbspolitics', 'cbssports', 'cbsthismorning', 'ccot', 'cdnpoli', 'ceo', 'cernovich', 'ceta', 'chaffetz', 'change', 'charleshurt', 'charlesmblow', 'charliekirk11', 'chelseaclinton', 'chelseahandler', 'cher', 'cherokeesher2', 'chicago', 'chicagocubs', 'chicagotribune', 'children', 'china', 'chinese', 'chocolate', 'chrischristie', 'chriscuomo', 'chrislhayes', 'chrisstirewalt', 'christian', 'christians', 'christichat', 'christiec733', 'christinawilkie', 'christmas', 'chucknellis', 'chucktodd', 'chuckwoolery', 'cia', 'ckluber', 'cle', 'clemson', 'cleveland', 'clevelandagainsttheworld', 'clewandowski_', 'climate', 'climatechange', 'clinton', 'clintoncash', 'clintoncorruption', 'clintoncrimefamily', 'clintonemails', 'clintonemailscandal', 'clintonfdn', 'clintonfoundation', 'clintonkaine', 'clintonkaine2016', 'clintons', 'clintonscandals', 'cloud', 'cnbc', 'cnn', 'cnnbrk', 'cnni', 'cnnmoney', 'cnnpolitics', 'cnnsitroom', 'cnntonight', 'co_rapunzel4', 'coffee', 'col_nj', 'college', 'colorado', 'colvinj', 'comedy', 'comey', 'comeyresign', 'community', 'competition', 'congress', 'conservative', 'constitution', 'content', 'contentmarketing', 'contest', 'cooking', 'correctrecord', 'corrupt', 'corruptclintons', 'corrupthillary', 'corruption', 'corruptmedia', 'cortessteve', 'cosproject', 'costareports', 'costume', 'cowboys', 'cowboysnation', 'crampell', 'creative', 'credomobile', 'criminal', 'cristinalaila1', 'crooked', 'crookedhillary', 'crookedmedia', 'crooksandliars', 'cspanwj', 'ctl', 'cubbies', 'cubs', 'cubsvsindians', 'culture', 'curtishouck', 'cvpayne', 'cx', 'cybersecurity', 'dailycaller', 'dailykos', 'dailymail', 'dailymirror', 'dailynewsbin', 'dailysignal', 'dak', 'dakotaaccesspipeline', 'dallas', 'dallascowboys', 'danabashcnn', 'danaperino', 'danmericacnn', 'danney_williams', 'danpfeiffer', 'danscavino', 'dapl', 'darhuddleston', 'darrellissa', 'darren32895836', 'darrenrovell', 'darth', 'data', 'datrumpnation1', 'daveweigel', 'davidafrench', 'davidaxelrod', 'davidcorndc', 'davidfrum', 'davidjo52951945', 'davidplouffe', 'davidpsdem', 'dc', 'dcexaminer', 'ddale8', 'deadline', 'deadspin', 'dealmein', 'debate', 'debates', 'debbiemacomber', 'deborahrossnc', 'debramessing', 'deckyourhalls', 'deejay90192', 'defendtheland', 'delta', 'democracy', 'democracynow', 'democrat', 'democrat_4trump', 'democratic', 'democrats', 'dems', 'deplorable', 'deplorablecbtp', 'deplorables', 'deray', 'design', 'detroit', 'devlinbarrett', 'dhecei', 'dhsgov', 'diamondandsilk', 'digital', 'dineshdsouza', 'disney', 'dissentingj', 'diversity', 'diwali', 'diy', 'dklaidman', 'dmartosko', 'dmregister', 'dnc', 'docrocktex26', 'doctorstrange', 'dog', 'dogs', 'doj', 'donaldjtrumpjr', 'donaldtrump', 'donlemon', 'donnabrazile', 'donthecon', 'doubledrizz', 'douglaseschoen', 'douthatnyt', 'doyourjob', 'draftourdaughters', 'draintheswamp', 'drake', 'drjillstein', 'drmartyfox', 'drudge', 'drudge_report', 'dumptrump', 'dwstweets', 'dwyanewade', 'dylanbyers', 'eagles', 'earlyvoting', 'earthquake', 'ebay', 'ebaycheck', 'eclecticbrotha', 'ecommerce', 'economy', 'ecowatch', 'edballs', 'edchat', 'edhenry', 'edtech', 'education', 'eileendefreest', 'ejdionne', 'ejlandwehr', 'election', 'election2016', 'electionday', 'electionfraud', 'elections2016', 'elizabethforma', 'ellemagazine', 'elonmusk', 'email', 'emails', 'emailscandal', 'energy', 'entheosshines', 'entrepreneur', 'entrepreneurs', 'environment', 'equality', 'ericboehlert', 'ericbolling', 'erictrump', 'erikwemple', 'es_snipes', 'esotericcd', 'espn', 'espnnfl', 'esqpolitics', 'esquire', 'etsy', 'eu', 'europe', 'evan_mcmullin', 'evanmcmullin', 'evanperez', 'ew', 'ewerickson', 'exercise', 'eyes_of_justice', 'ezraklein', 'ezralevant', 'f1', 'facebook', 'facethenation', 'fahrenthold', 'fail', 'fall', 'family', 'fashion', 'fastcompany', 'fawfulfan', 'fbi', 'fbireopenscase', 'fdrlst', 'fec', 'feelthebern', 'femalesfortrump', 'feminism', 'ff', 'fightowensfight', 'film', 'fintech', 'firecomey', 'fitness', 'fivethirtyeight', 'fl', 'fladems', 'flashbackfriday', 'flgovscott', 'flipitdem', 'florida', 'flotus', 'flsen', 'flsendebate', 'flyeaglesfly', 'flythew', 'food', 'foodie', 'football', 'forbes', 'forecasterenten', 'fortunemagazine', 'foxandfriends', 'foxbusiness', 'foxnews', 'foxnewsinsider', 'foxnewspolitics', 'foxnewspoll', 'foxnewssunday', 'foxsports', 'foxtv', 'fracking', 'france', 'franklin_graham', 'frankluntz', 'frankrichny', 'frankthorp', 'fraud', 'free', 'freebeacon', 'freedom', 'friday', 'fridayfeeling', 'friends', 'fs1', 'fsu', 'ft', 'fullfrontalsamb', 'fun', 'funder', 'funny', 'fusion', 'future', 'ga', 'gabrielsherman', 'gaetasusan', 'gaming', 'garylineker', 'gatewaypundit', 'gbbo', 'gbbofinal', 'gdebenedetti', 'gehrig38', 'gender', 'genflynn', 'georgesoros', 'georgetakei', 'georgia', 'geraldorivera', 'germany', 'ggreenwald', 'gh', 'giants', 'gift', 'gilmoregirls', 'girlsreallyrule', 'giveaway', 'glennbeck', 'glennkesslerwp', 'glennthrush', 'globalnews', 'globeandmail', 'gloriaborger', 'gma', 'goals', 'goblue', 'gocubs', 'gocubsgo', 'god', 'godawgs', 'gofundme', 'gohillary', 'gold', 'goldengateblond', 'google', 'gop', 'gotribe', 'gotv', 'government', 'govgaryjohnson', 'govhowarddean', 'govmikehuckabee', 'govpencein', 'gqmagazine', 'grabyourwallet', 'gratitude', 'greatdismal', 'greeneyes0084', 'gregabbott_tx', 'greggutfeld', 'greta', 'gstephanopoulos', 'guardian', 'guypbenson', 'hadas_gold', 'hagoodmanauthor', 'haiti', 'halliejackson', 'hallmarkchannel', 'halloweekend', 'halloween', 'halloween2016', 'halloweencostume', 'halloweenthe', 'hamilton', 'hamiltonmusical', 'handmade', 'hannity', 'happiness', 'happyhalloween', 'hardball', 'hardballchris', 'harlan', 'harrisfaulkner', 'harrypotter', 'hatchact', 'hbo', 'health', 'healthcare', 'healthy', 'heathrow', 'hectormorenco', 'heerjeet', 'heismanhouse', 'hereiamwithher', 'heytammybruce', 'hfa', 'hiac', 'hiaci', 'highered', 'hillary', 'hillary2016', 'hillary4prison', 'hillaryclinton', 'hillaryemail', 'hillaryemails', 'hillaryemailscandal', 'hillaryforprison', 'hillaryforprison2016', 'hillarys', 'hillarysamerica', 'hillarysarmy', 'hillarysbullies', 'hillarysemail', 'hillarysemails', 'hillaryshealth', 'hillbullies', 'hillyes', 'hiphop', 'history', 'hiv', 'hocuspocus', 'holiday', 'hollywood', 'home', 'hope', 'horror', 'hotlinejosh', 'housecracka', 'housegop', 'howardkurtz', 'howardstern', 'hr', 'hrc', 'hrtablaze', 'hrw', 'htgawm', 'httr', 'httweets', 'huffingtonpost', 'huffpostblog', 'huffpostpol', 'huffpostpolthe', 'huffpostpoltrump', 'hughhewitt', 'huma', 'humaabedin', 'humanrights', 'hypocrisy', 'iamsambee', 'ibmwatson', 'ibmwow', 'iceland', 'iheartradio', 'imillhiser', 'immigrant4trump', 'immigration', 'imrankhanpti', 'imwither', 'imwithher', 'imwithher2016', 'inc', 'incindia', 'independent', 'india', 'indians', 'infowars', 'ingrahamangle', 'inners', 'innovation', 'inspiration', 'instagram', 'insurance', 'intelligencer', 'iot', 'iowa', 'iran', 'iraq', 'ireland', 'irs', 'isikoff', 'isis', 'islam', 'israel', 'it', 'italians4trump', 'italy', 'italyearthquake', 'itunes', 'itvnews', 'ivankatrump', 'jack', 'jackposobiec', 'jaguars', 'jaketapper', 'jamescomey', 'jamescomeyfbi', 'jameshohmann', 'jamesokeefeiii', 'jamesrosenfnc', 'janemayernyer', 'jaredwyand', 'jasoninthehouse', 'jasonmillerindc', 'jbaker31826004', 'jbarro', 'jbouie', 'jdelreal', 'jdmorgan', 'jebbush', 'jeffersonobama', 'jeffflake', 'jeffpearlman', 'jeffpeguescbs', 'jeffreytoobin', 'jeffzeleny', 'jeisrael', 'jeneps', 'jengranholm', 'jengriffinfnc', 'jenniferjjacobs', 'jeremycorbyn', 'jerseyj0e', 'jesserodriguez', 'jesus', 'jewelry', 'jheil', 'jillnothill', 'jillstein', 'jimmiejohnson', 'jimmykimmel', 'jimsciutto', 'jjauthor', 'jk_rowling', 'jkcorden', 'jlo', 'jmartnyt', 'jmpalmieri', 'joanwalsh', 'job', 'jobs', 'joebiden', 'joeconason', 'joenbc', 'johnfugelsang', 'johnjharwood', 'johnkasich', 'johnkerry', 'johnkingcnn', 'johnkstahlusa', 'johnpodesta', 'jokerslive', 'jonahnro', 'jonathanchait', 'jonfavs', 'jordanchariton', 'joshrogin', 'joshtpm', 'joshuagreen', 'journalism', 'joyannreid', 'jpodhoretz', 'jrubinblogger', 'jtimberlake', 'juddapatow', 'juddlegum', 'judgejeanine', 'judgenap', 'judicialwatch', 'julianassange_', 'julieroginsky', 'just_a_texan', 'justice', 'justinjm1', 'justintrudeau', 'justsaying', 'kaepernick7', 'kanyewest', 'karanjohar', 'karlrove', 'karma', 'karoli', 'kasie', 'katherinemiller', 'kathleen_wynne', 'katiecouric', 'katiemcgintypa', 'katiepavlich', 'katrinapierson', 'katyperry', 'katyturnbc', 'kayleighmcenany', 'kazmierskir', 'kdtrey5', 'kedronbardwell', 'keepamergr8', 'keitholbermann', 'keithrowland', 'kellyannepolls', 'kellyayotte', 'kellyfile', 'kenloachsixteen', 'kennedynation', 'kerpen', 'kevindarryl', 'kfile', 'khanoisseur', 'kharyp', 'kids', 'killoughcnn', 'kimdotcom', 'kimguilfoyle', 'kimstrassel', 'kingjames', 'kira_lerner', 'knicks', 'knp2bp', 'kotcha301', 'krauthammer', 'kris_sacrebleu', 'kschwarb12', 'kthopkins', 'ktumulty', 'kurteichenwald', 'kurtschlichter', 'kwelkernbc', 'kylegriffin1', 'la', 'ladygaga', 'lakers', 'laraleatrump', 'larryelder', 'larrysabato', 'lasvegas', 'latimes', 'latinaafortrump', 'latinos', 'lauren_southern', 'law', 'law_newz', 'lawrence', 'lbc', 'leadership', 'leahr77', 'leahrboss', 'lechatnoire4', 'lee_in_iowa', 'leodicaprio', 'lesdoggg', 'lesliemarshall', 'leslieodomjr', 'letsgo', 'lfc', 'lgbt', 'lgbtq', 'liar', 'libdems', 'liberal', 'liberals', 'lies', 'life', 'lifezette', 'lilyallen', 'lin_manuel', 'lindasuhler', 'lindseygrahamsc', 'linkedin', 'lisamarieboothe', 'live', 'liz_wheeler', 'lizwfb', 'lockherup', 'lodisilverado', 'lol', 'lolgop', 'london', 'lorettalynch', 'loser', 'loudobbs', 'louisemensch', 'love', 'loveghirardelli', 'lovetrumpshate', 'lrihendry', 'ludacristiano', 'luxury', 'maajidnawaz', 'macbookpro', 'madampresident', 'maddow', 'maddowblog', 'madonna', 'maga', 'maga3x', 'maggie_hassan', 'maggienyt', 'maggyw519', 'magnifier661', 'mailonline', 'makeamericagreatagain', 'makeup', 'malcolmnance', 'management', 'manmet80', 'manoharparrikar', 'manutd', 'marcorubio', 'marcylauren', 'mariabartiromo', 'markdice', 'marketing', 'markhalperin', 'markkirk', 'marklevinshow', 'markos', 'markruffalo', 'martinomalley', 'martinsvilleswy', 'marvel', 'maryannemarsh', 'mashable', 'mathiasian', 'mattgertz', 'matthewamiller', 'matthewjdowd', 'mattmackowiak', 'mattmfm', 'mattmurph24', 'mattyglesias', 'mbhokie97', 'mcdonalds', 'mcfaul', 'mckaycoppins', 'mcuban', 'media', 'mediabias', 'mediabuzzfnc', 'mediaite', 'medium', 'meetthepress', 'megankelly', 'meghanmccain', 'megynkelly', 'mehdirhasan', 'melaniatrump', 'melissaafrancis', 'mentalhealth', 'mexico', 'mexicogp', 'miami', 'miami4trump', 'miamiherald', 'mic', 'michaelcohen212', 'michaeldweiss', 'michaelkeyes', 'michaelmoore', 'michellemalkin', 'michelleobama', 'michigan', 'microsoft', 'microsoftevent', 'midgespeaks', 'midnight', 'mike_pence', 'mikepencevp', 'milesjreed', 'mileycyrus', 'military', 'millennials', 'mindyfinn', 'misslizzynj', 'mitchellreports', 'mitchellvii', 'mittromney', 'mkraju', 'mlb', 'mlbonfox', 'mmfa', 'mmflint', 'mmpadellan', 'mmurraypolitics', 'mobile', 'money', 'monicacrowley', 'montel_williams', 'morgfair', 'mormonmafia', 'morning_joe', 'morningjoe', 'morningmika', 'morningmoneyben', 'morningsmaria', 'mosul', 'motherjones', 'motivation', 'moveon', 'movies', 'mplusplaces', 'mplusrewards', 'mrdane1982', 'mredtrain', 'mrjamesonneat', 'mscharlottewwe', 'msm', 'msnbc', 'mtnmd', 'mtracey', 'mufc', 'music', 'muslim', 'muslims', 'naacp', 'nancypelosi', 'nanowrimo', 'narendramodi', 'nasa', 'nascar', 'nastywoman', 'nastywomen', 'nate_cohn', 'natesilver538', 'natgeo', 'natgeochannel', 'nationalcatday', 'nationalchocolateday', 'nationalpost', 'nationalpumpkinday', 'nato', 'nature', 'nba', 'nbaontnt', 'nbatipoff', 'nbc', 'nbcnews', 'nbcnightlynews', 'nbcpolitics', 'nbcsnl', 'nbcthisisus', 'nbcwashington', 'nc', 'ndgovdalrymple', 'ndtv', 'neeratanden', 'neilturner_', 'netflix', 'networking', 'networksmanager', 'nevada', 'neverhillary', 'nevertrump', 'newday', 'newrepublic', 'news', 'newsbusters', 'newshour', 'newsmax', 'newsthe', 'newsweek', 'newt', 'newtgingrich', 'newttrump', 'newyork', 'newyorker', 'nfl', 'nflcommish', 'nflnetwork', 'nflonfox', 'nh', 'nhl', 'nia4_trump', 'niallofficial', 'nicerrap', 'nickconfessore', 'nickkristof', 'nicolasturgeon', 'nicolledwallace', 'nigel_farage', 'nissan', 'nissanusa', 'nj', 'noahcrothman', 'noahgraycnn', 'nodapl', 'noltenc', 'nordstrom', 'normornstein', 'northcarolina', 'now', 'nowplaying', 'np', 'npr', 'nprpolitics', 'nra', 'nro', 'number10gov', 'nutrition', 'ny', 'nyc', 'nycsouthpaw', 'nydailynews', 'nyjets', 'nyknicks', 'nymag', 'nypmetro', 'nypost', 'nytimes', 'nytnickc', 'nytopinion', 'oann', 'obama', 'obamacare', 'obamacarefail', 'obamacareinthreewords', 'obamamalik', 'observer', 'octobersurprise', 'officeofrg', 'ohio', 'oil', 'okcthunder', 'oliverdarcy', 'omfg_america', 'online', 'onlxn', 'only4rm', 'onmessageforher', 'oprah', 'oregon', 'oregonian', 'oregonstandoff', 'oreillyfactor', 'outfrontcnn', 'outnumberedfnc', 'owillis', 'owntv', 'p0tustrump', 'p2', 'pa', 'packers', 'painting', 'pakistan', 'pamela_moore13', 'panthers', 'parenting', 'paris', 'party', 'pastormarkburns', 'pathetic', 'patmccrorync', 'patrickmurphyfl', 'patriot', 'patriotbygod', 'patriotic_folks', 'patriots', 'pattonoswalt', 'paulbegala', 'paulinehansonoz', 'paulkrugman', 'paytoplay', 'pbs', 'pbump', 'peace', 'peddoc63', 'pence', 'pennsylvania', 'people', 'perduechicken', 'perduecrew', 'periscope', 'periscopeco', 'peterdaou', 'petewilliamsnbc', 'pets', 'pharris830', 'phil_mattingly', 'philcollinsfeed', 'philly', 'phivsdal', 'photo', 'photography', 'piersmorgan', 'pitch', 'pizzapartyben', 'pjnet', 'plantflowes', 'pmoindia', 'pnehlen', 'podcast', 'podesta', 'podestaemails', 'podestaemails18', 'podestaemails19', 'podestaemails20', 'podestaemails21', 'podestaemails22', 'podestaemails23', 'podestaleaks', 'poetry', 'police', 'politico', 'politicomag', 'politics', 'politics_pr', 'politicussarah', 'politicususa', 'politifact', 'poll', 'polls', 'pontifex', 'poppyharlowcnn', 'postroz', 'potus', 'poverty', 'ppact', 'ppollingnumbers', 'pr', 'president', 'presidentialelection', 'presidenttrump', 'prisonplanet', 'privacy', 'project_veritas', 'projectveritas', 'prolife', 'promotion', 'pryan', 'ps4share', 'pti', 'pumpkin', 'pumpkins', 'puppymnkey', 'putin', 'pveritas_action', 'queensugar', 'queensugarown', 'quote', 'quotea', 'quotebe', 'quotedon', 'quotehow', 'quotei', 'quoteif', 'quoteit', 'quotelife', 'quotes', 'quotethanks', 'quotethe', 'quoteto', 'quotewhat', 'quoteyou', 'quoteyour', 'qz', 'racism', 'racist', 'radiofreetom', 'raheemkassam', 'raidernation', 'raiders', 'rallytogether', 'rallytogetheri', 'ralstonreports', 'rambobiggs', 'ranaayyub', 'randpaul', 'randyprine', 'rape', 'raw', 'rawstory', 'rbcreamer', 'rcpvideo', 'reading', 'reaganbattalion', 'realalexjones', 'realbencarson', 'realclearnews', 'realdenaldtrump', 'realdennislynch', 'realdonaldtrump', 'realestate', 'realjameswoods', 'realmuckmaker', 'realskipbayless', 'realstrategyfan', 'realtimers', 'recipe', 'reddit', 'redskins', 'redstate', 'refugees', 'regated', 'reince', 'reinindc', 'reliablesources', 'repcummings', 'republican', 'republicans', 'rescuetracker81', 'research', 'respect', 'retail', 'reuters', 'rhonj', 'richardbranson', 'richardgrenell', 'richardtburnett', 'rickygervais', 'rigged', 'riggedelection', 'riggedsystem', 'ringer', 'riotwomennn', 'rip', 'ripcity', 'ripvine', 'ritapanahi', 'rnc', 'robbymook', 'rockprincess818', 'rogerjstonejr', 'rolandsmartin', 'rollingstone', 'rolltribe', 'ron_fournier', 'rosie', 'roycoopernc', 'rsbnetwork', 'rt', 'rt_com', 'rtraister', 'rubycramer', 'rudygiulianigop', 'run', 'running', 'rupertmurdoch', 'rushlimbaugh', 'russia', 'russian', 'russians', 'russwest44', 'ryanlizza', 's_c_', 'sad', 'sahilkapur', 'sales', 'sallykohn', 'salon', 'samharrisorg', 'samsteinhp', 'sandrasmithfox', 'sandratxas', 'sarabareilles', 'sarahkendzior', 'sarihorwitz', 'sashabankswwe', 'saudi', 'saudiarabia', 'sbnation', 'scarystoriesin5words', 'school', 'schreckreports', 'schultz44', 'science', 'scifi', 'scotland', 'scottadamssays', 'scottbaio', 'scottienhughes', 'scottpresler', 'scotus', 'scrowder', 'sdgs', 'sdlive', 'seahawks', 'seanhannity', 'seanspicer', 'seattle', 'seavsno', 'sebgorka', 'secretservice', 'secupp', 'security', 'selfie', 'senate', 'senategop', 'senatemajldr', 'senatorkirk', 'senatorreid', 'senatorsessions', 'senfeinstein', 'senjohnmccain', 'senronjohnson', 'sensanders', 'sentedcruz', 'senwarren', 'seo', 'sevyn', 'shannoncoulter', 'shareblue', 'sharethis', 'sharonmccutchan', 'sharylattkisson', 'shaunking', 'shepnewsteam', 'sheriffclarke', 'sherylcrow', 'sheswithus', 'shewhovotes', 'shkhrasheed', 'sickhillary', 'signsatthegatesofhell', 'sissenberg', 'sixers', 'skincare', 'skynews', 'slate', 'slh', 'slone', 'smallbiz', 'smallbusiness', 'smerconish', 'smh', 'smm', 'smshow', 'snapchat', 'snf', 'snfonnbc', 'snl', 'snoopdogg', 'snopes', 'snowden', 'socal4trump', 'socent', 'social', 'socialmedia', 'socialmediathe', 'solar', 'soledadobrien', 'sopandeb', 'soros', 'sorrynotsorry', 'souljaboy', 'soundcloud', 'space', 'speakerryan', 'specialkmb1969', 'specialreport', 'speechboy71', 'splcenter', 'sponsored', 'spooky', 'sports', 'sportscenter', 'spotify', 'spurs', 'sputnikint', 'sruhle', 'standingrock', 'standwithstandingrock', 'starbucks', 'startrek', 'startup', 'startups', 'starwars', 'statedept', 'stefanmolyneux', 'stem', 'steph93065', 'stephenathome', 'stephenfhayes', 'stephenking', 'stephenswsj', 'stevekornacki', 'stevenwhirsch99', 'steveyeun', 'stonewall_77', 'stopcorpabuse', 'stopnuclearwar', 'stopstophillary', 'strangerthings', 'strategy', 'stress', 'strictly', 'strongertogether', 'style', 'subway', 'success', 'sunday', 'sundaymorning', 'sunrise', 'sunset', 'supernatural', 'support', 'surfermom77', 'survivor', 'sustainability', 'swamy39', 'sweden', 'sweepstakes', 'sykescharlie', 'syria', 'tacobell', 'tallahfortrump', 'tamaraleighllc', 'tammyforil', 'tamronhall', 'tarekfatah', 'target', 'taylorswift13', 'tbt', 'tcot', 'team', 'teamcavuto', 'teammcmullin', 'teamtrump', 'teamtrumpaz', 'teapainusa', 'teaparty', 'tech', 'techcrunch', 'technology', 'tedcruz', 'teddyschleifer', 'telegraph', 'telegraphnews', 'ten_gop', 'termlimits', 'terrorism', 'teslamotors', 'texas', 'texastribune', 'tgif', 'tgowdysc', 'thanksgiving', 'thankyou', 'the', 'the_intercept', 'theatlantic', 'thebaxterbean', 'theblaze', 'thecut', 'thedailybeast', 'thedemocrats', 'theeconomist', 'theellenshow', 'thefall', 'thefive', 'thefix', 'theflash', 'thegarance', 'thehill', 'theijr', 'thejk_kid', 'thejuanwilliams', 'thejusticedept', 'thelastrefuge2', 'thelastword', 'theleadcnn', 'themrc', 'thenation', 'theonlyadult', 'thepatriot143', 'theplumlinegs', 'therealroseanne', 'theresa_may', 'therickwilson', 'therickyvaughn', 'therightscoop', 'thesun', 'theview', 'thewalkingdead', 'theyoungturks', 'thinkprogress', 'thisisus', 'thisweekabc', 'thr', 'throwbackthursday', 'thunderclapit', 'thursdaythoughts', 'tiffanyatrump', 'time', 'timesnow', 'timesofindia', 'timkaine', 'timtebow', 'tips', 'titans', 'tkdmike', 'tmobile', 'tmz', 'tnf', 'todayshow', 'toddstarnes', 'tom_winter', 'tomcottonar', 'tomhanks', 'tomilahren', 'tommyshida', 'toronto', 'torontostar', 'townhallcom', 'tpm', 'tponews', 'tpp', 'travel', 'travelthe', 'trickortreat', 'trobinsonnewera', 'trump', 'trump2016', 'trumpahorrormovie', 'trumpdc', 'trumpland', 'trumplandslide', 'trumppence', 'trumppence16', 'trumppence2016', 'trumppencelandslide', 'trumppenceusa1', 'trumprally', 'trumps', 'trumpstrong', 'trumpsuperpac', 'trumptheestablishment', 'trumptrain', 'trumptv', 'trumpwomenstour', 'truth', 'truthfeednews', 'trutvjokers', 'ttt16', 'tuckercarlson', 'tuesdaymotivation', 'tumblr', 'turkey', 'turnbullmalcolm', 'tv', 'tvietor08', 'twd', 'twitchyteam', 'twitter', 'uber', 'uk', 'uklabour', 'ukraine', 'ultraviolet', 'umichfootball', 'un', 'uniteblue', 'unityactivist', 'untappd', 'upshotnyt', 'us', 'usa', 'usafortrump2016', 'usaneedstrump', 'usatoday', 'uselection', 'utah', 'uwbadgers', 'va', 'va4hillary1', 'vanjones68', 'variety', 'varneyco', 'vegan', 'veganvecoh', 'vegas', 'venezuela', 'verge', 'veritas', 'verizon', 'vetapologist', 'veteran', 'veteran4trump', 'veterans', 'vets', 'vice', 'vickybrush', 'video', 'vimeo', 'vine', 'violence', 'virginia', 'vivalaames', 'vivelafra', 'vote', 'voteblue', 'votebluedownballot', 'voteearly', 'voterfraud', 'votersuppression', 'votetrump', 'votetrump2016', 'votetrumppence16', 'voting', 'voxdotcom', 'vp', 'vr', 'wakeupamerica', 'walkingdead', 'walkingdead_amc', 'wallstreet', 'walmart', 'walshfreedom', 'waposean', 'war', 'warriors', 'washington', 'washingtonpost', 'washtimes', 'wasvscin', 'water', 'watergate', 'waterislife', 'watson', 'waynedupreeshow', 'wdfx2eu7', 'weaselzippers', 'weather', 'wedding', 'wednesdaywisdom', 'weekend', 'wef', 'weiner', 'weinergate', 'wendyvoss', 'weneedtrump', 'westwingreport', 'westworld', 'westworldhbo', 'wethepeople', 'whitehouse', 'wikileak', 'wikileaks', 'wildlife', 'williegeist', 'win', 'windians', 'wine', 'wired', 'wisconsin', 'wltaskforce', 'woahohkatie', 'wolfblitzer', 'woman', 'women', 'womenfortrump', 'woodhouseb', 'wordpressdotcom', 'work', 'world', 'worldnetdaily', 'worlds', 'worldseries', 'worldseriesi', 'worldseriesif', 'worldseriesthat', 'worldseriesthe', 'worldseriesthis', 'worldserieswhat', 'wpjenna', 'wrigleyfield', 'writing', 'wsj', 'wsjpolitics', 'wtf', 'wwe', 'xfactor', 'yahoonews', 'yankees', 'yashar', 'yelp', 'yemen', 'yoga', 'youngdems4trump', 'youranonnews', 'youtube', 'youtubea', 'youtubebreaking', 'youtubeclinton', 'youtubedonald', 'youtubefbi', 'youtubehillary', 'youtubehow', 'youtubei', 'youtubeif', 'youtubenew', 'youtubeobama', 'youtubethe', 'youtubethis', 'youtubetrump', 'youtubewe', 'youtubewhat', 'youtubewhy', 'youtubewikileaks', 'youtubeyou', 'yuengling_beer', 'zacgoldsmith', 'zekejmiller', 'zerohedge', 'zika', 'zimmermanrob']\n"
     ]
    }
   ],
   "source": [
    "vectorizer_2 = sk_text.CountVectorizer(min_df=1)\n",
    "#vectorizer = sk_text.CountVectorizer(min_df=1, stop_words = 'english')\n",
    "\n",
    "#min_df: ignore terms that have a document frequency < min_df.\n",
    "\n",
    "matrix_2 = vectorizer_2.fit_transform(ListofHashtagHandles)\n",
    "\n",
    "print(type(matrix_2))          # Compressed Sparse Row matrix\n",
    "#temp = matrix.toarray()\n",
    "print(matrix_2.toarray())        #  convert it to numpy array\n",
    "\n",
    "print(vectorizer_2.get_feature_names())"
   ]
  },
  {
   "cell_type": "code",
   "execution_count": 42,
   "metadata": {},
   "outputs": [
    {
     "data": {
      "text/plain": [
       "Text(0,0.5,'SSE')"
      ]
     },
     "execution_count": 42,
     "metadata": {},
     "output_type": "execute_result"
    },
    {
     "data": {
      "image/png": "[encoded data removed]",
      "text/plain": [
       "<matplotlib.figure.Figure at 0x1678d3ab198>"
      ]
     },
     "metadata": {},
     "output_type": "display_data"
    }
   ],
   "source": [
    "import sklearn.cluster as sk_cluster\n",
    "import matplotlib.pyplot as plt\n",
    "\n",
    "%matplotlib inline\n",
    "\n",
    "error = np.zeros(20)\n",
    "for k in range(1,20):\n",
    "    kmeans_2 = sk_cluster.KMeans(init='k-means++', n_clusters=k, n_init=10)\n",
    "    kmeans_2.fit_predict(matrix_2)\n",
    "    error[k] = kmeans_2.inertia_\n",
    "\n",
    "plt.plot(range(1, 20),error[1:])\n",
    "plt.xlabel('Number of clusters')\n",
    "plt.ylabel('SSE')"
   ]
  },
  {
   "cell_type": "code",
   "execution_count": 43,
   "metadata": {},
   "outputs": [
    {
     "name": "stdout",
     "output_type": "stream",
     "text": [
      "\n",
      " Cluster Centroids\n",
      "[[ 0.04149856  0.00288184  0.01095101 ...,  0.02881844  0.00345821\n",
      "   0.01210375]\n",
      " [ 0.05893186  0.00184162  0.00368324 ...,  0.02578269  0.00552486\n",
      "   0.00552486]]\n",
      "\n",
      "Cluster labels\n",
      "[0 0 0 ..., 0 1 0]\n",
      "\n",
      "\n",
      "The total error of the clustering is:  79286.96672027015\n"
     ]
    }
   ],
   "source": [
    "kmeans_2 = sk_cluster.KMeans(init='k-means++', n_clusters=2, n_init=10, max_iter=300)  \n",
    "\n",
    "# n_init: Number of time the k-means algorithm will be run \n",
    "# max_iter : int, default: 300\n",
    "\n",
    "kmeans_2.fit_predict(matrix_2)\n",
    "print ('\\n Cluster Centroids')\n",
    "centroids = kmeans_2.cluster_centers_\n",
    "print (centroids)\n",
    "\n",
    "print ('\\nCluster labels')\n",
    "kmeans_labels_2 = kmeans_2.labels_\n",
    "print(kmeans_labels_2)\n",
    "\n",
    "\n",
    "print('\\n')\n",
    "error = kmeans_2.inertia_       #SSE; Sum of squared distances of samples to their closest cluster center.\n",
    "print (\"The total error of the clustering is: \", error)\n"
   ]
  },
  {
   "cell_type": "code",
   "execution_count": 44,
   "metadata": {},
   "outputs": [
    {
     "data": {
      "text/plain": [
       "(2278, 1914)"
      ]
     },
     "execution_count": 44,
     "metadata": {},
     "output_type": "execute_result"
    }
   ],
   "source": [
    "matrix_2.shape"
   ]
  },
  {
   "cell_type": "code",
   "execution_count": 45,
   "metadata": {},
   "outputs": [
    {
     "name": "stdout",
     "output_type": "stream",
     "text": [
      "Counter({0: 1735, 1: 543})\n"
     ]
    }
   ],
   "source": [
    "print(collections.Counter(kmeans_labels_2))"
   ]
  },
  {
   "cell_type": "code",
   "execution_count": 46,
   "metadata": {},
   "outputs": [
    {
     "name": "stdout",
     "output_type": "stream",
     "text": [
      "[0 0 0 ..., 0 1 0]\n"
     ]
    }
   ],
   "source": [
    "print(kmeans_labels_2)"
   ]
  },
  {
   "cell_type": "code",
   "execution_count": 47,
   "metadata": {},
   "outputs": [
    {
     "data": {
      "text/plain": [
       "(2278,)"
      ]
     },
     "execution_count": 47,
     "metadata": {},
     "output_type": "execute_result"
    }
   ],
   "source": [
    "kmeans_labels_2.shape"
   ]
  },
  {
   "cell_type": "code",
   "execution_count": 48,
   "metadata": {},
   "outputs": [
    {
     "name": "stdout",
     "output_type": "stream",
     "text": [
      "[[ 0.04149856  0.00288184  0.01095101 ...,  0.02881844  0.00345821\n",
      "   0.01210375]\n",
      " [ 0.05893186  0.00184162  0.00368324 ...,  0.02578269  0.00552486\n",
      "   0.00552486]]\n",
      "[[1389  714  330 ...,  121  495 1598]\n",
      " [ 714 1719 1389 ..., 1533  262  352]]\n"
     ]
    }
   ],
   "source": [
    "print(kmeans_2.cluster_centers_)\n",
    "asc_order_centroids = kmeans_2.cluster_centers_.argsort()    # argsort() returns the indices that would sort an array.\n",
    "\n",
    "des_order_centroids = asc_order_centroids[:,::-1]     #  get the indices in descending order\n",
    "print(des_order_centroids)"
   ]
  },
  {
   "cell_type": "code",
   "execution_count": 49,
   "metadata": {},
   "outputs": [
    {
     "name": "stdout",
     "output_type": "stream",
     "text": [
      "['0hour1__', '10', '100percfedup', '12', '1a', '2016', '20committee', '2a', '2alaw', '_makada_', 'abc', 'abcnetwork', 'abcnews', 'abcpolitics', 'abortion', 'ac360', 'aca', 'aclu', 'acosta', 'actualflatticus', 'ad', 'adamparkhomenko', 'adamsflafan', 'adele', 'adoptdontshop', 'aduanebrown', 'advertising', 'afghanistan', 'aflcio', 'afneil', 'africa', 'agentsofshield', 'ahsfx', 'ahsroanoke', 'ai', 'airbnb', 'ajdelgado13', 'ajenews', 'ajenglish', 'alasscan_', 'alecbaldwin', 'aleppo', 'algiordano', 'aliciakeys', 'alivitali', 'allahpundit', 'allanbrauer', 'allenwest', 'allinwithchris', 'alllibertynews', 'alllivesmatter', 'alternet', 'altright', 'always_trump', 'amandacarpenter', 'amas', 'amazon', 'amazongiveaway', 'america', 'americafirst', 'american', 'americanair', 'americanmex067', 'americans', 'amjoy', 'amjoyshow', 'amlookout', 'amreading', 'amwriting', 'amymek', 'amyschumer', 'analytics', 'anamariecox', 'ananavarro', 'andersoncooper', 'andieiamwhoiam', 'android', 'andy', 'angela_rye', 'animals', 'anncoulter', 'anomaly1', 'anonymous', 'anthonyweiner', 'anushkasharma', 'ap', 'ap_politics', 'app', 'apple', 'appleevent', 'applemusic', 'appsame', 'ar', 'aravosis', 'architecture', 'ariberman', 'arimelber', 'arizona', 'armandodkos', 'army', 'art', 'artist', 'arvindkejriwal', 'asamjulian', 'aseitzwald', 'assad', 'assange', 'atensnut', 'aterkel', 'atlanta', 'atlasobscura', 'atrupar', 'att', 'auspol', 'austan_goolsbee', 'australia', 'australian', 'author', 'autism', 'autumn', 'avaetc', 'awesome', 'ayaan', 'az', 'azcentral', 'b2b', 'bakari_sellers', 'bakedalaska', 'balsamhill', 'bannerite', 'barackobama', 'barbmuenchen', 'barstoolbigcat', 'barstoolsports', 'baseball', 'baseballbands', 'basketball', 'basketofdeplorables', 'baueroutage', 'bbc', 'bbcbreaking', 'bbcnews', 'bbcqt', 'bbcworld', 'bbhuttozardari', 'bbott', 'bdutt', 'beach', 'beautiful', 'beauty', 'beer', 'beforetheflood', 'beladonnarogers', 'bencjacobs', 'bengals', 'benghazi', 'benhowe', 'benshapiro', 'bernie', 'berniesanders', 'betsy_mccaughey', 'beyonce', 'bfraser747', 'bfriedmandc', 'bi_politics', 'biden', 'bigboater88', 'bigdata', 'bikers4trump', 'billboard', 'billclinton', 'billhemmer', 'billkristol', 'billmaher', 'billmoyershq', 'billmurray', 'billpostmus', 'bills', 'bipartisan', 'birthday', 'bitcoin', 'biz', 'bizpacreview', 'bjp4india', 'black', 'blackcatday', 'blacklivesmatter', 'blackmirror', 'blacks4trump', 'blacksfortrump', 'blakehounshell', 'bleacherreport', 'blessed', 'blm', 'blockchain', 'blog', 'blogging', 'bluelivesmatter', 'bluewave', 'bluewave2016', 'book', 'books', 'borisep', 'borisjohnson', 'borowitzreport', 'boston', 'bostonglobe', 'boycotkochbros', 'boycottkellyfile', 'bpolitics', 'braddjaffy', 'brand', 'branding', 'bravotv', 'breakfast', 'breaking', 'breastcancer', 'breitbartnews', 'bretbaier', 'brexit', 'brianbeutler', 'brianefallon', 'brianstelter', 'brithume', 'broncos', 'browns', 'brunelldonald', 'buck', 'buffalobills', 'buildthewall', 'business', 'businessinsider', 'businessthe', 'buzzfeed', 'buzzfeedben', 'buzzfeednews', 'bv', 'bw', 'byronyork', 'c0nvey', 'c0nveyi', 'c0nveythe', 'ca', 'cafreeland', 'cajunkangaroo', 'calais', 'california', 'callisto1947', 'canada', 'cancer', 'candacesmith_', 'capehartj', 'career', 'carlbernstein', 'carlosdanger', 'carminezozzora', 'carolde', 'carpoolkaraoke', 'cassandrarules', 'cat', 'catholic', 'cats', 'catsofinstagram', 'caturday', 'cavs', 'cbcnews', 'cbs', 'cbsboston', 'cbslocal', 'cbsnews', 'cbspolitics', 'cbssports', 'cbsthismorning', 'ccot', 'cdnpoli', 'ceo', 'cernovich', 'ceta', 'chaffetz', 'change', 'charleshurt', 'charlesmblow', 'charliekirk11', 'chelseaclinton', 'chelseahandler', 'cher', 'cherokeesher2', 'chicago', 'chicagocubs', 'chicagotribune', 'children', 'china', 'chinese', 'chocolate', 'chrischristie', 'chriscuomo', 'chrislhayes', 'chrisstirewalt', 'christian', 'christians', 'christichat', 'christiec733', 'christinawilkie', 'christmas', 'chucknellis', 'chucktodd', 'chuckwoolery', 'cia', 'ckluber', 'cle', 'clemson', 'cleveland', 'clevelandagainsttheworld', 'clewandowski_', 'climate', 'climatechange', 'clinton', 'clintoncash', 'clintoncorruption', 'clintoncrimefamily', 'clintonemails', 'clintonemailscandal', 'clintonfdn', 'clintonfoundation', 'clintonkaine', 'clintonkaine2016', 'clintons', 'clintonscandals', 'cloud', 'cnbc', 'cnn', 'cnnbrk', 'cnni', 'cnnmoney', 'cnnpolitics', 'cnnsitroom', 'cnntonight', 'co_rapunzel4', 'coffee', 'col_nj', 'college', 'colorado', 'colvinj', 'comedy', 'comey', 'comeyresign', 'community', 'competition', 'congress', 'conservative', 'constitution', 'content', 'contentmarketing', 'contest', 'cooking', 'correctrecord', 'corrupt', 'corruptclintons', 'corrupthillary', 'corruption', 'corruptmedia', 'cortessteve', 'cosproject', 'costareports', 'costume', 'cowboys', 'cowboysnation', 'crampell', 'creative', 'credomobile', 'criminal', 'cristinalaila1', 'crooked', 'crookedhillary', 'crookedmedia', 'crooksandliars', 'cspanwj', 'ctl', 'cubbies', 'cubs', 'cubsvsindians', 'culture', 'curtishouck', 'cvpayne', 'cx', 'cybersecurity', 'dailycaller', 'dailykos', 'dailymail', 'dailymirror', 'dailynewsbin', 'dailysignal', 'dak', 'dakotaaccesspipeline', 'dallas', 'dallascowboys', 'danabashcnn', 'danaperino', 'danmericacnn', 'danney_williams', 'danpfeiffer', 'danscavino', 'dapl', 'darhuddleston', 'darrellissa', 'darren32895836', 'darrenrovell', 'darth', 'data', 'datrumpnation1', 'daveweigel', 'davidafrench', 'davidaxelrod', 'davidcorndc', 'davidfrum', 'davidjo52951945', 'davidplouffe', 'davidpsdem', 'dc', 'dcexaminer', 'ddale8', 'deadline', 'deadspin', 'dealmein', 'debate', 'debates', 'debbiemacomber', 'deborahrossnc', 'debramessing', 'deckyourhalls', 'deejay90192', 'defendtheland', 'delta', 'democracy', 'democracynow', 'democrat', 'democrat_4trump', 'democratic', 'democrats', 'dems', 'deplorable', 'deplorablecbtp', 'deplorables', 'deray', 'design', 'detroit', 'devlinbarrett', 'dhecei', 'dhsgov', 'diamondandsilk', 'digital', 'dineshdsouza', 'disney', 'dissentingj', 'diversity', 'diwali', 'diy', 'dklaidman', 'dmartosko', 'dmregister', 'dnc', 'docrocktex26', 'doctorstrange', 'dog', 'dogs', 'doj', 'donaldjtrumpjr', 'donaldtrump', 'donlemon', 'donnabrazile', 'donthecon', 'doubledrizz', 'douglaseschoen', 'douthatnyt', 'doyourjob', 'draftourdaughters', 'draintheswamp', 'drake', 'drjillstein', 'drmartyfox', 'drudge', 'drudge_report', 'dumptrump', 'dwstweets', 'dwyanewade', 'dylanbyers', 'eagles', 'earlyvoting', 'earthquake', 'ebay', 'ebaycheck', 'eclecticbrotha', 'ecommerce', 'economy', 'ecowatch', 'edballs', 'edchat', 'edhenry', 'edtech', 'education', 'eileendefreest', 'ejdionne', 'ejlandwehr', 'election', 'election2016', 'electionday', 'electionfraud', 'elections2016', 'elizabethforma', 'ellemagazine', 'elonmusk', 'email', 'emails', 'emailscandal', 'energy', 'entheosshines', 'entrepreneur', 'entrepreneurs', 'environment', 'equality', 'ericboehlert', 'ericbolling', 'erictrump', 'erikwemple', 'es_snipes', 'esotericcd', 'espn', 'espnnfl', 'esqpolitics', 'esquire', 'etsy', 'eu', 'europe', 'evan_mcmullin', 'evanmcmullin', 'evanperez', 'ew', 'ewerickson', 'exercise', 'eyes_of_justice', 'ezraklein', 'ezralevant', 'f1', 'facebook', 'facethenation', 'fahrenthold', 'fail', 'fall', 'family', 'fashion', 'fastcompany', 'fawfulfan', 'fbi', 'fbireopenscase', 'fdrlst', 'fec', 'feelthebern', 'femalesfortrump', 'feminism', 'ff', 'fightowensfight', 'film', 'fintech', 'firecomey', 'fitness', 'fivethirtyeight', 'fl', 'fladems', 'flashbackfriday', 'flgovscott', 'flipitdem', 'florida', 'flotus', 'flsen', 'flsendebate', 'flyeaglesfly', 'flythew', 'food', 'foodie', 'football', 'forbes', 'forecasterenten', 'fortunemagazine', 'foxandfriends', 'foxbusiness', 'foxnews', 'foxnewsinsider', 'foxnewspolitics', 'foxnewspoll', 'foxnewssunday', 'foxsports', 'foxtv', 'fracking', 'france', 'franklin_graham', 'frankluntz', 'frankrichny', 'frankthorp', 'fraud', 'free', 'freebeacon', 'freedom', 'friday', 'fridayfeeling', 'friends', 'fs1', 'fsu', 'ft', 'fullfrontalsamb', 'fun', 'funder', 'funny', 'fusion', 'future', 'ga', 'gabrielsherman', 'gaetasusan', 'gaming', 'garylineker', 'gatewaypundit', 'gbbo', 'gbbofinal', 'gdebenedetti', 'gehrig38', 'gender', 'genflynn', 'georgesoros', 'georgetakei', 'georgia', 'geraldorivera', 'germany', 'ggreenwald', 'gh', 'giants', 'gift', 'gilmoregirls', 'girlsreallyrule', 'giveaway', 'glennbeck', 'glennkesslerwp', 'glennthrush', 'globalnews', 'globeandmail', 'gloriaborger', 'gma', 'goals', 'goblue', 'gocubs', 'gocubsgo', 'god', 'godawgs', 'gofundme', 'gohillary', 'gold', 'goldengateblond', 'google', 'gop', 'gotribe', 'gotv', 'government', 'govgaryjohnson', 'govhowarddean', 'govmikehuckabee', 'govpencein', 'gqmagazine', 'grabyourwallet', 'gratitude', 'greatdismal', 'greeneyes0084', 'gregabbott_tx', 'greggutfeld', 'greta', 'gstephanopoulos', 'guardian', 'guypbenson', 'hadas_gold', 'hagoodmanauthor', 'haiti', 'halliejackson', 'hallmarkchannel', 'halloweekend', 'halloween', 'halloween2016', 'halloweencostume', 'halloweenthe', 'hamilton', 'hamiltonmusical', 'handmade', 'hannity', 'happiness', 'happyhalloween', 'hardball', 'hardballchris', 'harlan', 'harrisfaulkner', 'harrypotter', 'hatchact', 'hbo', 'health', 'healthcare', 'healthy', 'heathrow', 'hectormorenco', 'heerjeet', 'heismanhouse', 'hereiamwithher', 'heytammybruce', 'hfa', 'hiac', 'hiaci', 'highered', 'hillary', 'hillary2016', 'hillary4prison', 'hillaryclinton', 'hillaryemail', 'hillaryemails', 'hillaryemailscandal', 'hillaryforprison', 'hillaryforprison2016', 'hillarys', 'hillarysamerica', 'hillarysarmy', 'hillarysbullies', 'hillarysemail', 'hillarysemails', 'hillaryshealth', 'hillbullies', 'hillyes', 'hiphop', 'history', 'hiv', 'hocuspocus', 'holiday', 'hollywood', 'home', 'hope', 'horror', 'hotlinejosh', 'housecracka', 'housegop', 'howardkurtz', 'howardstern', 'hr', 'hrc', 'hrtablaze', 'hrw', 'htgawm', 'httr', 'httweets', 'huffingtonpost', 'huffpostblog', 'huffpostpol', 'huffpostpolthe', 'huffpostpoltrump', 'hughhewitt', 'huma', 'humaabedin', 'humanrights', 'hypocrisy', 'iamsambee', 'ibmwatson', 'ibmwow', 'iceland', 'iheartradio', 'imillhiser', 'immigrant4trump', 'immigration', 'imrankhanpti', 'imwither', 'imwithher', 'imwithher2016', 'inc', 'incindia', 'independent', 'india', 'indians', 'infowars', 'ingrahamangle', 'inners', 'innovation', 'inspiration', 'instagram', 'insurance', 'intelligencer', 'iot', 'iowa', 'iran', 'iraq', 'ireland', 'irs', 'isikoff', 'isis', 'islam', 'israel', 'it', 'italians4trump', 'italy', 'italyearthquake', 'itunes', 'itvnews', 'ivankatrump', 'jack', 'jackposobiec', 'jaguars', 'jaketapper', 'jamescomey', 'jamescomeyfbi', 'jameshohmann', 'jamesokeefeiii', 'jamesrosenfnc', 'janemayernyer', 'jaredwyand', 'jasoninthehouse', 'jasonmillerindc', 'jbaker31826004', 'jbarro', 'jbouie', 'jdelreal', 'jdmorgan', 'jebbush', 'jeffersonobama', 'jeffflake', 'jeffpearlman', 'jeffpeguescbs', 'jeffreytoobin', 'jeffzeleny', 'jeisrael', 'jeneps', 'jengranholm', 'jengriffinfnc', 'jenniferjjacobs', 'jeremycorbyn', 'jerseyj0e', 'jesserodriguez', 'jesus', 'jewelry', 'jheil', 'jillnothill', 'jillstein', 'jimmiejohnson', 'jimmykimmel', 'jimsciutto', 'jjauthor', 'jk_rowling', 'jkcorden', 'jlo', 'jmartnyt', 'jmpalmieri', 'joanwalsh', 'job', 'jobs', 'joebiden', 'joeconason', 'joenbc', 'johnfugelsang', 'johnjharwood', 'johnkasich', 'johnkerry', 'johnkingcnn', 'johnkstahlusa', 'johnpodesta', 'jokerslive', 'jonahnro', 'jonathanchait', 'jonfavs', 'jordanchariton', 'joshrogin', 'joshtpm', 'joshuagreen', 'journalism', 'joyannreid', 'jpodhoretz', 'jrubinblogger', 'jtimberlake', 'juddapatow', 'juddlegum', 'judgejeanine', 'judgenap', 'judicialwatch', 'julianassange_', 'julieroginsky', 'just_a_texan', 'justice', 'justinjm1', 'justintrudeau', 'justsaying', 'kaepernick7', 'kanyewest', 'karanjohar', 'karlrove', 'karma', 'karoli', 'kasie', 'katherinemiller', 'kathleen_wynne', 'katiecouric', 'katiemcgintypa', 'katiepavlich', 'katrinapierson', 'katyperry', 'katyturnbc', 'kayleighmcenany', 'kazmierskir', 'kdtrey5', 'kedronbardwell', 'keepamergr8', 'keitholbermann', 'keithrowland', 'kellyannepolls', 'kellyayotte', 'kellyfile', 'kenloachsixteen', 'kennedynation', 'kerpen', 'kevindarryl', 'kfile', 'khanoisseur', 'kharyp', 'kids', 'killoughcnn', 'kimdotcom', 'kimguilfoyle', 'kimstrassel', 'kingjames', 'kira_lerner', 'knicks', 'knp2bp', 'kotcha301', 'krauthammer', 'kris_sacrebleu', 'kschwarb12', 'kthopkins', 'ktumulty', 'kurteichenwald', 'kurtschlichter', 'kwelkernbc', 'kylegriffin1', 'la', 'ladygaga', 'lakers', 'laraleatrump', 'larryelder', 'larrysabato', 'lasvegas', 'latimes', 'latinaafortrump', 'latinos', 'lauren_southern', 'law', 'law_newz', 'lawrence', 'lbc', 'leadership', 'leahr77', 'leahrboss', 'lechatnoire4', 'lee_in_iowa', 'leodicaprio', 'lesdoggg', 'lesliemarshall', 'leslieodomjr', 'letsgo', 'lfc', 'lgbt', 'lgbtq', 'liar', 'libdems', 'liberal', 'liberals', 'lies', 'life', 'lifezette', 'lilyallen', 'lin_manuel', 'lindasuhler', 'lindseygrahamsc', 'linkedin', 'lisamarieboothe', 'live', 'liz_wheeler', 'lizwfb', 'lockherup', 'lodisilverado', 'lol', 'lolgop', 'london', 'lorettalynch', 'loser', 'loudobbs', 'louisemensch', 'love', 'loveghirardelli', 'lovetrumpshate', 'lrihendry', 'ludacristiano', 'luxury', 'maajidnawaz', 'macbookpro', 'madampresident', 'maddow', 'maddowblog', 'madonna', 'maga', 'maga3x', 'maggie_hassan', 'maggienyt', 'maggyw519', 'magnifier661', 'mailonline', 'makeamericagreatagain', 'makeup', 'malcolmnance', 'management', 'manmet80', 'manoharparrikar', 'manutd', 'marcorubio', 'marcylauren', 'mariabartiromo', 'markdice', 'marketing', 'markhalperin', 'markkirk', 'marklevinshow', 'markos', 'markruffalo', 'martinomalley', 'martinsvilleswy', 'marvel', 'maryannemarsh', 'mashable', 'mathiasian', 'mattgertz', 'matthewamiller', 'matthewjdowd', 'mattmackowiak', 'mattmfm', 'mattmurph24', 'mattyglesias', 'mbhokie97', 'mcdonalds', 'mcfaul', 'mckaycoppins', 'mcuban', 'media', 'mediabias', 'mediabuzzfnc', 'mediaite', 'medium', 'meetthepress', 'megankelly', 'meghanmccain', 'megynkelly', 'mehdirhasan', 'melaniatrump', 'melissaafrancis', 'mentalhealth', 'mexico', 'mexicogp', 'miami', 'miami4trump', 'miamiherald', 'mic', 'michaelcohen212', 'michaeldweiss', 'michaelkeyes', 'michaelmoore', 'michellemalkin', 'michelleobama', 'michigan', 'microsoft', 'microsoftevent', 'midgespeaks', 'midnight', 'mike_pence', 'mikepencevp', 'milesjreed', 'mileycyrus', 'military', 'millennials', 'mindyfinn', 'misslizzynj', 'mitchellreports', 'mitchellvii', 'mittromney', 'mkraju', 'mlb', 'mlbonfox', 'mmfa', 'mmflint', 'mmpadellan', 'mmurraypolitics', 'mobile', 'money', 'monicacrowley', 'montel_williams', 'morgfair', 'mormonmafia', 'morning_joe', 'morningjoe', 'morningmika', 'morningmoneyben', 'morningsmaria', 'mosul', 'motherjones', 'motivation', 'moveon', 'movies', 'mplusplaces', 'mplusrewards', 'mrdane1982', 'mredtrain', 'mrjamesonneat', 'mscharlottewwe', 'msm', 'msnbc', 'mtnmd', 'mtracey', 'mufc', 'music', 'muslim', 'muslims', 'naacp', 'nancypelosi', 'nanowrimo', 'narendramodi', 'nasa', 'nascar', 'nastywoman', 'nastywomen', 'nate_cohn', 'natesilver538', 'natgeo', 'natgeochannel', 'nationalcatday', 'nationalchocolateday', 'nationalpost', 'nationalpumpkinday', 'nato', 'nature', 'nba', 'nbaontnt', 'nbatipoff', 'nbc', 'nbcnews', 'nbcnightlynews', 'nbcpolitics', 'nbcsnl', 'nbcthisisus', 'nbcwashington', 'nc', 'ndgovdalrymple', 'ndtv', 'neeratanden', 'neilturner_', 'netflix', 'networking', 'networksmanager', 'nevada', 'neverhillary', 'nevertrump', 'newday', 'newrepublic', 'news', 'newsbusters', 'newshour', 'newsmax', 'newsthe', 'newsweek', 'newt', 'newtgingrich', 'newttrump', 'newyork', 'newyorker', 'nfl', 'nflcommish', 'nflnetwork', 'nflonfox', 'nh', 'nhl', 'nia4_trump', 'niallofficial', 'nicerrap', 'nickconfessore', 'nickkristof', 'nicolasturgeon', 'nicolledwallace', 'nigel_farage', 'nissan', 'nissanusa', 'nj', 'noahcrothman', 'noahgraycnn', 'nodapl', 'noltenc', 'nordstrom', 'normornstein', 'northcarolina', 'now', 'nowplaying', 'np', 'npr', 'nprpolitics', 'nra', 'nro', 'number10gov', 'nutrition', 'ny', 'nyc', 'nycsouthpaw', 'nydailynews', 'nyjets', 'nyknicks', 'nymag', 'nypmetro', 'nypost', 'nytimes', 'nytnickc', 'nytopinion', 'oann', 'obama', 'obamacare', 'obamacarefail', 'obamacareinthreewords', 'obamamalik', 'observer', 'octobersurprise', 'officeofrg', 'ohio', 'oil', 'okcthunder', 'oliverdarcy', 'omfg_america', 'online', 'onlxn', 'only4rm', 'onmessageforher', 'oprah', 'oregon', 'oregonian', 'oregonstandoff', 'oreillyfactor', 'outfrontcnn', 'outnumberedfnc', 'owillis', 'owntv', 'p0tustrump', 'p2', 'pa', 'packers', 'painting', 'pakistan', 'pamela_moore13', 'panthers', 'parenting', 'paris', 'party', 'pastormarkburns', 'pathetic', 'patmccrorync', 'patrickmurphyfl', 'patriot', 'patriotbygod', 'patriotic_folks', 'patriots', 'pattonoswalt', 'paulbegala', 'paulinehansonoz', 'paulkrugman', 'paytoplay', 'pbs', 'pbump', 'peace', 'peddoc63', 'pence', 'pennsylvania', 'people', 'perduechicken', 'perduecrew', 'periscope', 'periscopeco', 'peterdaou', 'petewilliamsnbc', 'pets', 'pharris830', 'phil_mattingly', 'philcollinsfeed', 'philly', 'phivsdal', 'photo', 'photography', 'piersmorgan', 'pitch', 'pizzapartyben', 'pjnet', 'plantflowes', 'pmoindia', 'pnehlen', 'podcast', 'podesta', 'podestaemails', 'podestaemails18', 'podestaemails19', 'podestaemails20', 'podestaemails21', 'podestaemails22', 'podestaemails23', 'podestaleaks', 'poetry', 'police', 'politico', 'politicomag', 'politics', 'politics_pr', 'politicussarah', 'politicususa', 'politifact', 'poll', 'polls', 'pontifex', 'poppyharlowcnn', 'postroz', 'potus', 'poverty', 'ppact', 'ppollingnumbers', 'pr', 'president', 'presidentialelection', 'presidenttrump', 'prisonplanet', 'privacy', 'project_veritas', 'projectveritas', 'prolife', 'promotion', 'pryan', 'ps4share', 'pti', 'pumpkin', 'pumpkins', 'puppymnkey', 'putin', 'pveritas_action', 'queensugar', 'queensugarown', 'quote', 'quotea', 'quotebe', 'quotedon', 'quotehow', 'quotei', 'quoteif', 'quoteit', 'quotelife', 'quotes', 'quotethanks', 'quotethe', 'quoteto', 'quotewhat', 'quoteyou', 'quoteyour', 'qz', 'racism', 'racist', 'radiofreetom', 'raheemkassam', 'raidernation', 'raiders', 'rallytogether', 'rallytogetheri', 'ralstonreports', 'rambobiggs', 'ranaayyub', 'randpaul', 'randyprine', 'rape', 'raw', 'rawstory', 'rbcreamer', 'rcpvideo', 'reading', 'reaganbattalion', 'realalexjones', 'realbencarson', 'realclearnews', 'realdenaldtrump', 'realdennislynch', 'realdonaldtrump', 'realestate', 'realjameswoods', 'realmuckmaker', 'realskipbayless', 'realstrategyfan', 'realtimers', 'recipe', 'reddit', 'redskins', 'redstate', 'refugees', 'regated', 'reince', 'reinindc', 'reliablesources', 'repcummings', 'republican', 'republicans', 'rescuetracker81', 'research', 'respect', 'retail', 'reuters', 'rhonj', 'richardbranson', 'richardgrenell', 'richardtburnett', 'rickygervais', 'rigged', 'riggedelection', 'riggedsystem', 'ringer', 'riotwomennn', 'rip', 'ripcity', 'ripvine', 'ritapanahi', 'rnc', 'robbymook', 'rockprincess818', 'rogerjstonejr', 'rolandsmartin', 'rollingstone', 'rolltribe', 'ron_fournier', 'rosie', 'roycoopernc', 'rsbnetwork', 'rt', 'rt_com', 'rtraister', 'rubycramer', 'rudygiulianigop', 'run', 'running', 'rupertmurdoch', 'rushlimbaugh', 'russia', 'russian', 'russians', 'russwest44', 'ryanlizza', 's_c_', 'sad', 'sahilkapur', 'sales', 'sallykohn', 'salon', 'samharrisorg', 'samsteinhp', 'sandrasmithfox', 'sandratxas', 'sarabareilles', 'sarahkendzior', 'sarihorwitz', 'sashabankswwe', 'saudi', 'saudiarabia', 'sbnation', 'scarystoriesin5words', 'school', 'schreckreports', 'schultz44', 'science', 'scifi', 'scotland', 'scottadamssays', 'scottbaio', 'scottienhughes', 'scottpresler', 'scotus', 'scrowder', 'sdgs', 'sdlive', 'seahawks', 'seanhannity', 'seanspicer', 'seattle', 'seavsno', 'sebgorka', 'secretservice', 'secupp', 'security', 'selfie', 'senate', 'senategop', 'senatemajldr', 'senatorkirk', 'senatorreid', 'senatorsessions', 'senfeinstein', 'senjohnmccain', 'senronjohnson', 'sensanders', 'sentedcruz', 'senwarren', 'seo', 'sevyn', 'shannoncoulter', 'shareblue', 'sharethis', 'sharonmccutchan', 'sharylattkisson', 'shaunking', 'shepnewsteam', 'sheriffclarke', 'sherylcrow', 'sheswithus', 'shewhovotes', 'shkhrasheed', 'sickhillary', 'signsatthegatesofhell', 'sissenberg', 'sixers', 'skincare', 'skynews', 'slate', 'slh', 'slone', 'smallbiz', 'smallbusiness', 'smerconish', 'smh', 'smm', 'smshow', 'snapchat', 'snf', 'snfonnbc', 'snl', 'snoopdogg', 'snopes', 'snowden', 'socal4trump', 'socent', 'social', 'socialmedia', 'socialmediathe', 'solar', 'soledadobrien', 'sopandeb', 'soros', 'sorrynotsorry', 'souljaboy', 'soundcloud', 'space', 'speakerryan', 'specialkmb1969', 'specialreport', 'speechboy71', 'splcenter', 'sponsored', 'spooky', 'sports', 'sportscenter', 'spotify', 'spurs', 'sputnikint', 'sruhle', 'standingrock', 'standwithstandingrock', 'starbucks', 'startrek', 'startup', 'startups', 'starwars', 'statedept', 'stefanmolyneux', 'stem', 'steph93065', 'stephenathome', 'stephenfhayes', 'stephenking', 'stephenswsj', 'stevekornacki', 'stevenwhirsch99', 'steveyeun', 'stonewall_77', 'stopcorpabuse', 'stopnuclearwar', 'stopstophillary', 'strangerthings', 'strategy', 'stress', 'strictly', 'strongertogether', 'style', 'subway', 'success', 'sunday', 'sundaymorning', 'sunrise', 'sunset', 'supernatural', 'support', 'surfermom77', 'survivor', 'sustainability', 'swamy39', 'sweden', 'sweepstakes', 'sykescharlie', 'syria', 'tacobell', 'tallahfortrump', 'tamaraleighllc', 'tammyforil', 'tamronhall', 'tarekfatah', 'target', 'taylorswift13', 'tbt', 'tcot', 'team', 'teamcavuto', 'teammcmullin', 'teamtrump', 'teamtrumpaz', 'teapainusa', 'teaparty', 'tech', 'techcrunch', 'technology', 'tedcruz', 'teddyschleifer', 'telegraph', 'telegraphnews', 'ten_gop', 'termlimits', 'terrorism', 'teslamotors', 'texas', 'texastribune', 'tgif', 'tgowdysc', 'thanksgiving', 'thankyou', 'the', 'the_intercept', 'theatlantic', 'thebaxterbean', 'theblaze', 'thecut', 'thedailybeast', 'thedemocrats', 'theeconomist', 'theellenshow', 'thefall', 'thefive', 'thefix', 'theflash', 'thegarance', 'thehill', 'theijr', 'thejk_kid', 'thejuanwilliams', 'thejusticedept', 'thelastrefuge2', 'thelastword', 'theleadcnn', 'themrc', 'thenation', 'theonlyadult', 'thepatriot143', 'theplumlinegs', 'therealroseanne', 'theresa_may', 'therickwilson', 'therickyvaughn', 'therightscoop', 'thesun', 'theview', 'thewalkingdead', 'theyoungturks', 'thinkprogress', 'thisisus', 'thisweekabc', 'thr', 'throwbackthursday', 'thunderclapit', 'thursdaythoughts', 'tiffanyatrump', 'time', 'timesnow', 'timesofindia', 'timkaine', 'timtebow', 'tips', 'titans', 'tkdmike', 'tmobile', 'tmz', 'tnf', 'todayshow', 'toddstarnes', 'tom_winter', 'tomcottonar', 'tomhanks', 'tomilahren', 'tommyshida', 'toronto', 'torontostar', 'townhallcom', 'tpm', 'tponews', 'tpp', 'travel', 'travelthe', 'trickortreat', 'trobinsonnewera', 'trump', 'trump2016', 'trumpahorrormovie', 'trumpdc', 'trumpland', 'trumplandslide', 'trumppence', 'trumppence16', 'trumppence2016', 'trumppencelandslide', 'trumppenceusa1', 'trumprally', 'trumps', 'trumpstrong', 'trumpsuperpac', 'trumptheestablishment', 'trumptrain', 'trumptv', 'trumpwomenstour', 'truth', 'truthfeednews', 'trutvjokers', 'ttt16', 'tuckercarlson', 'tuesdaymotivation', 'tumblr', 'turkey', 'turnbullmalcolm', 'tv', 'tvietor08', 'twd', 'twitchyteam', 'twitter', 'uber', 'uk', 'uklabour', 'ukraine', 'ultraviolet', 'umichfootball', 'un', 'uniteblue', 'unityactivist', 'untappd', 'upshotnyt', 'us', 'usa', 'usafortrump2016', 'usaneedstrump', 'usatoday', 'uselection', 'utah', 'uwbadgers', 'va', 'va4hillary1', 'vanjones68', 'variety', 'varneyco', 'vegan', 'veganvecoh', 'vegas', 'venezuela', 'verge', 'veritas', 'verizon', 'vetapologist', 'veteran', 'veteran4trump', 'veterans', 'vets', 'vice', 'vickybrush', 'video', 'vimeo', 'vine', 'violence', 'virginia', 'vivalaames', 'vivelafra', 'vote', 'voteblue', 'votebluedownballot', 'voteearly', 'voterfraud', 'votersuppression', 'votetrump', 'votetrump2016', 'votetrumppence16', 'voting', 'voxdotcom', 'vp', 'vr', 'wakeupamerica', 'walkingdead', 'walkingdead_amc', 'wallstreet', 'walmart', 'walshfreedom', 'waposean', 'war', 'warriors', 'washington', 'washingtonpost', 'washtimes', 'wasvscin', 'water', 'watergate', 'waterislife', 'watson', 'waynedupreeshow', 'wdfx2eu7', 'weaselzippers', 'weather', 'wedding', 'wednesdaywisdom', 'weekend', 'wef', 'weiner', 'weinergate', 'wendyvoss', 'weneedtrump', 'westwingreport', 'westworld', 'westworldhbo', 'wethepeople', 'whitehouse', 'wikileak', 'wikileaks', 'wildlife', 'williegeist', 'win', 'windians', 'wine', 'wired', 'wisconsin', 'wltaskforce', 'woahohkatie', 'wolfblitzer', 'woman', 'women', 'womenfortrump', 'woodhouseb', 'wordpressdotcom', 'work', 'world', 'worldnetdaily', 'worlds', 'worldseries', 'worldseriesi', 'worldseriesif', 'worldseriesthat', 'worldseriesthe', 'worldseriesthis', 'worldserieswhat', 'wpjenna', 'wrigleyfield', 'writing', 'wsj', 'wsjpolitics', 'wtf', 'wwe', 'xfactor', 'yahoonews', 'yankees', 'yashar', 'yelp', 'yemen', 'yoga', 'youngdems4trump', 'youranonnews', 'youtube', 'youtubea', 'youtubebreaking', 'youtubeclinton', 'youtubedonald', 'youtubefbi', 'youtubehillary', 'youtubehow', 'youtubei', 'youtubeif', 'youtubenew', 'youtubeobama', 'youtubethe', 'youtubethis', 'youtubetrump', 'youtubewe', 'youtubewhat', 'youtubewhy', 'youtubewikileaks', 'youtubeyou', 'yuengling_beer', 'zacgoldsmith', 'zekejmiller', 'zerohedge', 'zika', 'zimmermanrob'] \n",
      "\n",
      "Cluster: 0\n",
      "realdonaldtrump\n",
      "hillaryclinton\n",
      "cnn\n",
      "megynkelly\n",
      "foxnews\n",
      "fbi\n",
      "youtube\n",
      "wikileaks\n",
      "potus\n",
      "newtgingrich\n",
      "washingtonpost\n",
      "msnbc\n",
      "kellyannepolls\n",
      "nytimes\n",
      "seanhannity\n",
      "abc\n",
      "maga\n",
      "gop\n",
      "jasoninthehouse\n",
      "mike_pence\n",
      "trump\n",
      "imwithher\n",
      "nbcnews\n",
      "joyannreid\n",
      "cnnpolitics\n",
      "politico\n",
      "breitbartnews\n",
      "flotus\n",
      "wsj\n",
      "donaldjtrumpjr\n",
      "\n",
      "Cluster: 1\n",
      "hillaryclinton\n",
      "trump\n",
      "realdonaldtrump\n",
      "fbi\n",
      "wikileaks\n",
      "hillary\n",
      "cnn\n",
      "maga\n",
      "megynkelly\n",
      "foxnews\n",
      "potus\n",
      "draintheswamp\n",
      "msnbc\n",
      "clinton\n",
      "crookedhillary\n",
      "newtgingrich\n",
      "imwithher\n",
      "gop\n",
      "obama\n",
      "comey\n",
      "youtube\n",
      "trumptrain\n",
      "neverhillary\n",
      "obamacare\n",
      "trumppence16\n",
      "humaabedin\n",
      "seanhannity\n",
      "trump2016\n",
      "billclinton\n",
      "kellyannepolls\n",
      "\n"
     ]
    }
   ],
   "source": [
    "terms = vectorizer_2.get_feature_names()\n",
    "print(terms, '\\n')\n",
    "for i in range(2):\n",
    "    print (\"Cluster:\", i)\n",
    "    for ind in des_order_centroids[i, :30]:\n",
    "        print (terms[ind])\n",
    "    print()   "
   ]
  },
  {
   "cell_type": "code",
   "execution_count": 50,
   "metadata": {},
   "outputs": [
    {
     "data": {
      "text/plain": [
       "array([1, 0, 1, ..., 0, 0, 0], dtype=int64)"
      ]
     },
     "execution_count": 50,
     "metadata": {},
     "output_type": "execute_result"
    }
   ],
   "source": [
    "aglo_2 = sk_cluster.AgglomerativeClustering(linkage = 'ward', n_clusters = 2)   \n",
    "\n",
    "#complete: The maximum distances\n",
    "#n_clusters: The number of clusters to find.\n",
    "\n",
    "aglo_ward = aglo_2.fit_predict(matrix_2.toarray())\n",
    "aglo_ward"
   ]
  },
  {
   "cell_type": "code",
   "execution_count": 51,
   "metadata": {},
   "outputs": [
    {
     "data": {
      "text/plain": [
       "array([0, 0, 0, ..., 0, 0, 0], dtype=int64)"
      ]
     },
     "execution_count": 51,
     "metadata": {},
     "output_type": "execute_result"
    }
   ],
   "source": [
    "ag_2 = sk_cluster.AgglomerativeClustering(linkage = 'complete', n_clusters = 2)   \n",
    "\n",
    "#complete: The maximum distances\n",
    "#n_clusters: The number of clusters to find.\n",
    "\n",
    "aglo_complete = ag_2.fit_predict(matrix_2.toarray())\n",
    "aglo_complete"
   ]
  },
  {
   "cell_type": "code",
   "execution_count": 52,
   "metadata": {},
   "outputs": [
    {
     "data": {
      "text/html": [
       "<div>\n",
       "<style>\n",
       "    .dataframe thead tr:only-child th {\n",
       "        text-align: right;\n",
       "    }\n",
       "\n",
       "    .dataframe thead th {\n",
       "        text-align: left;\n",
       "    }\n",
       "\n",
       "    .dataframe tbody tr th {\n",
       "        vertical-align: top;\n",
       "    }\n",
       "</style>\n",
       "<table border=\"1\" class=\"dataframe\">\n",
       "  <thead>\n",
       "    <tr style=\"text-align: right;\">\n",
       "      <th></th>\n",
       "      <th>UserID</th>\n",
       "      <th>Class</th>\n",
       "    </tr>\n",
       "  </thead>\n",
       "  <tbody>\n",
       "    <tr>\n",
       "      <th>0</th>\n",
       "      <td>23716167</td>\n",
       "      <td>1</td>\n",
       "    </tr>\n",
       "    <tr>\n",
       "      <th>1</th>\n",
       "      <td>1330659342</td>\n",
       "      <td>0</td>\n",
       "    </tr>\n",
       "    <tr>\n",
       "      <th>2</th>\n",
       "      <td>2409166483</td>\n",
       "      <td>1</td>\n",
       "    </tr>\n",
       "    <tr>\n",
       "      <th>3</th>\n",
       "      <td>245307075</td>\n",
       "      <td>1</td>\n",
       "    </tr>\n",
       "    <tr>\n",
       "      <th>4</th>\n",
       "      <td>139657834</td>\n",
       "      <td>0</td>\n",
       "    </tr>\n",
       "    <tr>\n",
       "      <th>5</th>\n",
       "      <td>2389739117</td>\n",
       "      <td>1</td>\n",
       "    </tr>\n",
       "    <tr>\n",
       "      <th>6</th>\n",
       "      <td>1255633104</td>\n",
       "      <td>0</td>\n",
       "    </tr>\n",
       "    <tr>\n",
       "      <th>7</th>\n",
       "      <td>1446372308</td>\n",
       "      <td>0</td>\n",
       "    </tr>\n",
       "    <tr>\n",
       "      <th>8</th>\n",
       "      <td>2329953902</td>\n",
       "      <td>1</td>\n",
       "    </tr>\n",
       "    <tr>\n",
       "      <th>9</th>\n",
       "      <td>24023801</td>\n",
       "      <td>1</td>\n",
       "    </tr>\n",
       "    <tr>\n",
       "      <th>10</th>\n",
       "      <td>16593464</td>\n",
       "      <td>1</td>\n",
       "    </tr>\n",
       "    <tr>\n",
       "      <th>11</th>\n",
       "      <td>1574282544</td>\n",
       "      <td>0</td>\n",
       "    </tr>\n",
       "    <tr>\n",
       "      <th>12</th>\n",
       "      <td>16540633</td>\n",
       "      <td>1</td>\n",
       "    </tr>\n",
       "    <tr>\n",
       "      <th>13</th>\n",
       "      <td>112217287</td>\n",
       "      <td>0</td>\n",
       "    </tr>\n",
       "    <tr>\n",
       "      <th>14</th>\n",
       "      <td>233558058</td>\n",
       "      <td>1</td>\n",
       "    </tr>\n",
       "    <tr>\n",
       "      <th>15</th>\n",
       "      <td>14188423</td>\n",
       "      <td>0</td>\n",
       "    </tr>\n",
       "    <tr>\n",
       "      <th>16</th>\n",
       "      <td>2441837502</td>\n",
       "      <td>0</td>\n",
       "    </tr>\n",
       "    <tr>\n",
       "      <th>17</th>\n",
       "      <td>238247484</td>\n",
       "      <td>1</td>\n",
       "    </tr>\n",
       "    <tr>\n",
       "      <th>18</th>\n",
       "      <td>125672370</td>\n",
       "      <td>0</td>\n",
       "    </tr>\n",
       "    <tr>\n",
       "      <th>19</th>\n",
       "      <td>141327370</td>\n",
       "      <td>0</td>\n",
       "    </tr>\n",
       "    <tr>\n",
       "      <th>20</th>\n",
       "      <td>1141018981</td>\n",
       "      <td>0</td>\n",
       "    </tr>\n",
       "    <tr>\n",
       "      <th>21</th>\n",
       "      <td>2270988847</td>\n",
       "      <td>1</td>\n",
       "    </tr>\n",
       "    <tr>\n",
       "      <th>22</th>\n",
       "      <td>17966438</td>\n",
       "      <td>1</td>\n",
       "    </tr>\n",
       "    <tr>\n",
       "      <th>23</th>\n",
       "      <td>24422496</td>\n",
       "      <td>0</td>\n",
       "    </tr>\n",
       "    <tr>\n",
       "      <th>24</th>\n",
       "      <td>17668462</td>\n",
       "      <td>1</td>\n",
       "    </tr>\n",
       "    <tr>\n",
       "      <th>25</th>\n",
       "      <td>1431351122</td>\n",
       "      <td>1</td>\n",
       "    </tr>\n",
       "    <tr>\n",
       "      <th>26</th>\n",
       "      <td>238750581</td>\n",
       "      <td>0</td>\n",
       "    </tr>\n",
       "    <tr>\n",
       "      <th>27</th>\n",
       "      <td>2233405561</td>\n",
       "      <td>0</td>\n",
       "    </tr>\n",
       "    <tr>\n",
       "      <th>28</th>\n",
       "      <td>2189471109</td>\n",
       "      <td>0</td>\n",
       "    </tr>\n",
       "    <tr>\n",
       "      <th>29</th>\n",
       "      <td>1043153352</td>\n",
       "      <td>0</td>\n",
       "    </tr>\n",
       "    <tr>\n",
       "      <th>...</th>\n",
       "      <td>...</td>\n",
       "      <td>...</td>\n",
       "    </tr>\n",
       "    <tr>\n",
       "      <th>199970</th>\n",
       "      <td>16651924</td>\n",
       "      <td>1</td>\n",
       "    </tr>\n",
       "    <tr>\n",
       "      <th>199971</th>\n",
       "      <td>17468670</td>\n",
       "      <td>1</td>\n",
       "    </tr>\n",
       "    <tr>\n",
       "      <th>199972</th>\n",
       "      <td>153018872</td>\n",
       "      <td>1</td>\n",
       "    </tr>\n",
       "    <tr>\n",
       "      <th>199973</th>\n",
       "      <td>2233660412</td>\n",
       "      <td>0</td>\n",
       "    </tr>\n",
       "    <tr>\n",
       "      <th>199974</th>\n",
       "      <td>1279490514</td>\n",
       "      <td>0</td>\n",
       "    </tr>\n",
       "    <tr>\n",
       "      <th>199975</th>\n",
       "      <td>17056433</td>\n",
       "      <td>1</td>\n",
       "    </tr>\n",
       "    <tr>\n",
       "      <th>199976</th>\n",
       "      <td>110928220</td>\n",
       "      <td>0</td>\n",
       "    </tr>\n",
       "    <tr>\n",
       "      <th>199977</th>\n",
       "      <td>2161917085</td>\n",
       "      <td>0</td>\n",
       "    </tr>\n",
       "    <tr>\n",
       "      <th>199978</th>\n",
       "      <td>2386103870</td>\n",
       "      <td>0</td>\n",
       "    </tr>\n",
       "    <tr>\n",
       "      <th>199979</th>\n",
       "      <td>155934445</td>\n",
       "      <td>1</td>\n",
       "    </tr>\n",
       "    <tr>\n",
       "      <th>199980</th>\n",
       "      <td>153467001</td>\n",
       "      <td>1</td>\n",
       "    </tr>\n",
       "    <tr>\n",
       "      <th>199981</th>\n",
       "      <td>15775023</td>\n",
       "      <td>1</td>\n",
       "    </tr>\n",
       "    <tr>\n",
       "      <th>199982</th>\n",
       "      <td>23941370</td>\n",
       "      <td>1</td>\n",
       "    </tr>\n",
       "    <tr>\n",
       "      <th>199983</th>\n",
       "      <td>228911689</td>\n",
       "      <td>1</td>\n",
       "    </tr>\n",
       "    <tr>\n",
       "      <th>199984</th>\n",
       "      <td>2308993623</td>\n",
       "      <td>0</td>\n",
       "    </tr>\n",
       "    <tr>\n",
       "      <th>199985</th>\n",
       "      <td>2371239332</td>\n",
       "      <td>1</td>\n",
       "    </tr>\n",
       "    <tr>\n",
       "      <th>199986</th>\n",
       "      <td>190902644</td>\n",
       "      <td>0</td>\n",
       "    </tr>\n",
       "    <tr>\n",
       "      <th>199987</th>\n",
       "      <td>2267923414</td>\n",
       "      <td>1</td>\n",
       "    </tr>\n",
       "    <tr>\n",
       "      <th>199988</th>\n",
       "      <td>2446118696</td>\n",
       "      <td>0</td>\n",
       "    </tr>\n",
       "    <tr>\n",
       "      <th>199989</th>\n",
       "      <td>2468874366</td>\n",
       "      <td>1</td>\n",
       "    </tr>\n",
       "    <tr>\n",
       "      <th>199990</th>\n",
       "      <td>2443016577</td>\n",
       "      <td>1</td>\n",
       "    </tr>\n",
       "    <tr>\n",
       "      <th>199991</th>\n",
       "      <td>209341090</td>\n",
       "      <td>0</td>\n",
       "    </tr>\n",
       "    <tr>\n",
       "      <th>199992</th>\n",
       "      <td>1560767966</td>\n",
       "      <td>1</td>\n",
       "    </tr>\n",
       "    <tr>\n",
       "      <th>199993</th>\n",
       "      <td>2458123014</td>\n",
       "      <td>1</td>\n",
       "    </tr>\n",
       "    <tr>\n",
       "      <th>199994</th>\n",
       "      <td>23569496</td>\n",
       "      <td>1</td>\n",
       "    </tr>\n",
       "    <tr>\n",
       "      <th>199995</th>\n",
       "      <td>166014481</td>\n",
       "      <td>1</td>\n",
       "    </tr>\n",
       "    <tr>\n",
       "      <th>199996</th>\n",
       "      <td>21730636</td>\n",
       "      <td>0</td>\n",
       "    </tr>\n",
       "    <tr>\n",
       "      <th>199997</th>\n",
       "      <td>1525391</td>\n",
       "      <td>0</td>\n",
       "    </tr>\n",
       "    <tr>\n",
       "      <th>199998</th>\n",
       "      <td>1954332134</td>\n",
       "      <td>0</td>\n",
       "    </tr>\n",
       "    <tr>\n",
       "      <th>199999</th>\n",
       "      <td>20393241</td>\n",
       "      <td>0</td>\n",
       "    </tr>\n",
       "  </tbody>\n",
       "</table>\n",
       "<p>200000 rows × 2 columns</p>\n",
       "</div>"
      ],
      "text/plain": [
       "            UserID  Class\n",
       "0         23716167      1\n",
       "1       1330659342      0\n",
       "2       2409166483      1\n",
       "3        245307075      1\n",
       "4        139657834      0\n",
       "5       2389739117      1\n",
       "6       1255633104      0\n",
       "7       1446372308      0\n",
       "8       2329953902      1\n",
       "9         24023801      1\n",
       "10        16593464      1\n",
       "11      1574282544      0\n",
       "12        16540633      1\n",
       "13       112217287      0\n",
       "14       233558058      1\n",
       "15        14188423      0\n",
       "16      2441837502      0\n",
       "17       238247484      1\n",
       "18       125672370      0\n",
       "19       141327370      0\n",
       "20      1141018981      0\n",
       "21      2270988847      1\n",
       "22        17966438      1\n",
       "23        24422496      0\n",
       "24        17668462      1\n",
       "25      1431351122      1\n",
       "26       238750581      0\n",
       "27      2233405561      0\n",
       "28      2189471109      0\n",
       "29      1043153352      0\n",
       "...            ...    ...\n",
       "199970    16651924      1\n",
       "199971    17468670      1\n",
       "199972   153018872      1\n",
       "199973  2233660412      0\n",
       "199974  1279490514      0\n",
       "199975    17056433      1\n",
       "199976   110928220      0\n",
       "199977  2161917085      0\n",
       "199978  2386103870      0\n",
       "199979   155934445      1\n",
       "199980   153467001      1\n",
       "199981    15775023      1\n",
       "199982    23941370      1\n",
       "199983   228911689      1\n",
       "199984  2308993623      0\n",
       "199985  2371239332      1\n",
       "199986   190902644      0\n",
       "199987  2267923414      1\n",
       "199988  2446118696      0\n",
       "199989  2468874366      1\n",
       "199990  2443016577      1\n",
       "199991   209341090      0\n",
       "199992  1560767966      1\n",
       "199993  2458123014      1\n",
       "199994    23569496      1\n",
       "199995   166014481      1\n",
       "199996    21730636      0\n",
       "199997     1525391      0\n",
       "199998  1954332134      0\n",
       "199999    20393241      0\n",
       "\n",
       "[200000 rows x 2 columns]"
      ]
     },
     "execution_count": 52,
     "metadata": {},
     "output_type": "execute_result"
    }
   ],
   "source": [
    "data_UserClasses = pd.read_table('clinton_trump_user_classes.txt', encoding = 'ISO-8859-1', header=None)\n",
    "data_UserClasses.columns=[\"UserID\",\"Class\"]\n",
    "data_UserClasses"
   ]
  },
  {
   "cell_type": "code",
   "execution_count": 53,
   "metadata": {},
   "outputs": [
    {
     "data": {
      "text/html": [
       "<div>\n",
       "<style>\n",
       "    .dataframe thead tr:only-child th {\n",
       "        text-align: right;\n",
       "    }\n",
       "\n",
       "    .dataframe thead th {\n",
       "        text-align: left;\n",
       "    }\n",
       "\n",
       "    .dataframe tbody tr th {\n",
       "        vertical-align: top;\n",
       "    }\n",
       "</style>\n",
       "<table border=\"1\" class=\"dataframe\">\n",
       "  <thead>\n",
       "    <tr style=\"text-align: right;\">\n",
       "      <th></th>\n",
       "      <th>UserID</th>\n",
       "      <th>Class</th>\n",
       "      <th>Text</th>\n",
       "      <th>HashtagHandles</th>\n",
       "      <th>DistinctHashtagHandles</th>\n",
       "      <th>PopularHashtagHandles</th>\n",
       "    </tr>\n",
       "  </thead>\n",
       "  <tbody>\n",
       "    <tr>\n",
       "      <th>0</th>\n",
       "      <td>198576972</td>\n",
       "      <td>0</td>\n",
       "      <td>Sorry HRC no combatant story about @realDonald...</td>\n",
       "      <td>[@realDonaldTrump, #TooBadSoSad@CoulterWatch, ...</td>\n",
       "      <td>[@megynkelly, #oh, @Varneyco, @latimes, @FoxBu...</td>\n",
       "      <td>[@megynkelly, @Varneyco, @latimes, @FoxBusines...</td>\n",
       "    </tr>\n",
       "    <tr>\n",
       "      <th>1</th>\n",
       "      <td>161838877</td>\n",
       "      <td>1</td>\n",
       "      <td>@PolticsNewz my money is all on @JoeBiden ...a...</td>\n",
       "      <td>[@PolticsNewz, @JoeBiden, @realDonaldTrump, #P...</td>\n",
       "      <td>[#grabyourwallet@ddale8, @TrumpDefeat, @T_Alan...</td>\n",
       "      <td>[@Karoli, @JoyAnnReid, @mitchellreports, @Hard...</td>\n",
       "    </tr>\n",
       "    <tr>\n",
       "      <th>2</th>\n",
       "      <td>17083396</td>\n",
       "      <td>1</td>\n",
       "      <td>To Have and to Hold: Married to the Internet o...</td>\n",
       "      <td>[@danielnewmanUVTY, @jardine_info, #PeopleSkil...</td>\n",
       "      <td>[@eleesha, #peopleskillsResearch:, #peopleskil...</td>\n",
       "      <td>[#change, #entrepreneur, #, #life, #Racism, #q...</td>\n",
       "    </tr>\n",
       "    <tr>\n",
       "      <th>3</th>\n",
       "      <td>1513788572</td>\n",
       "      <td>1</td>\n",
       "      <td>@gradearadio @JohnFugelsang Who's the Chinese ...</td>\n",
       "      <td>[@gradearadio, @JohnFugelsang, @VA4Hillary1, @...</td>\n",
       "      <td>[@FraukeDE, @SarahLerner, @Karoli, @JoyAnnReid...</td>\n",
       "      <td>[@Karoli, @JoyAnnReid, @JeffersonObama, @NBCNe...</td>\n",
       "    </tr>\n",
       "    <tr>\n",
       "      <th>4</th>\n",
       "      <td>2450904662</td>\n",
       "      <td>1</td>\n",
       "      <td>I'M ALL IN Join Me HILL-YES #MadamePresidentTo...</td>\n",
       "      <td>[#MadamePresidentToBe, #ImWithHer, @Jeff_Jacob...</td>\n",
       "      <td>[#FirstLadiesrocktheworld, @colinjones, @Senat...</td>\n",
       "      <td>[@SenatorReid, @DebraMessing, @JoyAnnReid, @do...</td>\n",
       "    </tr>\n",
       "    <tr>\n",
       "      <th>5</th>\n",
       "      <td>137474474</td>\n",
       "      <td>0</td>\n",
       "      <td>@FrankLuntz do we know who the no party affili...</td>\n",
       "      <td>[@FrankLuntz, @HillaryClinton, @realDonaldTrum...</td>\n",
       "      <td>[@FrankLuntz, @YouTube, @megynkelly, @brithume...</td>\n",
       "      <td>[@FrankLuntz, @YouTube, @megynkelly, @brithume...</td>\n",
       "    </tr>\n",
       "    <tr>\n",
       "      <th>6</th>\n",
       "      <td>234253334</td>\n",
       "      <td>1</td>\n",
       "      <td>@JudyWoodruff I would suggest the @FBI get the...</td>\n",
       "      <td>[@JudyWoodruff, @FBI, #Sharknado4@TheFreshBrew...</td>\n",
       "      <td>[@geoff9cow, @megynkelly, @m4mfer, #Sharknado4...</td>\n",
       "      <td>[@megynkelly, @brithume, @CurtisHouck, @wolfbl...</td>\n",
       "    </tr>\n",
       "    <tr>\n",
       "      <th>7</th>\n",
       "      <td>23876941</td>\n",
       "      <td>1</td>\n",
       "      <td>@PoppyHarlowCNN You should not allow Trump lie...</td>\n",
       "      <td>[@PoppyHarlowCNN, @hughhewitt, @MSNBC!, @rtrai...</td>\n",
       "      <td>[@mmfa, @ddale8, @SopanDeb, @Newsweek, @kylegr...</td>\n",
       "      <td>[@mmfa, @ddale8, @SopanDeb, @Newsweek, @kylegr...</td>\n",
       "    </tr>\n",
       "    <tr>\n",
       "      <th>8</th>\n",
       "      <td>19610536</td>\n",
       "      <td>0</td>\n",
       "      <td>@clarencehilljr leave on sidelinesTimeline of ...</td>\n",
       "      <td>[@clarencehilljr, @facebook, #PresidentialElec...</td>\n",
       "      <td>[@q13sportsphotog, #terrorist, #Anthem, #midge...</td>\n",
       "      <td>[#Hillary's, #PresidentialElection, @piersmorg...</td>\n",
       "    </tr>\n",
       "    <tr>\n",
       "      <th>9</th>\n",
       "      <td>15447275</td>\n",
       "      <td>1</td>\n",
       "      <td>@JackieK22379000 @kurteichenwald @JoyAnnReid @...</td>\n",
       "      <td>[@JackieK22379000, @kurteichenwald, @JoyAnnRei...</td>\n",
       "      <td>[@ddale8, @wolfblitzer, @cmenchaca, @ChrisCuom...</td>\n",
       "      <td>[@ddale8, @wolfblitzer, @ChrisCuomo, @JoyAnnRe...</td>\n",
       "    </tr>\n",
       "    <tr>\n",
       "      <th>10</th>\n",
       "      <td>2296175906</td>\n",
       "      <td>0</td>\n",
       "      <td>@ComfortablySmug @MarcACaputo Enough to buy ev...</td>\n",
       "      <td>[@ComfortablySmug, @MarcACaputo, @alivitali, @...</td>\n",
       "      <td>[@megynkelly, @dandrezner, @ByronTau, @SoundCl...</td>\n",
       "      <td>[@megynkelly, @SoundCloud, @ZekeJMiller, @Rand...</td>\n",
       "    </tr>\n",
       "    <tr>\n",
       "      <th>11</th>\n",
       "      <td>242957227</td>\n",
       "      <td>0</td>\n",
       "      <td>@Daggy1 is that what they are calling Banks th...</td>\n",
       "      <td>[@Daggy1, #FirstEnvironment@DaGodfather907, @s...</td>\n",
       "      <td>[@pescami, #FilterForMyKids., @SAI, #LowCarb@B...</td>\n",
       "      <td>[@benshapiro, @wolfblitzer, @ErikWemple, @MLB,...</td>\n",
       "    </tr>\n",
       "    <tr>\n",
       "      <th>12</th>\n",
       "      <td>16224698</td>\n",
       "      <td>1</td>\n",
       "      <td>@jkempcpa @thedailybeast @FoxNews maybe, I hop...</td>\n",
       "      <td>[@jkempcpa, @thedailybeast, @FoxNews, @ndiblas...</td>\n",
       "      <td>[@lagunitasbeer, #AZvsCAR@ChetanyaHaggard, @La...</td>\n",
       "      <td>[#Senate, #Trump, #Oregon, #Hillary, @NBA, #ru...</td>\n",
       "    </tr>\n",
       "    <tr>\n",
       "      <th>13</th>\n",
       "      <td>166783145</td>\n",
       "      <td>1</td>\n",
       "      <td>@armandodkos @JoyAnnReid @AmandiOnAir @stevesc...</td>\n",
       "      <td>[@armandodkos, @JoyAnnReid, @AmandiOnAir, @ste...</td>\n",
       "      <td>[@djrothkopf, @YouTube, #fail@pourmecoffee, @o...</td>\n",
       "      <td>[@YouTube, @owillis, @SopanDeb, @SenatorReid, ...</td>\n",
       "    </tr>\n",
       "    <tr>\n",
       "      <th>14</th>\n",
       "      <td>1111104085</td>\n",
       "      <td>0</td>\n",
       "      <td>@realDonaldTrump FOR LOVE OF GOD FAMILY AND CO...</td>\n",
       "      <td>[@realDonaldTrump, #HILLARYFORPRISON@realDonal...</td>\n",
       "      <td>[@megynkelly, @YouTube, @RSBNetwork, #HILLARYF...</td>\n",
       "      <td>[@megynkelly, @YouTube, @RSBNetwork, @periscop...</td>\n",
       "    </tr>\n",
       "    <tr>\n",
       "      <th>15</th>\n",
       "      <td>24833245</td>\n",
       "      <td>1</td>\n",
       "      <td>If U change Ur vote BC of this, U were going t...</td>\n",
       "      <td>[#ClintonEmails, #HillaryEmails@moody, #OxyMor...</td>\n",
       "      <td>[#ObamacareInThreeWords@Baseless22, @JoyAnnRei...</td>\n",
       "      <td>[@JoyAnnReid, @CapehartJ, @HardballChris, @Kel...</td>\n",
       "    </tr>\n",
       "    <tr>\n",
       "      <th>16</th>\n",
       "      <td>106548067</td>\n",
       "      <td>0</td>\n",
       "      <td>Trump Attorney: Donald Has a Gift for Homeless...</td>\n",
       "      <td>[@bbdoll11, #DrainTheSwamp, #WomenforTrump@mag...</td>\n",
       "      <td>[#DrainTheSwamp@shawtampabay, @Newsweek, #Obam...</td>\n",
       "      <td>[@Newsweek, #POTUS, @SandraTXAS, @DonaldJTrump...</td>\n",
       "    </tr>\n",
       "    <tr>\n",
       "      <th>17</th>\n",
       "      <td>115567809</td>\n",
       "      <td>0</td>\n",
       "      <td>@peddoc63 Clinton as \"less evil.\"  With \"demen...</td>\n",
       "      <td>[@peddoc63, @EWErickson, @TomiLahren, @slone, ...</td>\n",
       "      <td>[@Kasparov63, @ddale8, @AG_Conservative, @lnwi...</td>\n",
       "      <td>[@ddale8, @RedState, @JuddLegum, @slone, @vine...</td>\n",
       "    </tr>\n",
       "    <tr>\n",
       "      <th>18</th>\n",
       "      <td>1932049562</td>\n",
       "      <td>0</td>\n",
       "      <td>@BrookeBCNN @CNN Brooke dear u n ur colleagues...</td>\n",
       "      <td>[@BrookeBCNN, @CNN, @JeffDenham, @FoxNews, @ma...</td>\n",
       "      <td>[@megynkelly, @jimenezmarlon72, @AC360, @gatew...</td>\n",
       "      <td>[@megynkelly, @AC360, @gatewaypundit, @BillHem...</td>\n",
       "    </tr>\n",
       "    <tr>\n",
       "      <th>19</th>\n",
       "      <td>162285844</td>\n",
       "      <td>1</td>\n",
       "      <td>@realDonaldTrump when is your trial date for f...</td>\n",
       "      <td>[@realDonaldTrump, @realDonaldTrump?, @TheFix,...</td>\n",
       "      <td>[#Unpresidential, #UNFIT, @melaniatrump, @SNFo...</td>\n",
       "      <td>[@SNFonNBC, @wolfblitzer, @JuddLegum, @cnn, @r...</td>\n",
       "    </tr>\n",
       "    <tr>\n",
       "      <th>20</th>\n",
       "      <td>23817988</td>\n",
       "      <td>1</td>\n",
       "      <td>@BellaLibelle @StopNuclearWar you want the tru...</td>\n",
       "      <td>[@BellaLibelle, @StopNuclearWar, @godless_mom,...</td>\n",
       "      <td>[@Robinsky40, @99JMS, #NEOCON, #Walmart,.R, @K...</td>\n",
       "      <td>[@KellyannePolls, @NBCNews, @SariHorwitz, @Mor...</td>\n",
       "    </tr>\n",
       "    <tr>\n",
       "      <th>21</th>\n",
       "      <td>14966418</td>\n",
       "      <td>0</td>\n",
       "      <td>I rant and go on tangents, but I also spread l...</td>\n",
       "      <td>[@fbhw, @PooPourri, @squattypotty@CassandraRul...</td>\n",
       "      <td>[@MetamucilApparently, @Drake, @TravisMayfield...</td>\n",
       "      <td>[@Drake, #PresidentialElection, #fall, #spooky...</td>\n",
       "    </tr>\n",
       "    <tr>\n",
       "      <th>22</th>\n",
       "      <td>15666850</td>\n",
       "      <td>0</td>\n",
       "      <td>52 Ways to Make the Most of Your #ContentMarke...</td>\n",
       "      <td>[#ContentMarketing,, @BrightInfoBuzz, #smallbu...</td>\n",
       "      <td>[#entrepreneur',, #Entrepreneur, #SmasllBusine...</td>\n",
       "      <td>[#Entrepreneur, #sponsored, #Inspiration, #Ent...</td>\n",
       "    </tr>\n",
       "    <tr>\n",
       "      <th>23</th>\n",
       "      <td>114533091</td>\n",
       "      <td>0</td>\n",
       "      <td>Difficult to measure its impact, but everyone ...</td>\n",
       "      <td>[#Other, #insightopinionWhere, #insightopinion...</td>\n",
       "      <td>[@Salon, #Refugees, #jainismSri, #hinduism#Diw...</td>\n",
       "      <td>[@Salon, #terrorism, #CNN, #humanrights, #Medi...</td>\n",
       "    </tr>\n",
       "    <tr>\n",
       "      <th>24</th>\n",
       "      <td>2185553479</td>\n",
       "      <td>0</td>\n",
       "      <td>@I_AmAmerica Amen@jerome_corsi will #@merica e...</td>\n",
       "      <td>[@I_AmAmerica, #@merica, #DrainTheSwamp@RealDJ...</td>\n",
       "      <td>[@ByeByeObama1, #FL, #OBAMA, #AZ, #DumpTheSwam...</td>\n",
       "      <td>[#FL, #OBAMA, #AZ, @NBCNews, #SDLive, #CA, @Ju...</td>\n",
       "    </tr>\n",
       "    <tr>\n",
       "      <th>25</th>\n",
       "      <td>14802013</td>\n",
       "      <td>1</td>\n",
       "      <td>#Trump points to 'vote flipping' in Texas http...</td>\n",
       "      <td>[#Trump, @TheJusticeDeptBut, #Comey, #COWARD, ...</td>\n",
       "      <td>[#irresponsible, #VOTE!, #WTH???Low, #educatio...</td>\n",
       "      <td>[#SCOTUS, #Comey's, #vote, @mitchellreports, #...</td>\n",
       "    </tr>\n",
       "    <tr>\n",
       "      <th>26</th>\n",
       "      <td>23928356</td>\n",
       "      <td>0</td>\n",
       "      <td>Rev. Graham is right on point! https://t.co/vx...</td>\n",
       "      <td>[#Trump, #Trump, @megynkelly, @MichaelTetrick:...</td>\n",
       "      <td>[@c2cod, @DCExaminer, #JAXvsTEN, @sherry4201, ...</td>\n",
       "      <td>[@DCExaminer, #Startup, @kharyp, @woodhouseb, ...</td>\n",
       "    </tr>\n",
       "    <tr>\n",
       "      <th>27</th>\n",
       "      <td>14820509</td>\n",
       "      <td>1</td>\n",
       "      <td>S**t Joe Walsh Says https://t.co/uShzPrmDdPNic...</td>\n",
       "      <td>[@bobj72, @ChrisJansing, #ALEC, @MSNBC, @FBI, ...</td>\n",
       "      <td>[@SopanDeb, @Newsweek, @DebraMessing, @dailyne...</td>\n",
       "      <td>[@SopanDeb, @Newsweek, @DebraMessing, @JoyAnnR...</td>\n",
       "    </tr>\n",
       "    <tr>\n",
       "      <th>28</th>\n",
       "      <td>111387549</td>\n",
       "      <td>0</td>\n",
       "      <td>@brianstelter @CNNMoney reminder, Time Warner ...</td>\n",
       "      <td>[@brianstelter, @CNNMoney, @ChuckTod_Goatee, @...</td>\n",
       "      <td>[@wolfblitzer, #Boycott, @ericbolling, @Airbnb...</td>\n",
       "      <td>[@wolfblitzer, @ericbolling, @Airbnb, @NBCNews...</td>\n",
       "    </tr>\n",
       "    <tr>\n",
       "      <th>29</th>\n",
       "      <td>194663746</td>\n",
       "      <td>0</td>\n",
       "      <td>@Gundqr2 that's insane! I can't believe it!@Un...</td>\n",
       "      <td>[@Gundqr2, @UNICEF_uk, @LilyCaprani, #rapecult...</td>\n",
       "      <td>[@Salon, @nprfreshair, #Halloween., @MelissaJa...</td>\n",
       "      <td>[@Salon, #Halloween., @KellyannePolls, @TrumpD...</td>\n",
       "    </tr>\n",
       "    <tr>\n",
       "      <th>...</th>\n",
       "      <td>...</td>\n",
       "      <td>...</td>\n",
       "      <td>...</td>\n",
       "      <td>...</td>\n",
       "      <td>...</td>\n",
       "      <td>...</td>\n",
       "    </tr>\n",
       "    <tr>\n",
       "      <th>2248</th>\n",
       "      <td>1932827204</td>\n",
       "      <td>0</td>\n",
       "      <td>Anyone voting for @HillaryClinton should be as...</td>\n",
       "      <td>[@HillaryClinton, #Corrupt, #VoterFraud, #Elec...</td>\n",
       "      <td>[@BernieSanders, #MuslimBrotherhood, #ISIS, #W...</td>\n",
       "      <td>[@BernieSanders, #ISIS, #WikiLeaks, @SandraTXA...</td>\n",
       "    </tr>\n",
       "    <tr>\n",
       "      <th>2249</th>\n",
       "      <td>23479954</td>\n",
       "      <td>0</td>\n",
       "      <td>God Bless #DougSchoen for withdrawing his supp...</td>\n",
       "      <td>[#DougSchoen, #Clinton.This, @realalexjones@Pa...</td>\n",
       "      <td>[@tony_sanky, @_BigBen7?He, #Hillary?WOW!Not, ...</td>\n",
       "      <td>[#Hillary4Prison, @regated, @Seahawks, @JudgeJ...</td>\n",
       "    </tr>\n",
       "    <tr>\n",
       "      <th>2250</th>\n",
       "      <td>24414732</td>\n",
       "      <td>0</td>\n",
       "      <td>Congressional leAders should decided to impeac...</td>\n",
       "      <td>[@LightUpTheU, @espn960sports, @samsteinhp, @b...</td>\n",
       "      <td>[#LymeWarrior, @Oasis, #uwvsutah@ResilientEart...</td>\n",
       "      <td>[@HotlineJosh, @JonahNRO, #win, @WSJ, @MittRom...</td>\n",
       "    </tr>\n",
       "    <tr>\n",
       "      <th>2251</th>\n",
       "      <td>2321185111</td>\n",
       "      <td>0</td>\n",
       "      <td>After Hitting a 51-Year Low, the Homeownership...</td>\n",
       "      <td>[#WMB, #Stocks, #Trading, #WallStreetBest/wors...</td>\n",
       "      <td>[#TrumpIBM:, #IPO, #cranberry, #TrainsXerox, #...</td>\n",
       "      <td>[#Ukraine, #Hillary2016, #CNN, #TV, #Clinton, ...</td>\n",
       "    </tr>\n",
       "    <tr>\n",
       "      <th>2252</th>\n",
       "      <td>145383915</td>\n",
       "      <td>0</td>\n",
       "      <td>DOJ you mean loretta lynch!!  She is crooked a...</td>\n",
       "      <td>[@realDonaldTrump, @ColleenNBC4, #LockHerUp, #...</td>\n",
       "      <td>[@megynkelly, @DBloom451, @EricTrumpYou, #Lock...</td>\n",
       "      <td>[@megynkelly, @ericbolling, #TrumpPence16, @Ke...</td>\n",
       "    </tr>\n",
       "    <tr>\n",
       "      <th>2253</th>\n",
       "      <td>203963862</td>\n",
       "      <td>0</td>\n",
       "      <td>@RobbyMook what happened to all ya tweets are ...</td>\n",
       "      <td>[@RobbyMook, @FBI, @billclinton, @HillaryClint...</td>\n",
       "      <td>[#MAGAwhere, #IMPEACH, #monsatan, #vote, #drai...</td>\n",
       "      <td>[#vote, @MichelleObama, #usa, #corrupt, #trump...</td>\n",
       "    </tr>\n",
       "    <tr>\n",
       "      <th>2254</th>\n",
       "      <td>2383991174</td>\n",
       "      <td>1</td>\n",
       "      <td>Melania got marriage green card 4 years before...</td>\n",
       "      <td>[@msnbcTrump's, @WE_PAW_Bloggers, #UMC, @voxdo...</td>\n",
       "      <td>[#horror, #BridgetJones, #nativeamerican, @Reu...</td>\n",
       "      <td>[#horror, @politicususa, #, @YouTube, #Vote, @...</td>\n",
       "    </tr>\n",
       "    <tr>\n",
       "      <th>2255</th>\n",
       "      <td>147256850</td>\n",
       "      <td>1</td>\n",
       "      <td>Ticker (1/2) https://t.co/WxuQWi0Ij0Surgical s...</td>\n",
       "      <td>[@ShkhRasheed, @CAChinaTrade:, @JerryBrownGov,...</td>\n",
       "      <td>[#dtmag, @CllrTimBeau, #ferguson, @meatytrumps...</td>\n",
       "      <td>[#WikiLeaks, @dcexaminer, #Hillary, #NRA, #Com...</td>\n",
       "    </tr>\n",
       "    <tr>\n",
       "      <th>2256</th>\n",
       "      <td>14716103</td>\n",
       "      <td>1</td>\n",
       "      <td>started hyperventilating when i got the tour a...</td>\n",
       "      <td>[@VitruvianMonkey:, #Election2016MovieQuoteswe...</td>\n",
       "      <td>[@blackmirror, #trump2016, @chesterton2015:, #...</td>\n",
       "      <td>[@blackmirror, #trump2016, #change, #WikiLeaks...</td>\n",
       "    </tr>\n",
       "    <tr>\n",
       "      <th>2257</th>\n",
       "      <td>2233874224</td>\n",
       "      <td>0</td>\n",
       "      <td>@nevergiveup2004  obama's home town@Trey144472...</td>\n",
       "      <td>[@nevergiveup2004, @thehill, @truth_told_now, ...</td>\n",
       "      <td>[@truth_told_now, @megynkelly, @RealVinnieJame...</td>\n",
       "      <td>[@megynkelly, @Cernovich, @latimes, @FoxBusine...</td>\n",
       "    </tr>\n",
       "    <tr>\n",
       "      <th>2258</th>\n",
       "      <td>22897055</td>\n",
       "      <td>1</td>\n",
       "      <td>@paulkrugman @wendydavis Even false shit can b...</td>\n",
       "      <td>[@paulkrugman, @wendydavis, @NormOrnstein, @CN...</td>\n",
       "      <td>[@TomCottonAR, @KimGuadagnoNJ, @GregGutfeldSho...</td>\n",
       "      <td>[@TomCottonAR, @wolfblitzer, @DebraMessing, @C...</td>\n",
       "    </tr>\n",
       "    <tr>\n",
       "      <th>2259</th>\n",
       "      <td>128380445</td>\n",
       "      <td>0</td>\n",
       "      <td>You have to have such a strong belief in yours...</td>\n",
       "      <td>[@tommychong:, @JosephRemiB, @laura_lrnzo, @Fr...</td>\n",
       "      <td>[#politics, @YouTube, #2ADefenders, @JenGranho...</td>\n",
       "      <td>[#politics, @YouTube, @JenGranholm, #FL, #AZ, ...</td>\n",
       "    </tr>\n",
       "    <tr>\n",
       "      <th>2260</th>\n",
       "      <td>100507230</td>\n",
       "      <td>0</td>\n",
       "      <td>@GStephanopoulos 30 years of service didn't kn...</td>\n",
       "      <td>[@GStephanopoulos, @Flewbys, @billmaher, #Neve...</td>\n",
       "      <td>[@YouTube, @FullMeasureNews, #suckers@SpecialK...</td>\n",
       "      <td>[@YouTube, #MakeAmericaGreatAgain, @SpeakerRya...</td>\n",
       "    </tr>\n",
       "    <tr>\n",
       "      <th>2261</th>\n",
       "      <td>20877721</td>\n",
       "      <td>0</td>\n",
       "      <td>@BretBaier You're fair Bret. Megyn, on the oth...</td>\n",
       "      <td>[@BretBaier, @oldusarmyvet, #tcot, #Hillarylie...</td>\n",
       "      <td>[@samanthamacrob, @FoxBusiness, #WeinerGate2Je...</td>\n",
       "      <td>[@FoxBusiness, @KellyannePolls, @newtgingrich,...</td>\n",
       "    </tr>\n",
       "    <tr>\n",
       "      <th>2262</th>\n",
       "      <td>2362907114</td>\n",
       "      <td>1</td>\n",
       "      <td>@FoxNews @realDonaldTrump @HillaryClinton Seri...</td>\n",
       "      <td>[@FoxNews, @realDonaldTrump, @HillaryClinton, ...</td>\n",
       "      <td>[@ClintonFdn, @foxnewspolitics, @CBSThisMornin...</td>\n",
       "      <td>[@ClintonFdn, @foxnewspolitics, @CBSThisMornin...</td>\n",
       "    </tr>\n",
       "    <tr>\n",
       "      <th>2263</th>\n",
       "      <td>20932641</td>\n",
       "      <td>0</td>\n",
       "      <td>@FoxNews @FoxBusiness a complete disaster like...</td>\n",
       "      <td>[@FoxNews, @FoxBusiness, @JudgeJeanine, @FoxNe...</td>\n",
       "      <td>[@FoxBusiness, @AnonymousPress, @observer, @Ch...</td>\n",
       "      <td>[@FoxBusiness, @observer, @ChrisCuomo, @JoyAnn...</td>\n",
       "    </tr>\n",
       "    <tr>\n",
       "      <th>2264</th>\n",
       "      <td>19924013</td>\n",
       "      <td>0</td>\n",
       "      <td>I added a video to a @YouTube playlist https:/...</td>\n",
       "      <td>[@YouTube, @YouTubeI, @YouTube, @YouTubeI, @Yo...</td>\n",
       "      <td>[@DannySouthy, @allahpundit:, #Hillaryforpriso...</td>\n",
       "      <td>[@Yankees, #Assad, #Russia, #FBIReopensCase, @...</td>\n",
       "    </tr>\n",
       "    <tr>\n",
       "      <th>2265</th>\n",
       "      <td>23527854</td>\n",
       "      <td>1</td>\n",
       "      <td>After Gingrich &amp; Livingston resigned handling ...</td>\n",
       "      <td>[@kannlinigar, @CNN, @MSNBC, @NPR, @HuffPostCo...</td>\n",
       "      <td>[@AllyBolour, @YouTube, @josiebaik, @cockdiver...</td>\n",
       "      <td>[@YouTube, @observer, @ChrisCuomo, @jasoninthe...</td>\n",
       "    </tr>\n",
       "    <tr>\n",
       "      <th>2266</th>\n",
       "      <td>114885715</td>\n",
       "      <td>0</td>\n",
       "      <td>Globalist like Clinton - Obama pushed #GlobalW...</td>\n",
       "      <td>[#GlobalWarming, @realalexjones@OskeimSports, ...</td>\n",
       "      <td>[@megynkelly, @YouTube, @periscopeco, #Trump!,...</td>\n",
       "      <td>[@megynkelly, @YouTube, @periscopeco, #Trump!,...</td>\n",
       "    </tr>\n",
       "    <tr>\n",
       "      <th>2267</th>\n",
       "      <td>22429865</td>\n",
       "      <td>0</td>\n",
       "      <td>OH WOW, I 4GOT ABOUT THE LYNCH MOBSTER,SO SWEE...</td>\n",
       "      <td>[@CNNSitRoom, @seanhannity, @LouDobbs, @Tallah...</td>\n",
       "      <td>[@Joan_senesh, @megynkelly, @HumaAbedin, @Bike...</td>\n",
       "      <td>[@megynkelly, @HumaAbedin, @Bikers4Trump, @Dar...</td>\n",
       "    </tr>\n",
       "    <tr>\n",
       "      <th>2268</th>\n",
       "      <td>2444716760</td>\n",
       "      <td>1</td>\n",
       "      <td>Where is @POTUS @BarackObama ?  #NoDAPL https:...</td>\n",
       "      <td>[@POTUS, @BarackObama, #NoDAPL, @POTUS, #StopD...</td>\n",
       "      <td>[@POTUSPressPool, #NoDAPL@JeffersonObama, @SEI...</td>\n",
       "      <td>[@NBCNews, #fracking, @POTUS, @TammyforIL, #st...</td>\n",
       "    </tr>\n",
       "    <tr>\n",
       "      <th>2269</th>\n",
       "      <td>20267436</td>\n",
       "      <td>0</td>\n",
       "      <td>@HillaryClinton #FeelTheBern #BernItDown @Bern...</td>\n",
       "      <td>[@HillaryClinton, #FeelTheBern, #BernItDown, @...</td>\n",
       "      <td>[@POTUS@TheAdamReeder, @BernieSanders, @GovGar...</td>\n",
       "      <td>[@BernieSanders, #AZ, #Hillary, @BreitbartNews...</td>\n",
       "    </tr>\n",
       "    <tr>\n",
       "      <th>2270</th>\n",
       "      <td>2260694347</td>\n",
       "      <td>0</td>\n",
       "      <td>@TeaPartyOrg You lied and arranged underhanded...</td>\n",
       "      <td>[@TeaPartyOrg, @AllenWestRepubBOOM!, @AllenWes...</td>\n",
       "      <td>[@TMZ, @AOL@MountTzion, @skjultster, #JudgeMor...</td>\n",
       "      <td>[@TMZ, @Patriotic_Folks, @newtgingrich, @ABC, ...</td>\n",
       "    </tr>\n",
       "    <tr>\n",
       "      <th>2271</th>\n",
       "      <td>1010182364</td>\n",
       "      <td>0</td>\n",
       "      <td>What \"notorious lies\"...US media? BBC+RT=! Wik...</td>\n",
       "      <td>[@sinnfeinireland, #Cancer, #Sport, #Cycling, ...</td>\n",
       "      <td>[#AI, #FBI., #Patients, @ronfair43, #Eucharist...</td>\n",
       "      <td>[#AI, #FBI., #POTUS, #NRA, #Aleppo, #Ireland, ...</td>\n",
       "    </tr>\n",
       "    <tr>\n",
       "      <th>2272</th>\n",
       "      <td>1414004473</td>\n",
       "      <td>0</td>\n",
       "      <td>@nick3573 even our canadian liberal press is  ...</td>\n",
       "      <td>[@nick3573, @steveschale, @CNNSitRoom, @CNN, @...</td>\n",
       "      <td>[@megynkelly, @YouTube, @ddale8, @MotherJones,...</td>\n",
       "      <td>[@megynkelly, @YouTube, @ddale8, @MotherJones,...</td>\n",
       "    </tr>\n",
       "    <tr>\n",
       "      <th>2273</th>\n",
       "      <td>2149221140</td>\n",
       "      <td>0</td>\n",
       "      <td>@TR84Day Well, if #NancyPelosi didn't find out...</td>\n",
       "      <td>[@TR84Day, #NancyPelosi, #ACA, #voters, #Hilla...</td>\n",
       "      <td>[#lyingHillary., #SCOTUS, #Comey's, #FBI., #Wi...</td>\n",
       "      <td>[#SCOTUS, #Comey's, #FBI., #WikiLeaks, #POTUS,...</td>\n",
       "    </tr>\n",
       "    <tr>\n",
       "      <th>2274</th>\n",
       "      <td>15236697</td>\n",
       "      <td>1</td>\n",
       "      <td>@ladiesgun @CourtofLawbleed @MarkKirk WHAT ABO...</td>\n",
       "      <td>[@ladiesgun, @CourtofLawbleed, @MarkKirk, @She...</td>\n",
       "      <td>[@YouTube, @c0nvey, @BernieSanders, @IBDeb2, @...</td>\n",
       "      <td>[@YouTube, @c0nvey, @BernieSanders, @DHSgov, @...</td>\n",
       "    </tr>\n",
       "    <tr>\n",
       "      <th>2275</th>\n",
       "      <td>2174588080</td>\n",
       "      <td>0</td>\n",
       "      <td>@Kaladious @StopStopHillary @woodseysmith @rea...</td>\n",
       "      <td>[@Kaladious, @StopStopHillary, @woodseysmith, ...</td>\n",
       "      <td>[@megynkelly, @YouTube, @BeladonnaRogers, @Sto...</td>\n",
       "      <td>[@megynkelly, @YouTube, @BeladonnaRogers, @Sto...</td>\n",
       "    </tr>\n",
       "    <tr>\n",
       "      <th>2276</th>\n",
       "      <td>23061645</td>\n",
       "      <td>1</td>\n",
       "      <td>Former Attorney General Kathleen Kane was sent...</td>\n",
       "      <td>[#NJ, @thenighttim3:, @patriot_first, @ChrisCu...</td>\n",
       "      <td>[#PurdueGraduate, @Jami_USA, @ChrisCuomo, @ari...</td>\n",
       "      <td>[@ChrisCuomo, @JackPosobiec, #TrumpStrong, #, ...</td>\n",
       "    </tr>\n",
       "    <tr>\n",
       "      <th>2277</th>\n",
       "      <td>17056433</td>\n",
       "      <td>1</td>\n",
       "      <td>All I can do is hang my head--#ClarenceThomas ...</td>\n",
       "      <td>[#SaturdayCoffee, @facebook, @periscopeco, @Co...</td>\n",
       "      <td>[#powerdownpowerdownDirector, @ePluribus1book,...</td>\n",
       "      <td>[#Emails, @DebraMessing, #POTUS, @KellyannePol...</td>\n",
       "    </tr>\n",
       "  </tbody>\n",
       "</table>\n",
       "<p>2278 rows × 6 columns</p>\n",
       "</div>"
      ],
      "text/plain": [
       "          UserID  Class                                               Text  \\\n",
       "0      198576972      0  Sorry HRC no combatant story about @realDonald...   \n",
       "1      161838877      1  @PolticsNewz my money is all on @JoeBiden ...a...   \n",
       "2       17083396      1  To Have and to Hold: Married to the Internet o...   \n",
       "3     1513788572      1  @gradearadio @JohnFugelsang Who's the Chinese ...   \n",
       "4     2450904662      1  I'M ALL IN Join Me HILL-YES #MadamePresidentTo...   \n",
       "5      137474474      0  @FrankLuntz do we know who the no party affili...   \n",
       "6      234253334      1  @JudyWoodruff I would suggest the @FBI get the...   \n",
       "7       23876941      1  @PoppyHarlowCNN You should not allow Trump lie...   \n",
       "8       19610536      0  @clarencehilljr leave on sidelinesTimeline of ...   \n",
       "9       15447275      1  @JackieK22379000 @kurteichenwald @JoyAnnReid @...   \n",
       "10    2296175906      0  @ComfortablySmug @MarcACaputo Enough to buy ev...   \n",
       "11     242957227      0  @Daggy1 is that what they are calling Banks th...   \n",
       "12      16224698      1  @jkempcpa @thedailybeast @FoxNews maybe, I hop...   \n",
       "13     166783145      1  @armandodkos @JoyAnnReid @AmandiOnAir @stevesc...   \n",
       "14    1111104085      0  @realDonaldTrump FOR LOVE OF GOD FAMILY AND CO...   \n",
       "15      24833245      1  If U change Ur vote BC of this, U were going t...   \n",
       "16     106548067      0  Trump Attorney: Donald Has a Gift for Homeless...   \n",
       "17     115567809      0  @peddoc63 Clinton as \"less evil.\"  With \"demen...   \n",
       "18    1932049562      0  @BrookeBCNN @CNN Brooke dear u n ur colleagues...   \n",
       "19     162285844      1  @realDonaldTrump when is your trial date for f...   \n",
       "20      23817988      1  @BellaLibelle @StopNuclearWar you want the tru...   \n",
       "21      14966418      0  I rant and go on tangents, but I also spread l...   \n",
       "22      15666850      0  52 Ways to Make the Most of Your #ContentMarke...   \n",
       "23     114533091      0  Difficult to measure its impact, but everyone ...   \n",
       "24    2185553479      0  @I_AmAmerica Amen@jerome_corsi will #@merica e...   \n",
       "25      14802013      1  #Trump points to 'vote flipping' in Texas http...   \n",
       "26      23928356      0  Rev. Graham is right on point! https://t.co/vx...   \n",
       "27      14820509      1  S**t Joe Walsh Says https://t.co/uShzPrmDdPNic...   \n",
       "28     111387549      0  @brianstelter @CNNMoney reminder, Time Warner ...   \n",
       "29     194663746      0  @Gundqr2 that's insane! I can't believe it!@Un...   \n",
       "...          ...    ...                                                ...   \n",
       "2248  1932827204      0  Anyone voting for @HillaryClinton should be as...   \n",
       "2249    23479954      0  God Bless #DougSchoen for withdrawing his supp...   \n",
       "2250    24414732      0  Congressional leAders should decided to impeac...   \n",
       "2251  2321185111      0  After Hitting a 51-Year Low, the Homeownership...   \n",
       "2252   145383915      0  DOJ you mean loretta lynch!!  She is crooked a...   \n",
       "2253   203963862      0  @RobbyMook what happened to all ya tweets are ...   \n",
       "2254  2383991174      1  Melania got marriage green card 4 years before...   \n",
       "2255   147256850      1  Ticker (1/2) https://t.co/WxuQWi0Ij0Surgical s...   \n",
       "2256    14716103      1  started hyperventilating when i got the tour a...   \n",
       "2257  2233874224      0  @nevergiveup2004  obama's home town@Trey144472...   \n",
       "2258    22897055      1  @paulkrugman @wendydavis Even false shit can b...   \n",
       "2259   128380445      0  You have to have such a strong belief in yours...   \n",
       "2260   100507230      0  @GStephanopoulos 30 years of service didn't kn...   \n",
       "2261    20877721      0  @BretBaier You're fair Bret. Megyn, on the oth...   \n",
       "2262  2362907114      1  @FoxNews @realDonaldTrump @HillaryClinton Seri...   \n",
       "2263    20932641      0  @FoxNews @FoxBusiness a complete disaster like...   \n",
       "2264    19924013      0  I added a video to a @YouTube playlist https:/...   \n",
       "2265    23527854      1  After Gingrich & Livingston resigned handling ...   \n",
       "2266   114885715      0  Globalist like Clinton - Obama pushed #GlobalW...   \n",
       "2267    22429865      0  OH WOW, I 4GOT ABOUT THE LYNCH MOBSTER,SO SWEE...   \n",
       "2268  2444716760      1  Where is @POTUS @BarackObama ?  #NoDAPL https:...   \n",
       "2269    20267436      0  @HillaryClinton #FeelTheBern #BernItDown @Bern...   \n",
       "2270  2260694347      0  @TeaPartyOrg You lied and arranged underhanded...   \n",
       "2271  1010182364      0  What \"notorious lies\"...US media? BBC+RT=! Wik...   \n",
       "2272  1414004473      0  @nick3573 even our canadian liberal press is  ...   \n",
       "2273  2149221140      0  @TR84Day Well, if #NancyPelosi didn't find out...   \n",
       "2274    15236697      1  @ladiesgun @CourtofLawbleed @MarkKirk WHAT ABO...   \n",
       "2275  2174588080      0  @Kaladious @StopStopHillary @woodseysmith @rea...   \n",
       "2276    23061645      1  Former Attorney General Kathleen Kane was sent...   \n",
       "2277    17056433      1  All I can do is hang my head--#ClarenceThomas ...   \n",
       "\n",
       "                                         HashtagHandles  \\\n",
       "0     [@realDonaldTrump, #TooBadSoSad@CoulterWatch, ...   \n",
       "1     [@PolticsNewz, @JoeBiden, @realDonaldTrump, #P...   \n",
       "2     [@danielnewmanUVTY, @jardine_info, #PeopleSkil...   \n",
       "3     [@gradearadio, @JohnFugelsang, @VA4Hillary1, @...   \n",
       "4     [#MadamePresidentToBe, #ImWithHer, @Jeff_Jacob...   \n",
       "5     [@FrankLuntz, @HillaryClinton, @realDonaldTrum...   \n",
       "6     [@JudyWoodruff, @FBI, #Sharknado4@TheFreshBrew...   \n",
       "7     [@PoppyHarlowCNN, @hughhewitt, @MSNBC!, @rtrai...   \n",
       "8     [@clarencehilljr, @facebook, #PresidentialElec...   \n",
       "9     [@JackieK22379000, @kurteichenwald, @JoyAnnRei...   \n",
       "10    [@ComfortablySmug, @MarcACaputo, @alivitali, @...   \n",
       "11    [@Daggy1, #FirstEnvironment@DaGodfather907, @s...   \n",
       "12    [@jkempcpa, @thedailybeast, @FoxNews, @ndiblas...   \n",
       "13    [@armandodkos, @JoyAnnReid, @AmandiOnAir, @ste...   \n",
       "14    [@realDonaldTrump, #HILLARYFORPRISON@realDonal...   \n",
       "15    [#ClintonEmails, #HillaryEmails@moody, #OxyMor...   \n",
       "16    [@bbdoll11, #DrainTheSwamp, #WomenforTrump@mag...   \n",
       "17    [@peddoc63, @EWErickson, @TomiLahren, @slone, ...   \n",
       "18    [@BrookeBCNN, @CNN, @JeffDenham, @FoxNews, @ma...   \n",
       "19    [@realDonaldTrump, @realDonaldTrump?, @TheFix,...   \n",
       "20    [@BellaLibelle, @StopNuclearWar, @godless_mom,...   \n",
       "21    [@fbhw, @PooPourri, @squattypotty@CassandraRul...   \n",
       "22    [#ContentMarketing,, @BrightInfoBuzz, #smallbu...   \n",
       "23    [#Other, #insightopinionWhere, #insightopinion...   \n",
       "24    [@I_AmAmerica, #@merica, #DrainTheSwamp@RealDJ...   \n",
       "25    [#Trump, @TheJusticeDeptBut, #Comey, #COWARD, ...   \n",
       "26    [#Trump, #Trump, @megynkelly, @MichaelTetrick:...   \n",
       "27    [@bobj72, @ChrisJansing, #ALEC, @MSNBC, @FBI, ...   \n",
       "28    [@brianstelter, @CNNMoney, @ChuckTod_Goatee, @...   \n",
       "29    [@Gundqr2, @UNICEF_uk, @LilyCaprani, #rapecult...   \n",
       "...                                                 ...   \n",
       "2248  [@HillaryClinton, #Corrupt, #VoterFraud, #Elec...   \n",
       "2249  [#DougSchoen, #Clinton.This, @realalexjones@Pa...   \n",
       "2250  [@LightUpTheU, @espn960sports, @samsteinhp, @b...   \n",
       "2251  [#WMB, #Stocks, #Trading, #WallStreetBest/wors...   \n",
       "2252  [@realDonaldTrump, @ColleenNBC4, #LockHerUp, #...   \n",
       "2253  [@RobbyMook, @FBI, @billclinton, @HillaryClint...   \n",
       "2254  [@msnbcTrump's, @WE_PAW_Bloggers, #UMC, @voxdo...   \n",
       "2255  [@ShkhRasheed, @CAChinaTrade:, @JerryBrownGov,...   \n",
       "2256  [@VitruvianMonkey:, #Election2016MovieQuoteswe...   \n",
       "2257  [@nevergiveup2004, @thehill, @truth_told_now, ...   \n",
       "2258  [@paulkrugman, @wendydavis, @NormOrnstein, @CN...   \n",
       "2259  [@tommychong:, @JosephRemiB, @laura_lrnzo, @Fr...   \n",
       "2260  [@GStephanopoulos, @Flewbys, @billmaher, #Neve...   \n",
       "2261  [@BretBaier, @oldusarmyvet, #tcot, #Hillarylie...   \n",
       "2262  [@FoxNews, @realDonaldTrump, @HillaryClinton, ...   \n",
       "2263  [@FoxNews, @FoxBusiness, @JudgeJeanine, @FoxNe...   \n",
       "2264  [@YouTube, @YouTubeI, @YouTube, @YouTubeI, @Yo...   \n",
       "2265  [@kannlinigar, @CNN, @MSNBC, @NPR, @HuffPostCo...   \n",
       "2266  [#GlobalWarming, @realalexjones@OskeimSports, ...   \n",
       "2267  [@CNNSitRoom, @seanhannity, @LouDobbs, @Tallah...   \n",
       "2268  [@POTUS, @BarackObama, #NoDAPL, @POTUS, #StopD...   \n",
       "2269  [@HillaryClinton, #FeelTheBern, #BernItDown, @...   \n",
       "2270  [@TeaPartyOrg, @AllenWestRepubBOOM!, @AllenWes...   \n",
       "2271  [@sinnfeinireland, #Cancer, #Sport, #Cycling, ...   \n",
       "2272  [@nick3573, @steveschale, @CNNSitRoom, @CNN, @...   \n",
       "2273  [@TR84Day, #NancyPelosi, #ACA, #voters, #Hilla...   \n",
       "2274  [@ladiesgun, @CourtofLawbleed, @MarkKirk, @She...   \n",
       "2275  [@Kaladious, @StopStopHillary, @woodseysmith, ...   \n",
       "2276  [#NJ, @thenighttim3:, @patriot_first, @ChrisCu...   \n",
       "2277  [#SaturdayCoffee, @facebook, @periscopeco, @Co...   \n",
       "\n",
       "                                 DistinctHashtagHandles  \\\n",
       "0     [@megynkelly, #oh, @Varneyco, @latimes, @FoxBu...   \n",
       "1     [#grabyourwallet@ddale8, @TrumpDefeat, @T_Alan...   \n",
       "2     [@eleesha, #peopleskillsResearch:, #peopleskil...   \n",
       "3     [@FraukeDE, @SarahLerner, @Karoli, @JoyAnnReid...   \n",
       "4     [#FirstLadiesrocktheworld, @colinjones, @Senat...   \n",
       "5     [@FrankLuntz, @YouTube, @megynkelly, @brithume...   \n",
       "6     [@geoff9cow, @megynkelly, @m4mfer, #Sharknado4...   \n",
       "7     [@mmfa, @ddale8, @SopanDeb, @Newsweek, @kylegr...   \n",
       "8     [@q13sportsphotog, #terrorist, #Anthem, #midge...   \n",
       "9     [@ddale8, @wolfblitzer, @cmenchaca, @ChrisCuom...   \n",
       "10    [@megynkelly, @dandrezner, @ByronTau, @SoundCl...   \n",
       "11    [@pescami, #FilterForMyKids., @SAI, #LowCarb@B...   \n",
       "12    [@lagunitasbeer, #AZvsCAR@ChetanyaHaggard, @La...   \n",
       "13    [@djrothkopf, @YouTube, #fail@pourmecoffee, @o...   \n",
       "14    [@megynkelly, @YouTube, @RSBNetwork, #HILLARYF...   \n",
       "15    [#ObamacareInThreeWords@Baseless22, @JoyAnnRei...   \n",
       "16    [#DrainTheSwamp@shawtampabay, @Newsweek, #Obam...   \n",
       "17    [@Kasparov63, @ddale8, @AG_Conservative, @lnwi...   \n",
       "18    [@megynkelly, @jimenezmarlon72, @AC360, @gatew...   \n",
       "19    [#Unpresidential, #UNFIT, @melaniatrump, @SNFo...   \n",
       "20    [@Robinsky40, @99JMS, #NEOCON, #Walmart,.R, @K...   \n",
       "21    [@MetamucilApparently, @Drake, @TravisMayfield...   \n",
       "22    [#entrepreneur',, #Entrepreneur, #SmasllBusine...   \n",
       "23    [@Salon, #Refugees, #jainismSri, #hinduism#Diw...   \n",
       "24    [@ByeByeObama1, #FL, #OBAMA, #AZ, #DumpTheSwam...   \n",
       "25    [#irresponsible, #VOTE!, #WTH???Low, #educatio...   \n",
       "26    [@c2cod, @DCExaminer, #JAXvsTEN, @sherry4201, ...   \n",
       "27    [@SopanDeb, @Newsweek, @DebraMessing, @dailyne...   \n",
       "28    [@wolfblitzer, #Boycott, @ericbolling, @Airbnb...   \n",
       "29    [@Salon, @nprfreshair, #Halloween., @MelissaJa...   \n",
       "...                                                 ...   \n",
       "2248  [@BernieSanders, #MuslimBrotherhood, #ISIS, #W...   \n",
       "2249  [@tony_sanky, @_BigBen7?He, #Hillary?WOW!Not, ...   \n",
       "2250  [#LymeWarrior, @Oasis, #uwvsutah@ResilientEart...   \n",
       "2251  [#TrumpIBM:, #IPO, #cranberry, #TrainsXerox, #...   \n",
       "2252  [@megynkelly, @DBloom451, @EricTrumpYou, #Lock...   \n",
       "2253  [#MAGAwhere, #IMPEACH, #monsatan, #vote, #drai...   \n",
       "2254  [#horror, #BridgetJones, #nativeamerican, @Reu...   \n",
       "2255  [#dtmag, @CllrTimBeau, #ferguson, @meatytrumps...   \n",
       "2256  [@blackmirror, #trump2016, @chesterton2015:, #...   \n",
       "2257  [@truth_told_now, @megynkelly, @RealVinnieJame...   \n",
       "2258  [@TomCottonAR, @KimGuadagnoNJ, @GregGutfeldSho...   \n",
       "2259  [#politics, @YouTube, #2ADefenders, @JenGranho...   \n",
       "2260  [@YouTube, @FullMeasureNews, #suckers@SpecialK...   \n",
       "2261  [@samanthamacrob, @FoxBusiness, #WeinerGate2Je...   \n",
       "2262  [@ClintonFdn, @foxnewspolitics, @CBSThisMornin...   \n",
       "2263  [@FoxBusiness, @AnonymousPress, @observer, @Ch...   \n",
       "2264  [@DannySouthy, @allahpundit:, #Hillaryforpriso...   \n",
       "2265  [@AllyBolour, @YouTube, @josiebaik, @cockdiver...   \n",
       "2266  [@megynkelly, @YouTube, @periscopeco, #Trump!,...   \n",
       "2267  [@Joan_senesh, @megynkelly, @HumaAbedin, @Bike...   \n",
       "2268  [@POTUSPressPool, #NoDAPL@JeffersonObama, @SEI...   \n",
       "2269  [@POTUS@TheAdamReeder, @BernieSanders, @GovGar...   \n",
       "2270  [@TMZ, @AOL@MountTzion, @skjultster, #JudgeMor...   \n",
       "2271  [#AI, #FBI., #Patients, @ronfair43, #Eucharist...   \n",
       "2272  [@megynkelly, @YouTube, @ddale8, @MotherJones,...   \n",
       "2273  [#lyingHillary., #SCOTUS, #Comey's, #FBI., #Wi...   \n",
       "2274  [@YouTube, @c0nvey, @BernieSanders, @IBDeb2, @...   \n",
       "2275  [@megynkelly, @YouTube, @BeladonnaRogers, @Sto...   \n",
       "2276  [#PurdueGraduate, @Jami_USA, @ChrisCuomo, @ari...   \n",
       "2277  [#powerdownpowerdownDirector, @ePluribus1book,...   \n",
       "\n",
       "                                  PopularHashtagHandles  \n",
       "0     [@megynkelly, @Varneyco, @latimes, @FoxBusines...  \n",
       "1     [@Karoli, @JoyAnnReid, @mitchellreports, @Hard...  \n",
       "2     [#change, #entrepreneur, #, #life, #Racism, #q...  \n",
       "3     [@Karoli, @JoyAnnReid, @JeffersonObama, @NBCNe...  \n",
       "4     [@SenatorReid, @DebraMessing, @JoyAnnReid, @do...  \n",
       "5     [@FrankLuntz, @YouTube, @megynkelly, @brithume...  \n",
       "6     [@megynkelly, @brithume, @CurtisHouck, @wolfbl...  \n",
       "7     [@mmfa, @ddale8, @SopanDeb, @Newsweek, @kylegr...  \n",
       "8     [#Hillary's, #PresidentialElection, @piersmorg...  \n",
       "9     [@ddale8, @wolfblitzer, @ChrisCuomo, @JoyAnnRe...  \n",
       "10    [@megynkelly, @SoundCloud, @ZekeJMiller, @Rand...  \n",
       "11    [@benshapiro, @wolfblitzer, @ErikWemple, @MLB,...  \n",
       "12    [#Senate, #Trump, #Oregon, #Hillary, @NBA, #ru...  \n",
       "13    [@YouTube, @owillis, @SopanDeb, @SenatorReid, ...  \n",
       "14    [@megynkelly, @YouTube, @RSBNetwork, @periscop...  \n",
       "15    [@JoyAnnReid, @CapehartJ, @HardballChris, @Kel...  \n",
       "16    [@Newsweek, #POTUS, @SandraTXAS, @DonaldJTrump...  \n",
       "17    [@ddale8, @RedState, @JuddLegum, @slone, @vine...  \n",
       "18    [@megynkelly, @AC360, @gatewaypundit, @BillHem...  \n",
       "19    [@SNFonNBC, @wolfblitzer, @JuddLegum, @cnn, @r...  \n",
       "20    [@KellyannePolls, @NBCNews, @SariHorwitz, @Mor...  \n",
       "21    [@Drake, #PresidentialElection, #fall, #spooky...  \n",
       "22    [#Entrepreneur, #sponsored, #Inspiration, #Ent...  \n",
       "23    [@Salon, #terrorism, #CNN, #humanrights, #Medi...  \n",
       "24    [#FL, #OBAMA, #AZ, @NBCNews, #SDLive, #CA, @Ju...  \n",
       "25    [#SCOTUS, #Comey's, #vote, @mitchellreports, #...  \n",
       "26    [@DCExaminer, #Startup, @kharyp, @woodhouseb, ...  \n",
       "27    [@SopanDeb, @Newsweek, @DebraMessing, @JoyAnnR...  \n",
       "28    [@wolfblitzer, @ericbolling, @Airbnb, @NBCNews...  \n",
       "29    [@Salon, #Halloween., @KellyannePolls, @TrumpD...  \n",
       "...                                                 ...  \n",
       "2248  [@BernieSanders, #ISIS, #WikiLeaks, @SandraTXA...  \n",
       "2249  [#Hillary4Prison, @regated, @Seahawks, @JudgeJ...  \n",
       "2250  [@HotlineJosh, @JonahNRO, #win, @WSJ, @MittRom...  \n",
       "2251  [#Ukraine, #Hillary2016, #CNN, #TV, #Clinton, ...  \n",
       "2252  [@megynkelly, @ericbolling, #TrumpPence16, @Ke...  \n",
       "2253  [#vote, @MichelleObama, #usa, #corrupt, #trump...  \n",
       "2254  [#horror, @politicususa, #, @YouTube, #Vote, @...  \n",
       "2255  [#WikiLeaks, @dcexaminer, #Hillary, #NRA, #Com...  \n",
       "2256  [@blackmirror, #trump2016, #change, #WikiLeaks...  \n",
       "2257  [@megynkelly, @Cernovich, @latimes, @FoxBusine...  \n",
       "2258  [@TomCottonAR, @wolfblitzer, @DebraMessing, @C...  \n",
       "2259  [#politics, @YouTube, @JenGranholm, #FL, #AZ, ...  \n",
       "2260  [@YouTube, #MakeAmericaGreatAgain, @SpeakerRya...  \n",
       "2261  [@FoxBusiness, @KellyannePolls, @newtgingrich,...  \n",
       "2262  [@ClintonFdn, @foxnewspolitics, @CBSThisMornin...  \n",
       "2263  [@FoxBusiness, @observer, @ChrisCuomo, @JoyAnn...  \n",
       "2264  [@Yankees, #Assad, #Russia, #FBIReopensCase, @...  \n",
       "2265  [@YouTube, @observer, @ChrisCuomo, @jasoninthe...  \n",
       "2266  [@megynkelly, @YouTube, @periscopeco, #Trump!,...  \n",
       "2267  [@megynkelly, @HumaAbedin, @Bikers4Trump, @Dar...  \n",
       "2268  [@NBCNews, #fracking, @POTUS, @TammyforIL, #st...  \n",
       "2269  [@BernieSanders, #AZ, #Hillary, @BreitbartNews...  \n",
       "2270  [@TMZ, @Patriotic_Folks, @newtgingrich, @ABC, ...  \n",
       "2271  [#AI, #FBI., #POTUS, #NRA, #Aleppo, #Ireland, ...  \n",
       "2272  [@megynkelly, @YouTube, @ddale8, @MotherJones,...  \n",
       "2273  [#SCOTUS, #Comey's, #FBI., #WikiLeaks, #POTUS,...  \n",
       "2274  [@YouTube, @c0nvey, @BernieSanders, @DHSgov, @...  \n",
       "2275  [@megynkelly, @YouTube, @BeladonnaRogers, @Sto...  \n",
       "2276  [@ChrisCuomo, @JackPosobiec, #TrumpStrong, #, ...  \n",
       "2277  [#Emails, @DebraMessing, #POTUS, @KellyannePol...  \n",
       "\n",
       "[2278 rows x 6 columns]"
      ]
     },
     "execution_count": 53,
     "metadata": {},
     "output_type": "execute_result"
    }
   ],
   "source": [
    "data_merge = pd.merge(data_UserClasses,groupeddf_3,on='UserID')\n",
    "data_merge"
   ]
  },
  {
   "cell_type": "code",
   "execution_count": 54,
   "metadata": {},
   "outputs": [
    {
     "data": {
      "text/plain": [
       "(2278, 6)"
      ]
     },
     "execution_count": 54,
     "metadata": {},
     "output_type": "execute_result"
    }
   ],
   "source": [
    "data_merge.shape\n"
   ]
  },
  {
   "cell_type": "code",
   "execution_count": 55,
   "metadata": {},
   "outputs": [
    {
     "data": {
      "text/html": [
       "<div>\n",
       "<style>\n",
       "    .dataframe thead tr:only-child th {\n",
       "        text-align: right;\n",
       "    }\n",
       "\n",
       "    .dataframe thead th {\n",
       "        text-align: left;\n",
       "    }\n",
       "\n",
       "    .dataframe tbody tr th {\n",
       "        vertical-align: top;\n",
       "    }\n",
       "</style>\n",
       "<table border=\"1\" class=\"dataframe\">\n",
       "  <thead>\n",
       "    <tr style=\"text-align: right;\">\n",
       "      <th></th>\n",
       "      <th>UserID</th>\n",
       "      <th>Class</th>\n",
       "    </tr>\n",
       "  </thead>\n",
       "  <tbody>\n",
       "    <tr>\n",
       "      <th>256</th>\n",
       "      <td>1329901</td>\n",
       "      <td>0</td>\n",
       "    </tr>\n",
       "    <tr>\n",
       "      <th>1022</th>\n",
       "      <td>1366631</td>\n",
       "      <td>0</td>\n",
       "    </tr>\n",
       "    <tr>\n",
       "      <th>2240</th>\n",
       "      <td>1449381</td>\n",
       "      <td>1</td>\n",
       "    </tr>\n",
       "    <tr>\n",
       "      <th>1878</th>\n",
       "      <td>2091441</td>\n",
       "      <td>0</td>\n",
       "    </tr>\n",
       "    <tr>\n",
       "      <th>1663</th>\n",
       "      <td>2234711</td>\n",
       "      <td>0</td>\n",
       "    </tr>\n",
       "    <tr>\n",
       "      <th>999</th>\n",
       "      <td>2284131</td>\n",
       "      <td>0</td>\n",
       "    </tr>\n",
       "    <tr>\n",
       "      <th>1720</th>\n",
       "      <td>2311561</td>\n",
       "      <td>1</td>\n",
       "    </tr>\n",
       "    <tr>\n",
       "      <th>1474</th>\n",
       "      <td>10084232</td>\n",
       "      <td>0</td>\n",
       "    </tr>\n",
       "    <tr>\n",
       "      <th>426</th>\n",
       "      <td>10252572</td>\n",
       "      <td>0</td>\n",
       "    </tr>\n",
       "    <tr>\n",
       "      <th>1981</th>\n",
       "      <td>10323562</td>\n",
       "      <td>0</td>\n",
       "    </tr>\n",
       "    <tr>\n",
       "      <th>439</th>\n",
       "      <td>10398432</td>\n",
       "      <td>0</td>\n",
       "    </tr>\n",
       "    <tr>\n",
       "      <th>1308</th>\n",
       "      <td>11187462</td>\n",
       "      <td>0</td>\n",
       "    </tr>\n",
       "    <tr>\n",
       "      <th>1256</th>\n",
       "      <td>11262452</td>\n",
       "      <td>0</td>\n",
       "    </tr>\n",
       "    <tr>\n",
       "      <th>1705</th>\n",
       "      <td>11775252</td>\n",
       "      <td>0</td>\n",
       "    </tr>\n",
       "    <tr>\n",
       "      <th>1811</th>\n",
       "      <td>12625172</td>\n",
       "      <td>0</td>\n",
       "    </tr>\n",
       "    <tr>\n",
       "      <th>922</th>\n",
       "      <td>12626212</td>\n",
       "      <td>0</td>\n",
       "    </tr>\n",
       "    <tr>\n",
       "      <th>895</th>\n",
       "      <td>12912542</td>\n",
       "      <td>0</td>\n",
       "    </tr>\n",
       "    <tr>\n",
       "      <th>2239</th>\n",
       "      <td>13178042</td>\n",
       "      <td>0</td>\n",
       "    </tr>\n",
       "    <tr>\n",
       "      <th>1887</th>\n",
       "      <td>13424892</td>\n",
       "      <td>0</td>\n",
       "    </tr>\n",
       "    <tr>\n",
       "      <th>1391</th>\n",
       "      <td>13590092</td>\n",
       "      <td>0</td>\n",
       "    </tr>\n",
       "    <tr>\n",
       "      <th>538</th>\n",
       "      <td>13950552</td>\n",
       "      <td>0</td>\n",
       "    </tr>\n",
       "    <tr>\n",
       "      <th>1188</th>\n",
       "      <td>14066645</td>\n",
       "      <td>0</td>\n",
       "    </tr>\n",
       "    <tr>\n",
       "      <th>698</th>\n",
       "      <td>14068330</td>\n",
       "      <td>0</td>\n",
       "    </tr>\n",
       "    <tr>\n",
       "      <th>1444</th>\n",
       "      <td>14181258</td>\n",
       "      <td>0</td>\n",
       "    </tr>\n",
       "    <tr>\n",
       "      <th>1403</th>\n",
       "      <td>14203214</td>\n",
       "      <td>0</td>\n",
       "    </tr>\n",
       "    <tr>\n",
       "      <th>721</th>\n",
       "      <td>14218572</td>\n",
       "      <td>0</td>\n",
       "    </tr>\n",
       "    <tr>\n",
       "      <th>1390</th>\n",
       "      <td>14236952</td>\n",
       "      <td>0</td>\n",
       "    </tr>\n",
       "    <tr>\n",
       "      <th>1331</th>\n",
       "      <td>14258464</td>\n",
       "      <td>0</td>\n",
       "    </tr>\n",
       "    <tr>\n",
       "      <th>2110</th>\n",
       "      <td>14270791</td>\n",
       "      <td>0</td>\n",
       "    </tr>\n",
       "    <tr>\n",
       "      <th>994</th>\n",
       "      <td>14279357</td>\n",
       "      <td>1</td>\n",
       "    </tr>\n",
       "    <tr>\n",
       "      <th>...</th>\n",
       "      <td>...</td>\n",
       "      <td>...</td>\n",
       "    </tr>\n",
       "    <tr>\n",
       "      <th>4</th>\n",
       "      <td>2450904662</td>\n",
       "      <td>1</td>\n",
       "    </tr>\n",
       "    <tr>\n",
       "      <th>1600</th>\n",
       "      <td>2456208713</td>\n",
       "      <td>1</td>\n",
       "    </tr>\n",
       "    <tr>\n",
       "      <th>1866</th>\n",
       "      <td>2457432540</td>\n",
       "      <td>1</td>\n",
       "    </tr>\n",
       "    <tr>\n",
       "      <th>1404</th>\n",
       "      <td>2457530775</td>\n",
       "      <td>1</td>\n",
       "    </tr>\n",
       "    <tr>\n",
       "      <th>525</th>\n",
       "      <td>2459080064</td>\n",
       "      <td>1</td>\n",
       "    </tr>\n",
       "    <tr>\n",
       "      <th>780</th>\n",
       "      <td>2459820090</td>\n",
       "      <td>1</td>\n",
       "    </tr>\n",
       "    <tr>\n",
       "      <th>1892</th>\n",
       "      <td>2460397632</td>\n",
       "      <td>1</td>\n",
       "    </tr>\n",
       "    <tr>\n",
       "      <th>1488</th>\n",
       "      <td>2460416054</td>\n",
       "      <td>1</td>\n",
       "    </tr>\n",
       "    <tr>\n",
       "      <th>350</th>\n",
       "      <td>2461802192</td>\n",
       "      <td>1</td>\n",
       "    </tr>\n",
       "    <tr>\n",
       "      <th>1547</th>\n",
       "      <td>2464727010</td>\n",
       "      <td>1</td>\n",
       "    </tr>\n",
       "    <tr>\n",
       "      <th>1069</th>\n",
       "      <td>2466391962</td>\n",
       "      <td>1</td>\n",
       "    </tr>\n",
       "    <tr>\n",
       "      <th>1625</th>\n",
       "      <td>2466590053</td>\n",
       "      <td>1</td>\n",
       "    </tr>\n",
       "    <tr>\n",
       "      <th>1939</th>\n",
       "      <td>2469584466</td>\n",
       "      <td>1</td>\n",
       "    </tr>\n",
       "    <tr>\n",
       "      <th>2175</th>\n",
       "      <td>2477178937</td>\n",
       "      <td>1</td>\n",
       "    </tr>\n",
       "    <tr>\n",
       "      <th>1687</th>\n",
       "      <td>2477358756</td>\n",
       "      <td>1</td>\n",
       "    </tr>\n",
       "    <tr>\n",
       "      <th>1941</th>\n",
       "      <td>2478954008</td>\n",
       "      <td>1</td>\n",
       "    </tr>\n",
       "    <tr>\n",
       "      <th>1791</th>\n",
       "      <td>2478994965</td>\n",
       "      <td>1</td>\n",
       "    </tr>\n",
       "    <tr>\n",
       "      <th>201</th>\n",
       "      <td>2485726615</td>\n",
       "      <td>1</td>\n",
       "    </tr>\n",
       "    <tr>\n",
       "      <th>104</th>\n",
       "      <td>2491964094</td>\n",
       "      <td>1</td>\n",
       "    </tr>\n",
       "    <tr>\n",
       "      <th>1955</th>\n",
       "      <td>2492223163</td>\n",
       "      <td>1</td>\n",
       "    </tr>\n",
       "    <tr>\n",
       "      <th>1515</th>\n",
       "      <td>2496991548</td>\n",
       "      <td>1</td>\n",
       "    </tr>\n",
       "    <tr>\n",
       "      <th>2004</th>\n",
       "      <td>2499936273</td>\n",
       "      <td>1</td>\n",
       "    </tr>\n",
       "    <tr>\n",
       "      <th>837</th>\n",
       "      <td>2500573885</td>\n",
       "      <td>1</td>\n",
       "    </tr>\n",
       "    <tr>\n",
       "      <th>734</th>\n",
       "      <td>2502499914</td>\n",
       "      <td>1</td>\n",
       "    </tr>\n",
       "    <tr>\n",
       "      <th>1837</th>\n",
       "      <td>2505220368</td>\n",
       "      <td>1</td>\n",
       "    </tr>\n",
       "    <tr>\n",
       "      <th>960</th>\n",
       "      <td>2511274210</td>\n",
       "      <td>1</td>\n",
       "    </tr>\n",
       "    <tr>\n",
       "      <th>2107</th>\n",
       "      <td>2517885577</td>\n",
       "      <td>1</td>\n",
       "    </tr>\n",
       "    <tr>\n",
       "      <th>1848</th>\n",
       "      <td>2519552569</td>\n",
       "      <td>1</td>\n",
       "    </tr>\n",
       "    <tr>\n",
       "      <th>465</th>\n",
       "      <td>2521149576</td>\n",
       "      <td>1</td>\n",
       "    </tr>\n",
       "    <tr>\n",
       "      <th>405</th>\n",
       "      <td>2521541502</td>\n",
       "      <td>1</td>\n",
       "    </tr>\n",
       "  </tbody>\n",
       "</table>\n",
       "<p>2278 rows × 2 columns</p>\n",
       "</div>"
      ],
      "text/plain": [
       "          UserID  Class\n",
       "256      1329901      0\n",
       "1022     1366631      0\n",
       "2240     1449381      1\n",
       "1878     2091441      0\n",
       "1663     2234711      0\n",
       "999      2284131      0\n",
       "1720     2311561      1\n",
       "1474    10084232      0\n",
       "426     10252572      0\n",
       "1981    10323562      0\n",
       "439     10398432      0\n",
       "1308    11187462      0\n",
       "1256    11262452      0\n",
       "1705    11775252      0\n",
       "1811    12625172      0\n",
       "922     12626212      0\n",
       "895     12912542      0\n",
       "2239    13178042      0\n",
       "1887    13424892      0\n",
       "1391    13590092      0\n",
       "538     13950552      0\n",
       "1188    14066645      0\n",
       "698     14068330      0\n",
       "1444    14181258      0\n",
       "1403    14203214      0\n",
       "721     14218572      0\n",
       "1390    14236952      0\n",
       "1331    14258464      0\n",
       "2110    14270791      0\n",
       "994     14279357      1\n",
       "...          ...    ...\n",
       "4     2450904662      1\n",
       "1600  2456208713      1\n",
       "1866  2457432540      1\n",
       "1404  2457530775      1\n",
       "525   2459080064      1\n",
       "780   2459820090      1\n",
       "1892  2460397632      1\n",
       "1488  2460416054      1\n",
       "350   2461802192      1\n",
       "1547  2464727010      1\n",
       "1069  2466391962      1\n",
       "1625  2466590053      1\n",
       "1939  2469584466      1\n",
       "2175  2477178937      1\n",
       "1687  2477358756      1\n",
       "1941  2478954008      1\n",
       "1791  2478994965      1\n",
       "201   2485726615      1\n",
       "104   2491964094      1\n",
       "1955  2492223163      1\n",
       "1515  2496991548      1\n",
       "2004  2499936273      1\n",
       "837   2500573885      1\n",
       "734   2502499914      1\n",
       "1837  2505220368      1\n",
       "960   2511274210      1\n",
       "2107  2517885577      1\n",
       "1848  2519552569      1\n",
       "465   2521149576      1\n",
       "405   2521541502      1\n",
       "\n",
       "[2278 rows x 2 columns]"
      ]
     },
     "execution_count": 55,
     "metadata": {},
     "output_type": "execute_result"
    }
   ],
   "source": [
    "data_merge_1 = data_merge.iloc[:,[0,1]]\n",
    "data_merge_2 = data_merge_1.sort_values(\"UserID\")\n",
    "data_merge_2"
   ]
  },
  {
   "cell_type": "code",
   "execution_count": 56,
   "metadata": {},
   "outputs": [
    {
     "data": {
      "text/plain": [
       "(2278, 2)"
      ]
     },
     "execution_count": 56,
     "metadata": {},
     "output_type": "execute_result"
    }
   ],
   "source": [
    "data_merge_2.shape"
   ]
  },
  {
   "cell_type": "code",
   "execution_count": 71,
   "metadata": {
    "collapsed": true
   },
   "outputs": [],
   "source": [
    "#### Confusion Matrix"
   ]
  },
  {
   "cell_type": "code",
   "execution_count": 57,
   "metadata": {
    "collapsed": true
   },
   "outputs": [],
   "source": [
    "import sklearn.metrics as metrics\n"
   ]
  },
  {
   "cell_type": "code",
   "execution_count": 58,
   "metadata": {},
   "outputs": [
    {
     "name": "stdout",
     "output_type": "stream",
     "text": [
      "[[999 389]\n",
      " [736 154]]\n"
     ]
    }
   ],
   "source": [
    "confusion_kmeans = metrics.confusion_matrix(data_merge_2.Class, kmeans_labels_2, labels=[0,1])  \n",
    "print(confusion_kmeans)"
   ]
  },
  {
   "cell_type": "code",
   "execution_count": 60,
   "metadata": {},
   "outputs": [
    {
     "data": {
      "text/plain": [
       "0.46163850878852408"
      ]
     },
     "execution_count": 60,
     "metadata": {},
     "output_type": "execute_result"
    }
   ],
   "source": [
    "metrics.precision_score(data_merge_2.Class, kmeans_labels_2, average='weighted')"
   ]
  },
  {
   "cell_type": "code",
   "execution_count": 61,
   "metadata": {},
   "outputs": [
    {
     "data": {
      "text/plain": [
       "0.50614574187884109"
      ]
     },
     "execution_count": 61,
     "metadata": {},
     "output_type": "execute_result"
    }
   ],
   "source": [
    "metrics.recall_score(data_merge_2.Class, kmeans_labels_2, average='weighted')"
   ]
  },
  {
   "cell_type": "code",
   "execution_count": 62,
   "metadata": {},
   "outputs": [
    {
     "data": {
      "text/plain": [
       "0.47378884894929313"
      ]
     },
     "execution_count": 62,
     "metadata": {},
     "output_type": "execute_result"
    }
   ],
   "source": [
    "metrics.f1_score(data_merge_2.Class, kmeans_labels_2, average= 'weighted')"
   ]
  },
  {
   "cell_type": "code",
   "execution_count": 63,
   "metadata": {},
   "outputs": [
    {
     "name": "stdout",
     "output_type": "stream",
     "text": [
      "[[664 724]\n",
      " [415 475]]\n"
     ]
    }
   ],
   "source": [
    "confusion_ag_ward = metrics.confusion_matrix(data_merge_2.Class,aglo_ward, labels=[0,1])  \n",
    "print(confusion_ag_ward)"
   ]
  },
  {
   "cell_type": "code",
   "execution_count": 64,
   "metadata": {},
   "outputs": [
    {
     "data": {
      "text/plain": [
       "0.52973631872714444"
      ]
     },
     "execution_count": 64,
     "metadata": {},
     "output_type": "execute_result"
    }
   ],
   "source": [
    "metrics.precision_score(data_merge_2.Class, aglo_ward, average='weighted')"
   ]
  },
  {
   "cell_type": "code",
   "execution_count": 65,
   "metadata": {},
   "outputs": [
    {
     "data": {
      "text/plain": [
       "0.5"
      ]
     },
     "execution_count": 65,
     "metadata": {},
     "output_type": "execute_result"
    }
   ],
   "source": [
    "metrics.recall_score(data_merge_2.Class, aglo_ward, average='weighted')"
   ]
  },
  {
   "cell_type": "code",
   "execution_count": 66,
   "metadata": {},
   "outputs": [
    {
     "data": {
      "text/plain": [
       "0.50566607995284041"
      ]
     },
     "execution_count": 66,
     "metadata": {},
     "output_type": "execute_result"
    }
   ],
   "source": [
    "metrics.f1_score(data_merge_2.Class, aglo_ward, average= 'weighted')"
   ]
  },
  {
   "cell_type": "code",
   "execution_count": 67,
   "metadata": {},
   "outputs": [
    {
     "name": "stdout",
     "output_type": "stream",
     "text": [
      "[[1386    2]\n",
      " [ 890    0]]\n"
     ]
    }
   ],
   "source": [
    "confusion_ag_complete = metrics.confusion_matrix(data_merge_2.Class,aglo_complete, labels=[0,1])  \n",
    "print(confusion_ag_complete)"
   ]
  },
  {
   "cell_type": "code",
   "execution_count": 68,
   "metadata": {},
   "outputs": [
    {
     "data": {
      "text/plain": [
       "0.37104511557790498"
      ]
     },
     "execution_count": 68,
     "metadata": {},
     "output_type": "execute_result"
    }
   ],
   "source": [
    "metrics.precision_score(data_merge_2.Class, aglo_complete, average='weighted')"
   ]
  },
  {
   "cell_type": "code",
   "execution_count": 69,
   "metadata": {},
   "outputs": [
    {
     "data": {
      "text/plain": [
       "0.6084284460052678"
      ]
     },
     "execution_count": 69,
     "metadata": {},
     "output_type": "execute_result"
    }
   ],
   "source": [
    "metrics.recall_score(data_merge_2.Class, aglo_complete, average='weighted')"
   ]
  },
  {
   "cell_type": "code",
   "execution_count": 70,
   "metadata": {},
   "outputs": [
    {
     "data": {
      "text/plain": [
       "0.46097089686425302"
      ]
     },
     "execution_count": 70,
     "metadata": {},
     "output_type": "execute_result"
    }
   ],
   "source": [
    "metrics.f1_score(data_merge_2.Class, aglo_complete, average= 'weighted')"
   ]
  },
  {
   "cell_type": "code",
   "execution_count": null,
   "metadata": {
    "collapsed": true
   },
   "outputs": [],
   "source": []
  }
 ],
 "metadata": {
  "kernelspec": {
   "display_name": "Python 3",
   "language": "python",
   "name": "python3"
  },
  "language_info": {
   "codemirror_mode": {
    "name": "ipython",
    "version": 3
   },
   "file_extension": ".py",
   "mimetype": "text/x-python",
   "name": "python",
   "nbconvert_exporter": "python",
   "pygments_lexer": "ipython3",
   "version": "3.6.3"
  }
 },
 "nbformat": 4,
 "nbformat_minor": 2
}
